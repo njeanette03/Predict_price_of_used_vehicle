{
 "cells": [
  {
   "cell_type": "markdown",
   "id": "5c603566",
   "metadata": {
    "papermill": {
     "duration": 0.032229,
     "end_time": "2024-06-22T23:12:40.847432",
     "exception": false,
     "start_time": "2024-06-22T23:12:40.815203",
     "status": "completed"
    },
    "tags": []
   },
   "source": [
    "# Overview\n",
    "In this notebook, I predict the price of a used vehicle.\n",
    "\n",
    "Submissions are scored on the root mean squared error. \n",
    "\n",
    "For each id in the test set, the price of the car is predicted. "
   ]
  },
  {
   "cell_type": "markdown",
   "id": "6ca33599",
   "metadata": {
    "papermill": {
     "duration": 0.029095,
     "end_time": "2024-06-22T23:12:40.906791",
     "exception": false,
     "start_time": "2024-06-22T23:12:40.877696",
     "status": "completed"
    },
    "tags": []
   },
   "source": [
    "# Data Collection"
   ]
  },
  {
   "cell_type": "markdown",
   "id": "257d7412",
   "metadata": {
    "papermill": {
     "duration": 0.029498,
     "end_time": "2024-06-22T23:12:40.966569",
     "exception": false,
     "start_time": "2024-06-22T23:12:40.937071",
     "status": "completed"
    },
    "tags": []
   },
   "source": [
    "The dataset for this competition (both train and test) was generated from a deep learning model fine-tuned on the Used Car Price Prediction Dataset dataset. \n",
    "\n",
    "\n",
    "*  **id**            : The id associated with the car.\n",
    "*  **brand**         : Brand or company name.\n",
    "*  **model**         : Specific model.\n",
    "*  **model_year**    : Year of manufacturing.\n",
    "*  **milage**        : The mileage of each vehicle.\n",
    "*  **fuel_type**     : Type of fuel the vehicles run on. (gasoline, diesel, electric, or hybrid)\n",
    "*  **engine**        : Type of engine.\n",
    "*  **transmission**  : The transmission type. (Automatic / Manual)\n",
    "*  **ext_col**       : Exterior color.\n",
    "*  **int_col**       : Interior color.\n",
    "*  **accident**      : Accident history.\n",
    "*  **clean_title**   : A clean title tells you a vehicle has never been declared a total loss.\n",
    "*  **price**         : Price listed by the seller.\n",
    "\n"
   ]
  },
  {
   "cell_type": "markdown",
   "id": "4f3e7efc",
   "metadata": {
    "papermill": {
     "duration": 0.030505,
     "end_time": "2024-06-22T23:12:41.026037",
     "exception": false,
     "start_time": "2024-06-22T23:12:40.995532",
     "status": "completed"
    },
    "tags": []
   },
   "source": [
    "## Install Libraries and Load Dataset"
   ]
  },
  {
   "cell_type": "code",
   "execution_count": 1,
   "id": "dd61fe57",
   "metadata": {
    "execution": {
     "iopub.execute_input": "2024-06-22T23:12:41.086045Z",
     "iopub.status.busy": "2024-06-22T23:12:41.085650Z",
     "iopub.status.idle": "2024-06-22T23:13:24.836584Z",
     "shell.execute_reply": "2024-06-22T23:13:24.835350Z"
    },
    "papermill": {
     "duration": 43.784328,
     "end_time": "2024-06-22T23:13:24.839227",
     "exception": false,
     "start_time": "2024-06-22T23:12:41.054899",
     "status": "completed"
    },
    "tags": []
   },
   "outputs": [
    {
     "name": "stdout",
     "output_type": "stream",
     "text": [
      "Requirement already satisfied: scikit-learn in /opt/conda/lib/python3.10/site-packages (1.2.2)\r\n",
      "Collecting scikit-learn\r\n",
      "  Downloading scikit_learn-1.5.0-cp310-cp310-manylinux_2_17_x86_64.manylinux2014_x86_64.whl.metadata (11 kB)\r\n",
      "Requirement already satisfied: numpy>=1.19.5 in /opt/conda/lib/python3.10/site-packages (from scikit-learn) (1.26.4)\r\n",
      "Requirement already satisfied: scipy>=1.6.0 in /opt/conda/lib/python3.10/site-packages (from scikit-learn) (1.11.4)\r\n",
      "Requirement already satisfied: joblib>=1.2.0 in /opt/conda/lib/python3.10/site-packages (from scikit-learn) (1.4.2)\r\n",
      "Requirement already satisfied: threadpoolctl>=3.1.0 in /opt/conda/lib/python3.10/site-packages (from scikit-learn) (3.2.0)\r\n",
      "Downloading scikit_learn-1.5.0-cp310-cp310-manylinux_2_17_x86_64.manylinux2014_x86_64.whl (13.3 MB)\r\n",
      "\u001b[2K   \u001b[90m━━━━━━━━━━━━━━━━━━━━━━━━━━━━━━━━━━━━━━━━\u001b[0m \u001b[32m13.3/13.3 MB\u001b[0m \u001b[31m75.0 MB/s\u001b[0m eta \u001b[36m0:00:00\u001b[0m\r\n",
      "\u001b[?25hInstalling collected packages: scikit-learn\r\n",
      "  Attempting uninstall: scikit-learn\r\n",
      "    Found existing installation: scikit-learn 1.2.2\r\n",
      "    Uninstalling scikit-learn-1.2.2:\r\n",
      "      Successfully uninstalled scikit-learn-1.2.2\r\n",
      "\u001b[31mERROR: pip's dependency resolver does not currently take into account all the packages that are installed. This behaviour is the source of the following dependency conflicts.\r\n",
      "spopt 0.6.0 requires shapely>=2.0.1, but you have shapely 1.8.5.post1 which is incompatible.\u001b[0m\u001b[31m\r\n",
      "\u001b[0mSuccessfully installed scikit-learn-1.5.0\r\n",
      "Requirement already satisfied: catboost in /opt/conda/lib/python3.10/site-packages (1.2.5)\r\n",
      "Requirement already satisfied: graphviz in /opt/conda/lib/python3.10/site-packages (from catboost) (0.20.3)\r\n",
      "Requirement already satisfied: matplotlib in /opt/conda/lib/python3.10/site-packages (from catboost) (3.7.5)\r\n",
      "Requirement already satisfied: numpy>=1.16.0 in /opt/conda/lib/python3.10/site-packages (from catboost) (1.26.4)\r\n",
      "Requirement already satisfied: pandas>=0.24 in /opt/conda/lib/python3.10/site-packages (from catboost) (2.2.2)\r\n",
      "Requirement already satisfied: scipy in /opt/conda/lib/python3.10/site-packages (from catboost) (1.11.4)\r\n",
      "Requirement already satisfied: plotly in /opt/conda/lib/python3.10/site-packages (from catboost) (5.18.0)\r\n",
      "Requirement already satisfied: six in /opt/conda/lib/python3.10/site-packages (from catboost) (1.16.0)\r\n",
      "Requirement already satisfied: python-dateutil>=2.8.2 in /opt/conda/lib/python3.10/site-packages (from pandas>=0.24->catboost) (2.9.0.post0)\r\n",
      "Requirement already satisfied: pytz>=2020.1 in /opt/conda/lib/python3.10/site-packages (from pandas>=0.24->catboost) (2023.3.post1)\r\n",
      "Requirement already satisfied: tzdata>=2022.7 in /opt/conda/lib/python3.10/site-packages (from pandas>=0.24->catboost) (2023.4)\r\n",
      "Requirement already satisfied: contourpy>=1.0.1 in /opt/conda/lib/python3.10/site-packages (from matplotlib->catboost) (1.2.0)\r\n",
      "Requirement already satisfied: cycler>=0.10 in /opt/conda/lib/python3.10/site-packages (from matplotlib->catboost) (0.12.1)\r\n",
      "Requirement already satisfied: fonttools>=4.22.0 in /opt/conda/lib/python3.10/site-packages (from matplotlib->catboost) (4.47.0)\r\n",
      "Requirement already satisfied: kiwisolver>=1.0.1 in /opt/conda/lib/python3.10/site-packages (from matplotlib->catboost) (1.4.5)\r\n",
      "Requirement already satisfied: packaging>=20.0 in /opt/conda/lib/python3.10/site-packages (from matplotlib->catboost) (21.3)\r\n",
      "Requirement already satisfied: pillow>=6.2.0 in /opt/conda/lib/python3.10/site-packages (from matplotlib->catboost) (9.5.0)\r\n",
      "Requirement already satisfied: pyparsing>=2.3.1 in /opt/conda/lib/python3.10/site-packages (from matplotlib->catboost) (3.1.1)\r\n",
      "Requirement already satisfied: tenacity>=6.2.0 in /opt/conda/lib/python3.10/site-packages (from plotly->catboost) (8.2.3)\r\n",
      "Requirement already satisfied: xgboost in /opt/conda/lib/python3.10/site-packages (2.0.3)\r\n",
      "Requirement already satisfied: numpy in /opt/conda/lib/python3.10/site-packages (from xgboost) (1.26.4)\r\n",
      "Requirement already satisfied: scipy in /opt/conda/lib/python3.10/site-packages (from xgboost) (1.11.4)\r\n"
     ]
    }
   ],
   "source": [
    "# Install libraries\n",
    "!pip install -U scikit-learn\n",
    "!pip install catboost\n",
    "!pip install xgboost"
   ]
  },
  {
   "cell_type": "code",
   "execution_count": 2,
   "id": "afdf9591",
   "metadata": {
    "execution": {
     "iopub.execute_input": "2024-06-22T23:13:24.901562Z",
     "iopub.status.busy": "2024-06-22T23:13:24.901135Z",
     "iopub.status.idle": "2024-06-22T23:13:28.092563Z",
     "shell.execute_reply": "2024-06-22T23:13:28.091429Z"
    },
    "papermill": {
     "duration": 3.226079,
     "end_time": "2024-06-22T23:13:28.095308",
     "exception": false,
     "start_time": "2024-06-22T23:13:24.869229",
     "status": "completed"
    },
    "tags": []
   },
   "outputs": [],
   "source": [
    "# Load libraries\n",
    "import numpy as np\n",
    "import pandas as pd\n",
    "import matplotlib.pyplot as plt\n",
    "import seaborn as sns\n",
    "import re\n",
    "\n",
    "from catboost import CatBoostRegressor\n",
    "from sklearn.metrics import mean_squared_error,r2_score,mean_absolute_error,root_mean_squared_error\n",
    "from sklearn.linear_model import LinearRegression\n",
    "from sklearn.ensemble import RandomForestRegressor\n",
    "import xgboost as xgb\n",
    "from sklearn.neighbors import KNeighborsRegressor\n",
    "from sklearn.model_selection import train_test_split\n",
    "from sklearn.tree import DecisionTreeRegressor\n",
    "from sklearn.ensemble import GradientBoostingRegressor\n",
    "from sklearn.svm import SVR\n",
    "from sklearn.neural_network import MLPRegressor\n",
    "\n",
    "import xgboost as xgb\n",
    "\n",
    "from sklearn.preprocessing import StandardScaler\n",
    "from sklearn.pipeline import make_pipeline\n",
    "\n",
    "from scipy.stats import norm\n",
    "from sklearn.preprocessing import StandardScaler\n",
    "from sklearn.preprocessing import OneHotEncoder\n",
    "from scipy import stats\n",
    "from scipy.sparse import hstack\n",
    "\n",
    "from matplotlib.ticker import ScalarFormatter\n",
    "\n",
    "\n",
    "# Suppress warnings\n",
    "import warnings\n",
    "warnings.filterwarnings(\"ignore\")\n",
    "%matplotlib inline"
   ]
  },
  {
   "cell_type": "code",
   "execution_count": 3,
   "id": "17ce8075",
   "metadata": {
    "execution": {
     "iopub.execute_input": "2024-06-22T23:13:28.220930Z",
     "iopub.status.busy": "2024-06-22T23:13:28.219681Z",
     "iopub.status.idle": "2024-06-22T23:13:28.679904Z",
     "shell.execute_reply": "2024-06-22T23:13:28.678856Z"
    },
    "papermill": {
     "duration": 0.494721,
     "end_time": "2024-06-22T23:13:28.682692",
     "exception": false,
     "start_time": "2024-06-22T23:13:28.187971",
     "status": "completed"
    },
    "tags": []
   },
   "outputs": [],
   "source": [
    "# Load data\n",
    "train = pd.read_csv(\"/kaggle/input/d/njeanette/kagglex-cohort4/kagglex-cohort4/train.csv\")\n",
    "test = pd.read_csv(\"/kaggle/input/d/njeanette/kagglex-cohort4/kagglex-cohort4/test.csv\")\n",
    "submission = pd.read_csv(\"/kaggle/input/d/njeanette/kagglex-cohort4/kagglex-cohort4/sample_submission.csv\")"
   ]
  },
  {
   "cell_type": "markdown",
   "id": "c6a25cf6",
   "metadata": {
    "papermill": {
     "duration": 0.030139,
     "end_time": "2024-06-22T23:13:28.745000",
     "exception": false,
     "start_time": "2024-06-22T23:13:28.714861",
     "status": "completed"
    },
    "tags": []
   },
   "source": [
    "## Data Exploration"
   ]
  },
  {
   "cell_type": "markdown",
   "id": "20d868b0",
   "metadata": {
    "papermill": {
     "duration": 0.030154,
     "end_time": "2024-06-22T23:13:28.805523",
     "exception": false,
     "start_time": "2024-06-22T23:13:28.775369",
     "status": "completed"
    },
    "tags": []
   },
   "source": [
    "I explore the data to understand the various columns and how useful each columns is. Observations include 13 columns, which some may need to be converted to different and appropriate dtypes:\n",
    "\n",
    "**Numerical**: id, model_year, milage, and price (in test dataset only).\n",
    "\n",
    "**Categorical**: brand, model, fuel_type, engine, transmission, ext_col, int_col, accident, and clean_title.\n",
    "\n",
    "We will use the column 'id' to predict our target variable 'price'.\n",
    "\n",
    "Categorical columns will need to be converted to dummy variables before being used in our model.\n"
   ]
  },
  {
   "cell_type": "code",
   "execution_count": 4,
   "id": "d444603c",
   "metadata": {
    "execution": {
     "iopub.execute_input": "2024-06-22T23:13:28.868063Z",
     "iopub.status.busy": "2024-06-22T23:13:28.867678Z",
     "iopub.status.idle": "2024-06-22T23:13:28.875452Z",
     "shell.execute_reply": "2024-06-22T23:13:28.874410Z"
    },
    "papermill": {
     "duration": 0.041832,
     "end_time": "2024-06-22T23:13:28.877805",
     "exception": false,
     "start_time": "2024-06-22T23:13:28.835973",
     "status": "completed"
    },
    "tags": []
   },
   "outputs": [
    {
     "data": {
      "text/plain": [
       "(54273, 13)"
      ]
     },
     "execution_count": 4,
     "metadata": {},
     "output_type": "execute_result"
    }
   ],
   "source": [
    "# Check data shape\n",
    "train.shape"
   ]
  },
  {
   "cell_type": "code",
   "execution_count": 5,
   "id": "8ee6ca2b",
   "metadata": {
    "execution": {
     "iopub.execute_input": "2024-06-22T23:13:28.941704Z",
     "iopub.status.busy": "2024-06-22T23:13:28.941315Z",
     "iopub.status.idle": "2024-06-22T23:13:28.947889Z",
     "shell.execute_reply": "2024-06-22T23:13:28.946891Z"
    },
    "papermill": {
     "duration": 0.040681,
     "end_time": "2024-06-22T23:13:28.950004",
     "exception": false,
     "start_time": "2024-06-22T23:13:28.909323",
     "status": "completed"
    },
    "tags": []
   },
   "outputs": [
    {
     "data": {
      "text/plain": [
       "(36183, 12)"
      ]
     },
     "execution_count": 5,
     "metadata": {},
     "output_type": "execute_result"
    }
   ],
   "source": [
    "test.shape"
   ]
  },
  {
   "cell_type": "code",
   "execution_count": 6,
   "id": "a061f9b2",
   "metadata": {
    "execution": {
     "iopub.execute_input": "2024-06-22T23:13:29.015554Z",
     "iopub.status.busy": "2024-06-22T23:13:29.014590Z",
     "iopub.status.idle": "2024-06-22T23:13:29.081188Z",
     "shell.execute_reply": "2024-06-22T23:13:29.080089Z"
    },
    "papermill": {
     "duration": 0.10285,
     "end_time": "2024-06-22T23:13:29.083583",
     "exception": false,
     "start_time": "2024-06-22T23:13:28.980733",
     "status": "completed"
    },
    "tags": []
   },
   "outputs": [
    {
     "data": {
      "text/plain": [
       "0"
      ]
     },
     "execution_count": 6,
     "metadata": {},
     "output_type": "execute_result"
    }
   ],
   "source": [
    "# Check duplicates\n",
    "train.duplicated().sum()"
   ]
  },
  {
   "cell_type": "code",
   "execution_count": 7,
   "id": "fa92238f",
   "metadata": {
    "execution": {
     "iopub.execute_input": "2024-06-22T23:13:29.148608Z",
     "iopub.status.busy": "2024-06-22T23:13:29.148177Z",
     "iopub.status.idle": "2024-06-22T23:13:29.155366Z",
     "shell.execute_reply": "2024-06-22T23:13:29.154260Z"
    },
    "papermill": {
     "duration": 0.041604,
     "end_time": "2024-06-22T23:13:29.157572",
     "exception": false,
     "start_time": "2024-06-22T23:13:29.115968",
     "status": "completed"
    },
    "tags": []
   },
   "outputs": [
    {
     "name": "stdout",
     "output_type": "stream",
     "text": [
      "Categorical columns:  ['brand', 'model', 'fuel_type', 'engine', 'transmission', 'ext_col', 'int_col', 'accident', 'clean_title']\n",
      "Numerical columns:  ['id', 'model_year', 'milage', 'price']\n"
     ]
    }
   ],
   "source": [
    "# Check data types\n",
    "# Print out different data types\n",
    "\n",
    "# Categorical columns\n",
    "cat_col = [col for col in train.columns if train[col].dtype == 'object']\n",
    "print('Categorical columns: ',cat_col)\n",
    "# Numerical columns\n",
    "num_col = [col for col in train.columns if train[col].dtype != 'object']\n",
    "print('Numerical columns: ',num_col)"
   ]
  },
  {
   "cell_type": "code",
   "execution_count": 8,
   "id": "87c2bf29",
   "metadata": {
    "execution": {
     "iopub.execute_input": "2024-06-22T23:13:29.223425Z",
     "iopub.status.busy": "2024-06-22T23:13:29.223012Z",
     "iopub.status.idle": "2024-06-22T23:13:29.230423Z",
     "shell.execute_reply": "2024-06-22T23:13:29.229327Z"
    },
    "papermill": {
     "duration": 0.042909,
     "end_time": "2024-06-22T23:13:29.232536",
     "exception": false,
     "start_time": "2024-06-22T23:13:29.189627",
     "status": "completed"
    },
    "tags": []
   },
   "outputs": [
    {
     "name": "stdout",
     "output_type": "stream",
     "text": [
      "Categorical columns:  ['brand', 'model', 'fuel_type', 'engine', 'transmission', 'ext_col', 'int_col', 'accident', 'clean_title']\n",
      "Numerical columns:  ['id', 'model_year', 'milage']\n"
     ]
    }
   ],
   "source": [
    "# Print out different data types\n",
    "\n",
    "# Categorical columns\n",
    "cat_col = [col for col in test.columns if test[col].dtype == 'object']\n",
    "print('Categorical columns: ',cat_col)\n",
    "# Numerical columns\n",
    "num_col = [col for col in test.columns if test[col].dtype != 'object']\n",
    "print('Numerical columns: ',num_col)"
   ]
  },
  {
   "cell_type": "code",
   "execution_count": 9,
   "id": "2f472803",
   "metadata": {
    "execution": {
     "iopub.execute_input": "2024-06-22T23:13:29.300974Z",
     "iopub.status.busy": "2024-06-22T23:13:29.300020Z",
     "iopub.status.idle": "2024-06-22T23:13:29.321721Z",
     "shell.execute_reply": "2024-06-22T23:13:29.320484Z"
    },
    "papermill": {
     "duration": 0.060627,
     "end_time": "2024-06-22T23:13:29.324425",
     "exception": false,
     "start_time": "2024-06-22T23:13:29.263798",
     "status": "completed"
    },
    "tags": []
   },
   "outputs": [
    {
     "data": {
      "text/html": [
       "<div>\n",
       "<style scoped>\n",
       "    .dataframe tbody tr th:only-of-type {\n",
       "        vertical-align: middle;\n",
       "    }\n",
       "\n",
       "    .dataframe tbody tr th {\n",
       "        vertical-align: top;\n",
       "    }\n",
       "\n",
       "    .dataframe thead th {\n",
       "        text-align: right;\n",
       "    }\n",
       "</style>\n",
       "<table border=\"1\" class=\"dataframe\">\n",
       "  <thead>\n",
       "    <tr style=\"text-align: right;\">\n",
       "      <th></th>\n",
       "      <th>id</th>\n",
       "      <th>brand</th>\n",
       "      <th>model</th>\n",
       "      <th>model_year</th>\n",
       "      <th>milage</th>\n",
       "      <th>fuel_type</th>\n",
       "      <th>engine</th>\n",
       "      <th>transmission</th>\n",
       "      <th>ext_col</th>\n",
       "      <th>int_col</th>\n",
       "      <th>accident</th>\n",
       "      <th>clean_title</th>\n",
       "      <th>price</th>\n",
       "    </tr>\n",
       "  </thead>\n",
       "  <tbody>\n",
       "    <tr>\n",
       "      <th>0</th>\n",
       "      <td>0</td>\n",
       "      <td>Ford</td>\n",
       "      <td>F-150 Lariat</td>\n",
       "      <td>2018</td>\n",
       "      <td>74349</td>\n",
       "      <td>Gasoline</td>\n",
       "      <td>375.0HP 3.5L V6 Cylinder Engine Gasoline Fuel</td>\n",
       "      <td>10-Speed A/T</td>\n",
       "      <td>Blue</td>\n",
       "      <td>Gray</td>\n",
       "      <td>None reported</td>\n",
       "      <td>Yes</td>\n",
       "      <td>11000</td>\n",
       "    </tr>\n",
       "    <tr>\n",
       "      <th>1</th>\n",
       "      <td>1</td>\n",
       "      <td>BMW</td>\n",
       "      <td>335 i</td>\n",
       "      <td>2007</td>\n",
       "      <td>80000</td>\n",
       "      <td>Gasoline</td>\n",
       "      <td>300.0HP 3.0L Straight 6 Cylinder Engine Gasoli...</td>\n",
       "      <td>6-Speed M/T</td>\n",
       "      <td>Black</td>\n",
       "      <td>Black</td>\n",
       "      <td>None reported</td>\n",
       "      <td>Yes</td>\n",
       "      <td>8250</td>\n",
       "    </tr>\n",
       "    <tr>\n",
       "      <th>2</th>\n",
       "      <td>2</td>\n",
       "      <td>Jaguar</td>\n",
       "      <td>XF Luxury</td>\n",
       "      <td>2009</td>\n",
       "      <td>91491</td>\n",
       "      <td>Gasoline</td>\n",
       "      <td>300.0HP 4.2L 8 Cylinder Engine Gasoline Fuel</td>\n",
       "      <td>6-Speed A/T</td>\n",
       "      <td>Purple</td>\n",
       "      <td>Beige</td>\n",
       "      <td>None reported</td>\n",
       "      <td>Yes</td>\n",
       "      <td>15000</td>\n",
       "    </tr>\n",
       "    <tr>\n",
       "      <th>3</th>\n",
       "      <td>3</td>\n",
       "      <td>BMW</td>\n",
       "      <td>X7 xDrive40i</td>\n",
       "      <td>2022</td>\n",
       "      <td>2437</td>\n",
       "      <td>Hybrid</td>\n",
       "      <td>335.0HP 3.0L Straight 6 Cylinder Engine Gasoli...</td>\n",
       "      <td>Transmission w/Dual Shift Mode</td>\n",
       "      <td>Gray</td>\n",
       "      <td>Brown</td>\n",
       "      <td>None reported</td>\n",
       "      <td>Yes</td>\n",
       "      <td>63500</td>\n",
       "    </tr>\n",
       "    <tr>\n",
       "      <th>4</th>\n",
       "      <td>4</td>\n",
       "      <td>Pontiac</td>\n",
       "      <td>Firebird Base</td>\n",
       "      <td>2001</td>\n",
       "      <td>111000</td>\n",
       "      <td>Gasoline</td>\n",
       "      <td>200.0HP 3.8L V6 Cylinder Engine Gasoline Fuel</td>\n",
       "      <td>A/T</td>\n",
       "      <td>White</td>\n",
       "      <td>Black</td>\n",
       "      <td>None reported</td>\n",
       "      <td>Yes</td>\n",
       "      <td>7850</td>\n",
       "    </tr>\n",
       "  </tbody>\n",
       "</table>\n",
       "</div>"
      ],
      "text/plain": [
       "   id    brand          model  model_year  milage fuel_type  \\\n",
       "0   0     Ford   F-150 Lariat        2018   74349  Gasoline   \n",
       "1   1      BMW          335 i        2007   80000  Gasoline   \n",
       "2   2   Jaguar      XF Luxury        2009   91491  Gasoline   \n",
       "3   3      BMW   X7 xDrive40i        2022    2437    Hybrid   \n",
       "4   4  Pontiac  Firebird Base        2001  111000  Gasoline   \n",
       "\n",
       "                                              engine  \\\n",
       "0      375.0HP 3.5L V6 Cylinder Engine Gasoline Fuel   \n",
       "1  300.0HP 3.0L Straight 6 Cylinder Engine Gasoli...   \n",
       "2       300.0HP 4.2L 8 Cylinder Engine Gasoline Fuel   \n",
       "3  335.0HP 3.0L Straight 6 Cylinder Engine Gasoli...   \n",
       "4      200.0HP 3.8L V6 Cylinder Engine Gasoline Fuel   \n",
       "\n",
       "                     transmission ext_col int_col       accident clean_title  \\\n",
       "0                    10-Speed A/T    Blue    Gray  None reported         Yes   \n",
       "1                     6-Speed M/T   Black   Black  None reported         Yes   \n",
       "2                     6-Speed A/T  Purple   Beige  None reported         Yes   \n",
       "3  Transmission w/Dual Shift Mode    Gray   Brown  None reported         Yes   \n",
       "4                             A/T   White   Black  None reported         Yes   \n",
       "\n",
       "   price  \n",
       "0  11000  \n",
       "1   8250  \n",
       "2  15000  \n",
       "3  63500  \n",
       "4   7850  "
      ]
     },
     "execution_count": 9,
     "metadata": {},
     "output_type": "execute_result"
    }
   ],
   "source": [
    "# Look at data\n",
    "train.head()"
   ]
  },
  {
   "cell_type": "code",
   "execution_count": 10,
   "id": "748b2f21",
   "metadata": {
    "execution": {
     "iopub.execute_input": "2024-06-22T23:13:29.392763Z",
     "iopub.status.busy": "2024-06-22T23:13:29.391525Z",
     "iopub.status.idle": "2024-06-22T23:13:29.407488Z",
     "shell.execute_reply": "2024-06-22T23:13:29.406318Z"
    },
    "papermill": {
     "duration": 0.052972,
     "end_time": "2024-06-22T23:13:29.410002",
     "exception": false,
     "start_time": "2024-06-22T23:13:29.357030",
     "status": "completed"
    },
    "tags": []
   },
   "outputs": [
    {
     "data": {
      "text/html": [
       "<div>\n",
       "<style scoped>\n",
       "    .dataframe tbody tr th:only-of-type {\n",
       "        vertical-align: middle;\n",
       "    }\n",
       "\n",
       "    .dataframe tbody tr th {\n",
       "        vertical-align: top;\n",
       "    }\n",
       "\n",
       "    .dataframe thead th {\n",
       "        text-align: right;\n",
       "    }\n",
       "</style>\n",
       "<table border=\"1\" class=\"dataframe\">\n",
       "  <thead>\n",
       "    <tr style=\"text-align: right;\">\n",
       "      <th></th>\n",
       "      <th>id</th>\n",
       "      <th>brand</th>\n",
       "      <th>model</th>\n",
       "      <th>model_year</th>\n",
       "      <th>milage</th>\n",
       "      <th>fuel_type</th>\n",
       "      <th>engine</th>\n",
       "      <th>transmission</th>\n",
       "      <th>ext_col</th>\n",
       "      <th>int_col</th>\n",
       "      <th>accident</th>\n",
       "      <th>clean_title</th>\n",
       "    </tr>\n",
       "  </thead>\n",
       "  <tbody>\n",
       "    <tr>\n",
       "      <th>0</th>\n",
       "      <td>54273</td>\n",
       "      <td>Mercedes-Benz</td>\n",
       "      <td>E-Class E 350</td>\n",
       "      <td>2014</td>\n",
       "      <td>73000</td>\n",
       "      <td>Gasoline</td>\n",
       "      <td>302.0HP 3.5L V6 Cylinder Engine Gasoline Fuel</td>\n",
       "      <td>A/T</td>\n",
       "      <td>White</td>\n",
       "      <td>Beige</td>\n",
       "      <td>None reported</td>\n",
       "      <td>Yes</td>\n",
       "    </tr>\n",
       "    <tr>\n",
       "      <th>1</th>\n",
       "      <td>54274</td>\n",
       "      <td>Lexus</td>\n",
       "      <td>RX 350 Base</td>\n",
       "      <td>2015</td>\n",
       "      <td>128032</td>\n",
       "      <td>Gasoline</td>\n",
       "      <td>275.0HP 3.5L V6 Cylinder Engine Gasoline Fuel</td>\n",
       "      <td>8-Speed A/T</td>\n",
       "      <td>Silver</td>\n",
       "      <td>Black</td>\n",
       "      <td>None reported</td>\n",
       "      <td>Yes</td>\n",
       "    </tr>\n",
       "    <tr>\n",
       "      <th>2</th>\n",
       "      <td>54275</td>\n",
       "      <td>Mercedes-Benz</td>\n",
       "      <td>C-Class C 300</td>\n",
       "      <td>2015</td>\n",
       "      <td>51983</td>\n",
       "      <td>Gasoline</td>\n",
       "      <td>241.0HP 2.0L 4 Cylinder Engine Gasoline Fuel</td>\n",
       "      <td>7-Speed A/T</td>\n",
       "      <td>Blue</td>\n",
       "      <td>White</td>\n",
       "      <td>None reported</td>\n",
       "      <td>Yes</td>\n",
       "    </tr>\n",
       "    <tr>\n",
       "      <th>3</th>\n",
       "      <td>54276</td>\n",
       "      <td>Land</td>\n",
       "      <td>Rover Range Rover 5.0L Supercharged Autobiogra...</td>\n",
       "      <td>2018</td>\n",
       "      <td>29500</td>\n",
       "      <td>Gasoline</td>\n",
       "      <td>518.0HP 5.0L 8 Cylinder Engine Gasoline Fuel</td>\n",
       "      <td>Transmission w/Dual Shift Mode</td>\n",
       "      <td>White</td>\n",
       "      <td>White</td>\n",
       "      <td>At least 1 accident or damage reported</td>\n",
       "      <td>Yes</td>\n",
       "    </tr>\n",
       "    <tr>\n",
       "      <th>4</th>\n",
       "      <td>54277</td>\n",
       "      <td>BMW</td>\n",
       "      <td>X6 xDrive40i</td>\n",
       "      <td>2020</td>\n",
       "      <td>90000</td>\n",
       "      <td>Gasoline</td>\n",
       "      <td>335.0HP 3.0L Straight 6 Cylinder Engine Gasoli...</td>\n",
       "      <td>8-Speed A/T</td>\n",
       "      <td>White</td>\n",
       "      <td>Black</td>\n",
       "      <td>At least 1 accident or damage reported</td>\n",
       "      <td>Yes</td>\n",
       "    </tr>\n",
       "  </tbody>\n",
       "</table>\n",
       "</div>"
      ],
      "text/plain": [
       "      id          brand                                              model  \\\n",
       "0  54273  Mercedes-Benz                                      E-Class E 350   \n",
       "1  54274          Lexus                                        RX 350 Base   \n",
       "2  54275  Mercedes-Benz                                      C-Class C 300   \n",
       "3  54276           Land  Rover Range Rover 5.0L Supercharged Autobiogra...   \n",
       "4  54277            BMW                                       X6 xDrive40i   \n",
       "\n",
       "   model_year  milage fuel_type  \\\n",
       "0        2014   73000  Gasoline   \n",
       "1        2015  128032  Gasoline   \n",
       "2        2015   51983  Gasoline   \n",
       "3        2018   29500  Gasoline   \n",
       "4        2020   90000  Gasoline   \n",
       "\n",
       "                                              engine  \\\n",
       "0      302.0HP 3.5L V6 Cylinder Engine Gasoline Fuel   \n",
       "1      275.0HP 3.5L V6 Cylinder Engine Gasoline Fuel   \n",
       "2       241.0HP 2.0L 4 Cylinder Engine Gasoline Fuel   \n",
       "3       518.0HP 5.0L 8 Cylinder Engine Gasoline Fuel   \n",
       "4  335.0HP 3.0L Straight 6 Cylinder Engine Gasoli...   \n",
       "\n",
       "                     transmission ext_col int_col  \\\n",
       "0                             A/T   White   Beige   \n",
       "1                     8-Speed A/T  Silver   Black   \n",
       "2                     7-Speed A/T    Blue   White   \n",
       "3  Transmission w/Dual Shift Mode   White   White   \n",
       "4                     8-Speed A/T   White   Black   \n",
       "\n",
       "                                 accident clean_title  \n",
       "0                           None reported         Yes  \n",
       "1                           None reported         Yes  \n",
       "2                           None reported         Yes  \n",
       "3  At least 1 accident or damage reported         Yes  \n",
       "4  At least 1 accident or damage reported         Yes  "
      ]
     },
     "execution_count": 10,
     "metadata": {},
     "output_type": "execute_result"
    }
   ],
   "source": [
    "test.head()"
   ]
  },
  {
   "cell_type": "code",
   "execution_count": 11,
   "id": "6e897e7c",
   "metadata": {
    "execution": {
     "iopub.execute_input": "2024-06-22T23:13:29.477546Z",
     "iopub.status.busy": "2024-06-22T23:13:29.476682Z",
     "iopub.status.idle": "2024-06-22T23:13:29.508808Z",
     "shell.execute_reply": "2024-06-22T23:13:29.507739Z"
    },
    "papermill": {
     "duration": 0.068896,
     "end_time": "2024-06-22T23:13:29.511385",
     "exception": false,
     "start_time": "2024-06-22T23:13:29.442489",
     "status": "completed"
    },
    "tags": []
   },
   "outputs": [
    {
     "data": {
      "text/plain": [
       "id              0\n",
       "brand           0\n",
       "model           0\n",
       "model_year      0\n",
       "milage          0\n",
       "fuel_type       0\n",
       "engine          0\n",
       "transmission    0\n",
       "ext_col         0\n",
       "int_col         0\n",
       "accident        0\n",
       "clean_title     0\n",
       "price           0\n",
       "dtype: int64"
      ]
     },
     "execution_count": 11,
     "metadata": {},
     "output_type": "execute_result"
    }
   ],
   "source": [
    "# Look at missing data\n",
    "train.isnull().sum()"
   ]
  },
  {
   "cell_type": "code",
   "execution_count": 12,
   "id": "490b4679",
   "metadata": {
    "execution": {
     "iopub.execute_input": "2024-06-22T23:13:29.577557Z",
     "iopub.status.busy": "2024-06-22T23:13:29.576553Z",
     "iopub.status.idle": "2024-06-22T23:13:29.600591Z",
     "shell.execute_reply": "2024-06-22T23:13:29.599498Z"
    },
    "papermill": {
     "duration": 0.059221,
     "end_time": "2024-06-22T23:13:29.602795",
     "exception": false,
     "start_time": "2024-06-22T23:13:29.543574",
     "status": "completed"
    },
    "tags": []
   },
   "outputs": [
    {
     "data": {
      "text/plain": [
       "id              0\n",
       "brand           0\n",
       "model           0\n",
       "model_year      0\n",
       "milage          0\n",
       "fuel_type       0\n",
       "engine          0\n",
       "transmission    0\n",
       "ext_col         0\n",
       "int_col         0\n",
       "accident        0\n",
       "clean_title     0\n",
       "dtype: int64"
      ]
     },
     "execution_count": 12,
     "metadata": {},
     "output_type": "execute_result"
    }
   ],
   "source": [
    "test.isnull().sum()"
   ]
  },
  {
   "cell_type": "code",
   "execution_count": 13,
   "id": "23de8aa1",
   "metadata": {
    "execution": {
     "iopub.execute_input": "2024-06-22T23:13:29.669706Z",
     "iopub.status.busy": "2024-06-22T23:13:29.668498Z",
     "iopub.status.idle": "2024-06-22T23:13:29.707447Z",
     "shell.execute_reply": "2024-06-22T23:13:29.706405Z"
    },
    "papermill": {
     "duration": 0.074681,
     "end_time": "2024-06-22T23:13:29.709904",
     "exception": false,
     "start_time": "2024-06-22T23:13:29.635223",
     "status": "completed"
    },
    "tags": []
   },
   "outputs": [
    {
     "data": {
      "text/html": [
       "<div>\n",
       "<style scoped>\n",
       "    .dataframe tbody tr th:only-of-type {\n",
       "        vertical-align: middle;\n",
       "    }\n",
       "\n",
       "    .dataframe tbody tr th {\n",
       "        vertical-align: top;\n",
       "    }\n",
       "\n",
       "    .dataframe thead th {\n",
       "        text-align: right;\n",
       "    }\n",
       "</style>\n",
       "<table border=\"1\" class=\"dataframe\">\n",
       "  <thead>\n",
       "    <tr style=\"text-align: right;\">\n",
       "      <th></th>\n",
       "      <th>count</th>\n",
       "      <th>mean</th>\n",
       "      <th>std</th>\n",
       "      <th>min</th>\n",
       "      <th>25%</th>\n",
       "      <th>50%</th>\n",
       "      <th>75%</th>\n",
       "      <th>max</th>\n",
       "    </tr>\n",
       "  </thead>\n",
       "  <tbody>\n",
       "    <tr>\n",
       "      <th>id</th>\n",
       "      <td>54273.0</td>\n",
       "      <td>27136.000000</td>\n",
       "      <td>15667.409917</td>\n",
       "      <td>0.0</td>\n",
       "      <td>13568.0</td>\n",
       "      <td>27136.0</td>\n",
       "      <td>40704.0</td>\n",
       "      <td>54272.0</td>\n",
       "    </tr>\n",
       "    <tr>\n",
       "      <th>model_year</th>\n",
       "      <td>54273.0</td>\n",
       "      <td>2015.091979</td>\n",
       "      <td>5.588909</td>\n",
       "      <td>1974.0</td>\n",
       "      <td>2012.0</td>\n",
       "      <td>2016.0</td>\n",
       "      <td>2019.0</td>\n",
       "      <td>2024.0</td>\n",
       "    </tr>\n",
       "    <tr>\n",
       "      <th>milage</th>\n",
       "      <td>54273.0</td>\n",
       "      <td>72746.175667</td>\n",
       "      <td>50469.490448</td>\n",
       "      <td>100.0</td>\n",
       "      <td>32268.0</td>\n",
       "      <td>66107.0</td>\n",
       "      <td>102000.0</td>\n",
       "      <td>405000.0</td>\n",
       "    </tr>\n",
       "    <tr>\n",
       "      <th>price</th>\n",
       "      <td>54273.0</td>\n",
       "      <td>39218.443333</td>\n",
       "      <td>72826.335535</td>\n",
       "      <td>2000.0</td>\n",
       "      <td>15500.0</td>\n",
       "      <td>28000.0</td>\n",
       "      <td>45000.0</td>\n",
       "      <td>2954083.0</td>\n",
       "    </tr>\n",
       "  </tbody>\n",
       "</table>\n",
       "</div>"
      ],
      "text/plain": [
       "              count          mean           std     min      25%      50%  \\\n",
       "id          54273.0  27136.000000  15667.409917     0.0  13568.0  27136.0   \n",
       "model_year  54273.0   2015.091979      5.588909  1974.0   2012.0   2016.0   \n",
       "milage      54273.0  72746.175667  50469.490448   100.0  32268.0  66107.0   \n",
       "price       54273.0  39218.443333  72826.335535  2000.0  15500.0  28000.0   \n",
       "\n",
       "                 75%        max  \n",
       "id           40704.0    54272.0  \n",
       "model_year    2019.0     2024.0  \n",
       "milage      102000.0   405000.0  \n",
       "price        45000.0  2954083.0  "
      ]
     },
     "execution_count": 13,
     "metadata": {},
     "output_type": "execute_result"
    }
   ],
   "source": [
    "# Summary statistics of numerical variables\n",
    "train.describe().T"
   ]
  },
  {
   "cell_type": "code",
   "execution_count": 14,
   "id": "f6e76294",
   "metadata": {
    "execution": {
     "iopub.execute_input": "2024-06-22T23:13:29.778271Z",
     "iopub.status.busy": "2024-06-22T23:13:29.777844Z",
     "iopub.status.idle": "2024-06-22T23:13:29.859317Z",
     "shell.execute_reply": "2024-06-22T23:13:29.858158Z"
    },
    "papermill": {
     "duration": 0.117424,
     "end_time": "2024-06-22T23:13:29.861813",
     "exception": false,
     "start_time": "2024-06-22T23:13:29.744389",
     "status": "completed"
    },
    "tags": []
   },
   "outputs": [
    {
     "data": {
      "text/html": [
       "<div>\n",
       "<style scoped>\n",
       "    .dataframe tbody tr th:only-of-type {\n",
       "        vertical-align: middle;\n",
       "    }\n",
       "\n",
       "    .dataframe tbody tr th {\n",
       "        vertical-align: top;\n",
       "    }\n",
       "\n",
       "    .dataframe thead th {\n",
       "        text-align: right;\n",
       "    }\n",
       "</style>\n",
       "<table border=\"1\" class=\"dataframe\">\n",
       "  <thead>\n",
       "    <tr style=\"text-align: right;\">\n",
       "      <th></th>\n",
       "      <th>count</th>\n",
       "      <th>unique</th>\n",
       "      <th>top</th>\n",
       "      <th>freq</th>\n",
       "    </tr>\n",
       "  </thead>\n",
       "  <tbody>\n",
       "    <tr>\n",
       "      <th>brand</th>\n",
       "      <td>54273</td>\n",
       "      <td>53</td>\n",
       "      <td>BMW</td>\n",
       "      <td>7369</td>\n",
       "    </tr>\n",
       "    <tr>\n",
       "      <th>model</th>\n",
       "      <td>54273</td>\n",
       "      <td>1827</td>\n",
       "      <td>F-150 XLT</td>\n",
       "      <td>780</td>\n",
       "    </tr>\n",
       "    <tr>\n",
       "      <th>fuel_type</th>\n",
       "      <td>54273</td>\n",
       "      <td>7</td>\n",
       "      <td>Gasoline</td>\n",
       "      <td>49439</td>\n",
       "    </tr>\n",
       "    <tr>\n",
       "      <th>engine</th>\n",
       "      <td>54273</td>\n",
       "      <td>1061</td>\n",
       "      <td>300.0HP 3.0L Straight 6 Cylinder Engine Gasoli...</td>\n",
       "      <td>1452</td>\n",
       "    </tr>\n",
       "    <tr>\n",
       "      <th>transmission</th>\n",
       "      <td>54273</td>\n",
       "      <td>46</td>\n",
       "      <td>A/T</td>\n",
       "      <td>16757</td>\n",
       "    </tr>\n",
       "    <tr>\n",
       "      <th>ext_col</th>\n",
       "      <td>54273</td>\n",
       "      <td>260</td>\n",
       "      <td>Black</td>\n",
       "      <td>15078</td>\n",
       "    </tr>\n",
       "    <tr>\n",
       "      <th>int_col</th>\n",
       "      <td>54273</td>\n",
       "      <td>124</td>\n",
       "      <td>Black</td>\n",
       "      <td>31820</td>\n",
       "    </tr>\n",
       "    <tr>\n",
       "      <th>accident</th>\n",
       "      <td>54273</td>\n",
       "      <td>2</td>\n",
       "      <td>None reported</td>\n",
       "      <td>39896</td>\n",
       "    </tr>\n",
       "    <tr>\n",
       "      <th>clean_title</th>\n",
       "      <td>54273</td>\n",
       "      <td>1</td>\n",
       "      <td>Yes</td>\n",
       "      <td>54273</td>\n",
       "    </tr>\n",
       "  </tbody>\n",
       "</table>\n",
       "</div>"
      ],
      "text/plain": [
       "              count unique                                                top  \\\n",
       "brand         54273     53                                                BMW   \n",
       "model         54273   1827                                          F-150 XLT   \n",
       "fuel_type     54273      7                                           Gasoline   \n",
       "engine        54273   1061  300.0HP 3.0L Straight 6 Cylinder Engine Gasoli...   \n",
       "transmission  54273     46                                                A/T   \n",
       "ext_col       54273    260                                              Black   \n",
       "int_col       54273    124                                              Black   \n",
       "accident      54273      2                                      None reported   \n",
       "clean_title   54273      1                                                Yes   \n",
       "\n",
       "               freq  \n",
       "brand          7369  \n",
       "model           780  \n",
       "fuel_type     49439  \n",
       "engine         1452  \n",
       "transmission  16757  \n",
       "ext_col       15078  \n",
       "int_col       31820  \n",
       "accident      39896  \n",
       "clean_title   54273  "
      ]
     },
     "execution_count": 14,
     "metadata": {},
     "output_type": "execute_result"
    }
   ],
   "source": [
    "# Summary statistics of categorical variables\n",
    "train.describe(include=['object']).T"
   ]
  },
  {
   "cell_type": "markdown",
   "id": "82501a26",
   "metadata": {
    "papermill": {
     "duration": 0.034338,
     "end_time": "2024-06-22T23:13:29.928844",
     "exception": false,
     "start_time": "2024-06-22T23:13:29.894506",
     "status": "completed"
    },
    "tags": []
   },
   "source": [
    "Observations and Insights: \n",
    "\n",
    "**model_year** tells us that we have cars manufactured as old as 1996 to as new as 2024.\n",
    "The 25% mark tells us that only 25% of cars are the ones that were manufactured before 2012. \n",
    "\n",
    "**milage** has a min value of 100 miles to a max value of 405000 miles driven. The average miles driven for a car is 66107 miles.\n",
    "\n",
    "**price**, which is found in the training dataset only, will be used to help train the model to predict car prices and tested on the test dataset. Car prices range from as low as 2000 to as high as 2,954,083. "
   ]
  },
  {
   "cell_type": "markdown",
   "id": "59bc04fe",
   "metadata": {
    "papermill": {
     "duration": 0.032176,
     "end_time": "2024-06-22T23:13:29.993204",
     "exception": false,
     "start_time": "2024-06-22T23:13:29.961028",
     "status": "completed"
    },
    "tags": []
   },
   "source": [
    "## ID\n",
    "For each id in the test set, I use to predict the price of the car. I check if id is all unique and matches number of rows in dataset. It is indeed all unique."
   ]
  },
  {
   "cell_type": "code",
   "execution_count": 15,
   "id": "998be7e3",
   "metadata": {
    "execution": {
     "iopub.execute_input": "2024-06-22T23:13:30.059679Z",
     "iopub.status.busy": "2024-06-22T23:13:30.059253Z",
     "iopub.status.idle": "2024-06-22T23:13:30.070310Z",
     "shell.execute_reply": "2024-06-22T23:13:30.069208Z"
    },
    "papermill": {
     "duration": 0.047413,
     "end_time": "2024-06-22T23:13:30.072696",
     "exception": false,
     "start_time": "2024-06-22T23:13:30.025283",
     "status": "completed"
    },
    "tags": []
   },
   "outputs": [
    {
     "data": {
      "text/plain": [
       "True"
      ]
     },
     "execution_count": 15,
     "metadata": {},
     "output_type": "execute_result"
    }
   ],
   "source": [
    "len(train) == len(train['id'].unique())"
   ]
  },
  {
   "cell_type": "markdown",
   "id": "0f0fd154",
   "metadata": {
    "papermill": {
     "duration": 0.033275,
     "end_time": "2024-06-22T23:13:30.138658",
     "exception": false,
     "start_time": "2024-06-22T23:13:30.105383",
     "status": "completed"
    },
    "tags": []
   },
   "source": [
    "## Brand\n",
    "I explore the various brands of cars in the dataset. \n",
    "\n",
    "Observations:\n",
    "\n",
    "There are brands in the test dataset not found in the train dataset: smart and Saab. I will add 'unknown' category in the training set for handling new brands in the feature engineering section. \n",
    "\n",
    "At first, I thought smart was a typo, but it is purposefully stylized in lowercase, so I leave it be.\n",
    "\n",
    "BMW, Ford, and Mercedes-Benz are the most popular car brands.\n",
    "\n",
    "However, the most expensive cars on average by brand are Bugatti, followed by Ferrari, and Lamborghini. The least expensive cars on average by brand are Plymouth, Suzuki, and Scion. "
   ]
  },
  {
   "cell_type": "code",
   "execution_count": 16,
   "id": "fffd72d8",
   "metadata": {
    "execution": {
     "iopub.execute_input": "2024-06-22T23:13:30.205092Z",
     "iopub.status.busy": "2024-06-22T23:13:30.204690Z",
     "iopub.status.idle": "2024-06-22T23:13:30.217237Z",
     "shell.execute_reply": "2024-06-22T23:13:30.216004Z"
    },
    "papermill": {
     "duration": 0.048508,
     "end_time": "2024-06-22T23:13:30.219610",
     "exception": false,
     "start_time": "2024-06-22T23:13:30.171102",
     "status": "completed"
    },
    "tags": []
   },
   "outputs": [
    {
     "data": {
      "text/plain": [
       "brand\n",
       "BMW              7369\n",
       "Ford             6706\n",
       "Mercedes-Benz    5087\n",
       "Chevrolet        4424\n",
       "Audi             2922\n",
       "Porsche          2627\n",
       "Toyota           2315\n",
       "Lexus            2257\n",
       "Jeep             2247\n",
       "Land             1995\n",
       "Cadillac         1565\n",
       "Nissan           1252\n",
       "GMC              1076\n",
       "Dodge            1011\n",
       "RAM               966\n",
       "INFINITI          957\n",
       "Lincoln           767\n",
       "Mazda             748\n",
       "Subaru            739\n",
       "Hyundai           694\n",
       "Jaguar            661\n",
       "Volkswagen        628\n",
       "Honda             624\n",
       "Acura             580\n",
       "Kia               526\n",
       "Volvo             452\n",
       "MINI              364\n",
       "Maserati          293\n",
       "Bentley           284\n",
       "Chrysler          258\n",
       "Genesis           249\n",
       "Buick             228\n",
       "Mitsubishi        182\n",
       "Hummer            176\n",
       "Pontiac           149\n",
       "Alfa              144\n",
       "Rolls-Royce       142\n",
       "Lamborghini       122\n",
       "Tesla             110\n",
       "Ferrari            87\n",
       "Saturn             58\n",
       "Scion              53\n",
       "Aston              50\n",
       "McLaren            43\n",
       "Rivian             27\n",
       "Mercury            20\n",
       "FIAT               16\n",
       "Lotus              12\n",
       "Suzuki              4\n",
       "Maybach             3\n",
       "Lucid               2\n",
       "Plymouth            1\n",
       "Bugatti             1\n",
       "Name: count, dtype: int64"
      ]
     },
     "execution_count": 16,
     "metadata": {},
     "output_type": "execute_result"
    }
   ],
   "source": [
    "train['brand'].value_counts()"
   ]
  },
  {
   "cell_type": "code",
   "execution_count": 17,
   "id": "794f4bcd",
   "metadata": {
    "execution": {
     "iopub.execute_input": "2024-06-22T23:13:30.287067Z",
     "iopub.status.busy": "2024-06-22T23:13:30.286679Z",
     "iopub.status.idle": "2024-06-22T23:13:30.297981Z",
     "shell.execute_reply": "2024-06-22T23:13:30.296900Z"
    },
    "papermill": {
     "duration": 0.047667,
     "end_time": "2024-06-22T23:13:30.300415",
     "exception": false,
     "start_time": "2024-06-22T23:13:30.252748",
     "status": "completed"
    },
    "tags": []
   },
   "outputs": [
    {
     "data": {
      "text/plain": [
       "brand\n",
       "BMW              4854\n",
       "Ford             4382\n",
       "Mercedes-Benz    3265\n",
       "Chevrolet        2993\n",
       "Audi             1919\n",
       "Porsche          1805\n",
       "Toyota           1574\n",
       "Lexus            1530\n",
       "Jeep             1510\n",
       "Land             1360\n",
       "Cadillac         1059\n",
       "Nissan            922\n",
       "GMC               749\n",
       "Dodge             705\n",
       "INFINITI          666\n",
       "RAM               606\n",
       "Mazda             528\n",
       "Lincoln           496\n",
       "Subaru            492\n",
       "Jaguar            447\n",
       "Hyundai           436\n",
       "Honda             405\n",
       "Acura             386\n",
       "Volkswagen        376\n",
       "Kia               347\n",
       "Volvo             309\n",
       "MINI              258\n",
       "Maserati          182\n",
       "Bentley           180\n",
       "Chrysler          178\n",
       "Genesis           173\n",
       "Buick             165\n",
       "Hummer            118\n",
       "Mitsubishi        114\n",
       "Pontiac           109\n",
       "Lamborghini        91\n",
       "Rolls-Royce        89\n",
       "Alfa               79\n",
       "Tesla              71\n",
       "Ferrari            52\n",
       "Aston              44\n",
       "Saturn             36\n",
       "Scion              34\n",
       "McLaren            30\n",
       "Rivian             22\n",
       "Lotus              12\n",
       "FIAT                9\n",
       "Mercury             7\n",
       "Suzuki              3\n",
       "Saab                2\n",
       "smart               2\n",
       "Bugatti             1\n",
       "Lucid               1\n",
       "Name: count, dtype: int64"
      ]
     },
     "execution_count": 17,
     "metadata": {},
     "output_type": "execute_result"
    }
   ],
   "source": [
    "test['brand'].value_counts()"
   ]
  },
  {
   "cell_type": "code",
   "execution_count": 18,
   "id": "2436122c",
   "metadata": {
    "execution": {
     "iopub.execute_input": "2024-06-22T23:13:30.369986Z",
     "iopub.status.busy": "2024-06-22T23:13:30.369288Z",
     "iopub.status.idle": "2024-06-22T23:13:30.384234Z",
     "shell.execute_reply": "2024-06-22T23:13:30.383109Z"
    },
    "papermill": {
     "duration": 0.05178,
     "end_time": "2024-06-22T23:13:30.386549",
     "exception": false,
     "start_time": "2024-06-22T23:13:30.334769",
     "status": "completed"
    },
    "tags": []
   },
   "outputs": [
    {
     "name": "stdout",
     "output_type": "stream",
     "text": [
      "New brands in the test set: {'Saab', 'smart'}\n"
     ]
    }
   ],
   "source": [
    "# Identify unique brands in training and test sets\n",
    "train_brands = set(train['brand'])\n",
    "test_brands = set(test['brand'])\n",
    "\n",
    "# Find new brands in the test set not present in the training set\n",
    "new_brands = test_brands - train_brands\n",
    "\n",
    "print(\"New brands in the test set:\", new_brands)"
   ]
  },
  {
   "cell_type": "code",
   "execution_count": 19,
   "id": "0a17f56c",
   "metadata": {
    "execution": {
     "iopub.execute_input": "2024-06-22T23:13:30.455492Z",
     "iopub.status.busy": "2024-06-22T23:13:30.454680Z",
     "iopub.status.idle": "2024-06-22T23:13:30.473208Z",
     "shell.execute_reply": "2024-06-22T23:13:30.471627Z"
    },
    "papermill": {
     "duration": 0.056254,
     "end_time": "2024-06-22T23:13:30.476115",
     "exception": false,
     "start_time": "2024-06-22T23:13:30.419861",
     "status": "completed"
    },
    "tags": []
   },
   "outputs": [
    {
     "name": "stdout",
     "output_type": "stream",
     "text": [
      "Bugatti: 1,950,995.00\n",
      "Ferrari: 158,404.33\n",
      "Lamborghini: 144,773.86\n",
      "Rolls-Royce: 131,365.08\n",
      "Aston: 117,885.82\n",
      "McLaren: 109,174.77\n",
      "Bentley: 105,211.79\n",
      "Lucid: 84,185.00\n",
      "Rivian: 79,495.81\n",
      "Porsche: 63,742.15\n",
      "Maybach: 60,333.33\n",
      "Maserati: 56,872.70\n",
      "Genesis: 51,462.40\n",
      "Tesla: 49,056.66\n",
      "Land: 47,714.27\n",
      "Mercedes-Benz: 47,094.04\n",
      "Alfa: 45,712.24\n",
      "RAM: 45,126.19\n",
      "Chevrolet: 44,751.11\n",
      "GMC: 41,570.95\n",
      "BMW: 40,276.03\n",
      "Lotus: 38,456.58\n",
      "Ford: 38,154.06\n",
      "Audi: 37,091.37\n",
      "Cadillac: 36,575.84\n",
      "Jaguar: 34,840.40\n",
      "Jeep: 30,703.34\n",
      "Lexus: 30,685.44\n",
      "Hummer: 30,578.99\n",
      "INFINITI: 29,694.08\n",
      "Kia: 29,087.56\n",
      "Toyota: 29,080.00\n",
      "Dodge: 28,938.06\n",
      "Acura: 27,899.55\n",
      "Lincoln: 27,733.62\n",
      "Volvo: 27,693.74\n",
      "Buick: 27,693.25\n",
      "Mazda: 24,223.28\n",
      "Nissan: 23,874.30\n",
      "Volkswagen: 22,603.02\n",
      "Subaru: 22,505.88\n",
      "Chrysler: 19,518.67\n",
      "Hyundai: 18,931.53\n",
      "Honda: 18,568.90\n",
      "Pontiac: 17,526.06\n",
      "MINI: 16,055.87\n",
      "Mercury: 14,561.80\n",
      "FIAT: 14,183.88\n",
      "Saturn: 13,733.40\n",
      "Mitsubishi: 13,434.54\n",
      "Scion: 12,939.53\n",
      "Suzuki: 11,099.75\n",
      "Plymouth: 3,850.00\n"
     ]
    }
   ],
   "source": [
    "# Average price of car by brand\n",
    "average_price = train.groupby(['brand'])['price'].mean().sort_values(ascending=False)\n",
    "\n",
    "# Print each brand and its average price without scientific notation\n",
    "for brand, price in average_price.items():\n",
    "    print(f'{brand}: {price:,.2f}')"
   ]
  },
  {
   "cell_type": "markdown",
   "id": "ae7061e5",
   "metadata": {
    "papermill": {
     "duration": 0.032673,
     "end_time": "2024-06-22T23:13:30.543694",
     "exception": false,
     "start_time": "2024-06-22T23:13:30.511021",
     "status": "completed"
    },
    "tags": []
   },
   "source": [
    "## Model\n",
    "I explore the various models of cars in the dataset.\n",
    "\n",
    "There are lots of models in the test dataset not found in the train dataset. I will add 'other' category in the training set for handling new models in the feature engineering section as opposed to dropping them.\n",
    "\n",
    "Because car models affect its price, I want to include them in the data. Therefore, by mapping new models to existing similar models in an 'other' category, it can help generalize unseen data without significantly compromising its predictive performance.\n",
    "\n",
    "The most expensive car model on average is Veyron 16.4 Grand Sport at 1,950,995.00 USD. The lowest priced car model on average is Prowler Base at 3,850.00 USD."
   ]
  },
  {
   "cell_type": "code",
   "execution_count": 20,
   "id": "e79a7994",
   "metadata": {
    "execution": {
     "iopub.execute_input": "2024-06-22T23:13:30.612523Z",
     "iopub.status.busy": "2024-06-22T23:13:30.612088Z",
     "iopub.status.idle": "2024-06-22T23:13:30.625789Z",
     "shell.execute_reply": "2024-06-22T23:13:30.624582Z"
    },
    "papermill": {
     "duration": 0.050954,
     "end_time": "2024-06-22T23:13:30.628588",
     "exception": false,
     "start_time": "2024-06-22T23:13:30.577634",
     "status": "completed"
    },
    "tags": []
   },
   "outputs": [
    {
     "data": {
      "text/plain": [
       "model\n",
       "F-150 XLT             780\n",
       "M3 Base               682\n",
       "X5 xDrive35i          615\n",
       "F-150 Lariat          496\n",
       "Mustang GT Premium    466\n",
       "                     ... \n",
       "Suburban 2500           1\n",
       "TLX Tech                1\n",
       "Rogue Sport S           1\n",
       "A8 4.0                  1\n",
       "S-10 LS                 1\n",
       "Name: count, Length: 1827, dtype: int64"
      ]
     },
     "execution_count": 20,
     "metadata": {},
     "output_type": "execute_result"
    }
   ],
   "source": [
    "train['model'].value_counts()"
   ]
  },
  {
   "cell_type": "code",
   "execution_count": 21,
   "id": "a8a926a0",
   "metadata": {
    "execution": {
     "iopub.execute_input": "2024-06-22T23:13:30.696865Z",
     "iopub.status.busy": "2024-06-22T23:13:30.696450Z",
     "iopub.status.idle": "2024-06-22T23:13:30.708943Z",
     "shell.execute_reply": "2024-06-22T23:13:30.707810Z"
    },
    "papermill": {
     "duration": 0.049581,
     "end_time": "2024-06-22T23:13:30.711344",
     "exception": false,
     "start_time": "2024-06-22T23:13:30.661763",
     "status": "completed"
    },
    "tags": []
   },
   "outputs": [
    {
     "data": {
      "text/plain": [
       "model\n",
       "F-150 XLT                    496\n",
       "M3 Base                      444\n",
       "X5 xDrive35i                 390\n",
       "F-150 Lariat                 329\n",
       "Camaro 2SS                   299\n",
       "                            ... \n",
       "AMG GLE 53 AMG GLE 53          1\n",
       "Sorento Plug-In Hybrid SX      1\n",
       "RLX Advance Package            1\n",
       "Model S 85D                    1\n",
       "Model 3 Mid Range              1\n",
       "Name: count, Length: 1791, dtype: int64"
      ]
     },
     "execution_count": 21,
     "metadata": {},
     "output_type": "execute_result"
    }
   ],
   "source": [
    "test['model'].value_counts()"
   ]
  },
  {
   "cell_type": "code",
   "execution_count": 22,
   "id": "c58ed74c",
   "metadata": {
    "execution": {
     "iopub.execute_input": "2024-06-22T23:13:30.780901Z",
     "iopub.status.busy": "2024-06-22T23:13:30.780148Z",
     "iopub.status.idle": "2024-06-22T23:13:30.795805Z",
     "shell.execute_reply": "2024-06-22T23:13:30.794537Z"
    },
    "papermill": {
     "duration": 0.053168,
     "end_time": "2024-06-22T23:13:30.798205",
     "exception": false,
     "start_time": "2024-06-22T23:13:30.745037",
     "status": "completed"
    },
    "tags": []
   },
   "outputs": [
    {
     "name": "stdout",
     "output_type": "stream",
     "text": [
      "New brands in the test set: {'Q3 S line Premium Plus', 'AMG E 53 4MATIC', 'Tucson Hybrid SEL Convenience', 'ForTwo Pure', 'Passport Elite', 'IONIQ 5 SE', 'RS 7 4.0T quattro', 'Model S 70D', 'R1T Launch Edition', 'TLX w/A-Spec Package', 'G-Class G 550', 'GLE 350 Base', 'Ram 2500 SLT Mega Cab', '4Runner Venture Special Edition', 'Passat 2.0T R-Line', 'Cherokee X', 'Leaf SL', 'F-TYPE V6 S', 'RDX w/Advance Package', 'Integra w/A-Spec Tech Package', 'Leaf SV PLUS', 'Mustang Boss 302', 'RDX', 'Model S 85', '430 Gran Coupe i xDrive', 'Wraith Base', 'X7 xDrive50i', 'Kona EV SEL', 'EV6 GT-Line', 'Model 3 Mid Range', 'Pacifica Hybrid Touring L', 'Q7 Premium Plus'}\n"
     ]
    }
   ],
   "source": [
    "# Identify unique models in training and test sets\n",
    "train_models = set(train['model'])\n",
    "test_models = set(test['model'])\n",
    "\n",
    "# Find new brands in the test set not present in the training set\n",
    "new_models = test_models - train_models\n",
    "\n",
    "print(\"New brands in the test set:\", new_models)"
   ]
  },
  {
   "cell_type": "code",
   "execution_count": 23,
   "id": "5f16302a",
   "metadata": {
    "execution": {
     "iopub.execute_input": "2024-06-22T23:13:30.867278Z",
     "iopub.status.busy": "2024-06-22T23:13:30.866876Z",
     "iopub.status.idle": "2024-06-22T23:13:30.894495Z",
     "shell.execute_reply": "2024-06-22T23:13:30.893240Z"
    },
    "papermill": {
     "duration": 0.067842,
     "end_time": "2024-06-22T23:13:30.899694",
     "exception": false,
     "start_time": "2024-06-22T23:13:30.831852",
     "status": "completed"
    },
    "tags": []
   },
   "outputs": [
    {
     "name": "stdout",
     "output_type": "stream",
     "text": [
      "Veyron 16.4 Grand Sport: 1,950,995.00\n",
      "RDX PMC Edition: 765,815.50\n",
      "R8 5.2 V10 performance: 551,153.50\n",
      "Tacoma TRD Pro: 513,937.25\n",
      "MC20 MC20: 489,000.00\n",
      "Q5 S line Premium: 469,900.00\n",
      "Sierra 1500 SL Crew Cab: 357,931.33\n",
      "488 GTB Base: 301,493.60\n",
      "Huracan EVO Coupe: 279,950.00\n",
      "Aventador LP700-4: 279,950.00\n",
      "Huracan Tecnica Coupe: 272,950.00\n",
      "Phantom: 272,037.11\n",
      "Phantom Drophead Coupe Drophead: 270,413.75\n",
      "CT5-V Blackwing: 259,388.00\n",
      "812 Superfast Base: 257,950.00\n",
      "Viper GTC: 247,847.00\n",
      "Countryman Cooper: 243,900.00\n",
      "Sportage X-Pro: 239,995.00\n",
      "Huracan EVO Base: 236,428.09\n",
      "Quattroporte Modena Q4: 226,528.50\n",
      "Rover Range Rover Autobiography: 222,025.33\n",
      "570S Spider: 214,372.28\n",
      "Rover Range Rover P530 SE: 213,697.50\n",
      "Quattroporte S GranLusso: 212,420.00\n",
      "Martin DBS Superleggera: 210,048.67\n",
      "720S Performance: 197,056.64\n",
      "Continental GT GT Speed: 194,965.00\n",
      "Grecale Modena: 190,680.12\n",
      "Grand Wagoneer Base: 189,229.60\n",
      "Land Cruiser: 188,900.00\n",
      "Carrera GT Base: 188,164.67\n",
      "Silverado 1500 LTZ: 188,062.32\n",
      "Bentayga Speed: 180,670.67\n",
      "Bentayga S: 180,341.38\n",
      "Urus Base: 170,523.15\n",
      "Flying Spur V8: 168,300.00\n",
      "M850 i xDrive: 167,512.80\n",
      "MC20 Base: 165,391.67\n",
      "Huracan LP580-2: 165,009.33\n",
      "200 Limited: 162,928.80\n",
      "Cullinan: 160,898.11\n",
      "Bentayga Azure First Edition: 160,431.09\n",
      "AMG GT R: 157,658.18\n",
      "Continental GT Speed: 155,402.45\n",
      "GTC4Lusso T: 154,784.44\n",
      "911 GT3: 154,734.03\n",
      "Aventador LP750-4 Superveloce: 153,632.50\n",
      "FF Base: 149,725.00\n",
      "Aventador S Base: 149,709.00\n",
      "911 Carrera GTS: 149,505.50\n",
      "718 Spyder Base: 148,328.57\n",
      "Roma Base: 147,730.90\n",
      "Continental GT V8: 147,190.48\n",
      "Aventador SVJ Base: 147,070.75\n",
      "911 Carrera 4 GTS: 144,858.63\n",
      "Taycan Base: 143,892.25\n",
      "Rover Defender X: 139,500.00\n",
      "AMG GT AMG GT: 138,557.50\n",
      "Viper SRT-10: 136,499.00\n",
      "Supra A91-MT Edition: 129,633.33\n",
      "911 Turbo S: 129,210.60\n",
      "RS 7 4.0T Performance Prestige: 125,715.87\n",
      "SLS AMG Base: 125,000.00\n",
      "911 GT3 RS: 124,805.23\n",
      "Sierra 1500 SLE Crew Cab: 124,518.42\n",
      "Model 3 Performance: 124,283.33\n",
      "California T: 121,339.29\n",
      "Martin DBX Base: 119,589.12\n",
      "RS 7 4.0T: 119,519.27\n",
      "Aviator Reserve AWD: 118,281.00\n",
      "Tahoe RST: 116,783.22\n",
      "488 Spider Base: 115,608.59\n",
      "LX 600 Premium: 115,075.00\n",
      "Q4 e-tron 50 Premium Plus: 113,000.00\n",
      "F430 Berlinetta: 111,466.67\n",
      "840 Gran Coupe i xDrive: 110,448.50\n",
      "Yukon Denali Ultimate: 108,953.17\n",
      "Ghost Base: 106,798.44\n",
      "F-PACE S: 105,245.00\n",
      "Sprinter 3500 High Roof: 104,863.20\n",
      "F-350 King Ranch: 104,094.91\n",
      "AMG G 63 4MATIC: 102,643.31\n",
      "Huracan LP580-2S: 102,582.33\n",
      "Bentayga V8: 102,578.00\n",
      "911 Carrera 4S: 101,386.02\n",
      "Gallardo LP550-2: 101,000.00\n",
      "Shelby GT500 Base: 100,765.92\n",
      "RS 7 4.0T Prestige: 100,474.76\n",
      "Rover Range Rover P530 SE SWB: 100,144.20\n",
      "AMG GT Base: 99,961.11\n",
      "AMG GLE AMG GLE 63 S-Model 4MATIC: 99,666.40\n",
      "911 R: 99,654.56\n",
      "911 Targa 4 GTS: 99,489.90\n",
      "ID.4 Pro S: 98,000.00\n",
      "Escalade Sport: 97,826.00\n",
      "AMG GLS 63 4MATIC: 96,588.22\n",
      "AMG GT 63 S 4-Door: 96,467.49\n",
      "Maybach S S 600: 95,545.18\n",
      "Taycan Turbo: 95,375.00\n",
      "LC 500 Base: 94,999.18\n",
      "Rover Range Rover SV Autobiography Dynamic SWB: 94,948.33\n",
      "Rover Range Rover Sport SVR Carbon Edition: 94,699.43\n",
      "AMG GT C: 94,542.56\n",
      "Model X Base: 94,250.00\n",
      "Levante Modena: 94,100.50\n",
      "Telluride LX: 93,900.00\n",
      "Rover Range Rover Sport First Edition: 93,789.25\n",
      "Continental GT W12: 92,428.50\n",
      "Rover Range Rover P400 SE SWB: 92,257.06\n",
      "Model X P100D: 92,166.67\n",
      "AMG G 63 Base: 90,761.42\n",
      "Rover Range Rover P530 SE LWB 7 Seat: 90,369.02\n",
      "Rover Range Rover P525 Westminster: 90,202.12\n",
      "Corvette Stingray w/1LT: 89,706.46\n",
      "718 Cayman GTS: 89,331.50\n",
      "Cayenne Turbo GT: 89,186.25\n",
      "R8 4.2 quattro Spyder: 89,000.00\n",
      "Sienna XSE 25th Anniversary: 88,500.00\n",
      "M4 Competition xDrive: 88,218.88\n",
      "Rover Defender SE: 88,089.31\n",
      "M8 Competition: 87,947.96\n",
      "Continental GT V8 S: 87,448.38\n",
      "G 550 4x4 Squared Base: 87,076.27\n",
      "Expedition King Ranch: 86,709.00\n",
      "Continental GT V8 First Edition: 85,896.14\n",
      "AMG GT AMG GT S: 85,703.41\n",
      "440 i xDrive: 85,362.50\n",
      "Bronco Wildtrak Advanced: 85,335.76\n",
      "Bentayga Onyx Edition: 84,636.20\n",
      "Martin V8 Vantage Base: 84,480.82\n",
      "Martin Vantage GT Base: 84,407.00\n",
      "Escalade Premium Luxury: 84,371.44\n",
      "Air Grand Touring: 84,185.00\n",
      "AMG E 63 S 4MATIC: 83,806.02\n",
      "Rover Defender S: 83,323.41\n",
      "M2 CS: 83,227.75\n",
      "Bronco Heritage Edition Advanced: 83,187.50\n",
      "M4 Competition: 81,915.03\n",
      "Continental GT Base: 81,780.38\n",
      "Corvette Z06 w/2LZ: 81,715.44\n",
      "F-250 King Ranch: 81,503.07\n",
      "911 Turbo: 81,450.42\n",
      "M5 Competition: 81,348.64\n",
      "X7 M50i: 81,314.50\n",
      "SQ7 4.0T: 81,200.00\n",
      "X6 M50i: 81,050.52\n",
      "R1S Adventure Package: 80,866.22\n",
      "Corvette Stingray w/3LT: 80,671.78\n",
      "Gallardo SE: 80,596.00\n",
      "Escalade Sport Platinum: 80,430.21\n",
      "S-Class S 580 4MATIC: 80,324.50\n",
      "X5 M50i: 80,263.52\n",
      "GV80 2.5T: 80,148.58\n",
      "Supra A91 Edition: 80,089.93\n",
      "AMG S 63 Base 4MATIC: 79,775.35\n",
      "Maybach S 580 4MATIC: 79,309.20\n",
      "M3 CS: 78,951.56\n",
      "Durango SRT 392: 78,705.08\n",
      "911 Carrera S: 78,631.72\n",
      "F-350 Platinum: 78,573.80\n",
      "Martin Vantage Base: 78,282.78\n",
      "GT-R Premium: 78,271.33\n",
      "Cayenne GTS Coupe AWD: 78,222.58\n",
      "Charger SRT Hellcat Widebody: 78,147.71\n",
      "Silverado 1500 Custom Trail Boss: 78,052.60\n",
      "M2 Base: 77,921.50\n",
      "Shelby GT350 Base: 77,679.29\n",
      "Q60 3.0T Premium: 77,523.75\n",
      "Model X Long Range: 77,374.75\n",
      "Panamera 4 Platinum Edition: 77,256.29\n",
      "Expedition Timberline: 77,237.70\n",
      "Grand Wagoneer Series III: 77,098.69\n",
      "LX 600 F SPORT: 76,807.33\n",
      "Continental GTC V8: 76,399.40\n",
      "Bronco Big Bend Advanced: 76,038.19\n",
      "F12berlinetta Base: 75,223.00\n",
      "Wagoneer Series III: 75,152.58\n",
      "GLE 350 GLE 350: 74,950.00\n",
      "R8 5.2 V10: 74,750.00\n",
      "M3 Competition xDrive: 74,699.42\n",
      "Model X Performance: 74,656.33\n",
      "Corvette Stingray w/2LT: 74,355.62\n",
      "F-150 Lightning XLT: 74,225.00\n",
      "G-Class G 63 AMG: 74,213.57\n",
      "RX 350 RX 350: 73,900.00\n",
      "Tahoe LT: 73,777.03\n",
      "S6 4.0T Premium Plus: 73,649.87\n",
      "M2 Competition: 73,591.75\n",
      "Huracan LP610-4: 73,470.71\n",
      "Rover Range Rover Westminster SWB: 73,419.15\n",
      "911 Turbo Cabriolet: 73,387.85\n",
      "Continental Reserve: 73,250.00\n",
      "AMG GT 53 Base: 72,750.57\n",
      "AMG E 53 Base 4MATIC: 72,560.29\n",
      "CX-90 Premium: 72,494.62\n",
      "1500 Laramie: 72,460.05\n",
      "Silverado 2500 High Country: 72,377.11\n",
      "Cayenne E-Hybrid S: 72,125.00\n",
      "M8 Gran Coupe Competition: 72,055.83\n",
      "Suburban High Country: 72,027.25\n",
      "Rover Range Rover Supercharged LWB: 71,920.77\n",
      "Sierra 1500 Denali Ultimate: 71,839.50\n",
      "911 Carrera: 71,837.35\n",
      "Kicks S: 71,631.33\n",
      "M550 i xDrive: 71,547.51\n",
      "Ram 1500 SRT-10: 71,282.50\n",
      "Bronco Raptor: 70,928.00\n",
      "F-250 Platinum: 70,521.66\n",
      "GT-R Black Edition: 70,000.00\n",
      "Atlas 3.6L SEL Premium R-Line: 69,864.20\n",
      "Charger SRT Hellcat: 69,843.50\n",
      "F-150 Lightning LARIAT: 69,790.00\n",
      "GLC 300 Base: 69,762.50\n",
      "R-Class R 350 4MATIC: 69,739.80\n",
      "QX60 AUTOGRAPH: 69,631.31\n",
      "C40 Recharge Pure Electric Twin Ultimate: 69,000.00\n",
      "SQ8 4.0T Premium Plus: 68,824.75\n",
      "LYRIQ Luxury: 68,750.00\n",
      "QX60 Pure: 68,750.00\n",
      "Model X P90D: 68,750.00\n",
      "Q8 3.0T Prestige: 68,693.78\n",
      "X7 xDrive40i: 68,657.68\n",
      "X6 M Base: 68,624.83\n",
      "S60 Recharge Plug-In Hybrid T8 Inscription: 68,489.80\n",
      "X3 M AWD: 68,460.86\n",
      "F-150 SVT Raptor: 68,359.00\n",
      "RS 3 2.5T: 68,325.00\n",
      "CLS-Class CLS 63 AMG S-Model 4MATIC: 68,247.80\n",
      "F-PACE SVR: 68,072.13\n",
      "G70 2.0T: 68,065.77\n",
      "i8 Base: 68,040.27\n",
      "Pacifica Launch Edition: 67,774.33\n",
      "AMG C 63 S: 67,695.32\n",
      "Rover Range Rover SWB: 67,500.00\n",
      "Rover Range Rover P400 SE LWB 7 Seat: 67,349.83\n",
      "A7 55 Premium Plus: 67,297.75\n",
      "Levante GTS: 66,681.33\n",
      "Challenger SRT Hellcat: 66,662.11\n",
      "Cayenne GTS: 66,605.32\n",
      "718 Cayman GT4: 66,568.78\n",
      "Gallardo LP570-4 Superleggera: 66,166.67\n",
      "Rover Defender V8: 66,024.89\n",
      "Corvette ZR-1: 65,900.00\n",
      "Telluride EX X-Line: 65,649.00\n",
      "Murcielago Base: 65,639.88\n",
      "S-Class S 63 AMG: 65,219.21\n",
      "Quattroporte S Q4 GranLusso: 65,079.60\n",
      "Escalade ESV Premium Luxury Platinum: 65,054.68\n",
      "AMG G AMG G 63 4MATIC: 65,048.79\n",
      "GR Corolla Circuit Edition: 65,000.00\n",
      "Escalade ESV Sport: 64,955.95\n",
      "Cayenne AWD: 64,795.35\n",
      "Tundra Hybrid TRD Pro: 64,500.41\n",
      "R8 5.2: 64,425.00\n",
      "Tundra Platinum: 64,380.81\n",
      "Continental GTC Base: 64,114.85\n",
      "AMG GLC 43 AMG GLC 43: 64,047.25\n",
      "F-150 Tremor: 64,004.87\n",
      "Impreza Premium: 63,900.00\n",
      "570S Base: 63,855.00\n",
      "840 i xDrive: 63,696.36\n",
      "Escalade Premium Luxury Platinum: 63,541.62\n",
      "Bronco Badlands: 63,488.78\n",
      "X5 M Base: 63,396.19\n",
      "M6 Gran Coupe Base: 63,286.82\n",
      "Bronco: 63,051.89\n",
      "Rover Range Rover Sport P400 SE Dynamic: 62,650.62\n",
      "X5 PHEV xDrive45e: 62,602.21\n",
      "A7 3.0T Premium Plus: 62,591.15\n",
      "F-TYPE R: 62,519.88\n",
      "718 Cayman S: 62,500.00\n",
      "RS Q8 4.0T: 62,424.38\n",
      "Rover Range Rover P525 HSE SWB: 62,211.73\n",
      "Mustang Mach-E GT: 62,062.00\n",
      "GranTurismo MC: 61,916.67\n",
      "Type 57 Base: 61,900.00\n",
      "Bentayga Activity Edition: 61,892.27\n",
      "Ghibli S GranLusso: 61,864.14\n",
      "Rover Range Rover Velar R-Dynamic S: 61,679.29\n",
      "Bronco Badlands Advanced: 61,603.12\n",
      "Golf GTI 2.0T Autobahn: 61,483.67\n",
      "Taycan 4S: 61,200.00\n",
      "X7 ALPINA XB7: 60,999.00\n",
      "M3 Competition: 60,903.44\n",
      "Tahoe High Country: 60,737.83\n",
      "AMG GLE 63 S Coupe 4MATIC: 60,663.00\n",
      "Cayenne Turbo S: 60,566.34\n",
      "RX 450h F SPORT Handling: 60,500.00\n",
      "Rover Range Rover Sport SE MHEV: 60,477.67\n",
      "F-150 Raptor: 60,384.36\n",
      "Bronco Outer Banks Advanced: 60,336.48\n",
      "Rover Range Rover 5.0L Supercharged Autobiography LWB: 60,315.21\n",
      "Rover Defender 110 SE: 59,900.00\n",
      "Mustang Mach-E Premium: 59,832.67\n",
      "Silverado 1500 Limited Custom: 59,576.00\n",
      "S8 4.0T Plus: 59,561.88\n",
      "Supra 3.0 Premium: 59,510.42\n",
      "Silverado 1500 RST: 59,507.56\n",
      "XC40 T5 Momentum: 59,387.50\n",
      "Traverse LS: 59,310.00\n",
      "Rover Defender X-Dynamic SE: 59,290.25\n",
      "AMG GL AMG GL 63 4MATIC: 59,285.71\n",
      "Corvette Z06: 59,230.05\n",
      "R8 5.2 V10 plus: 59,153.50\n",
      "Armada SL: 59,124.19\n",
      "Silverado 1500 Limited High Country: 58,981.15\n",
      "Rover Range Rover 5.0L V8 Supercharged: 58,969.80\n",
      "Macan Turbo: 58,867.56\n",
      "Q8 55 Premium Plus: 58,688.26\n",
      "Titan SV: 58,614.18\n",
      "AMG C 63 Base: 58,539.24\n",
      "911 Carrera S Cabriolet: 58,533.75\n",
      "GV70 3.5T Sport: 58,472.29\n",
      "Navigator Premiere: 58,471.29\n",
      "Panamera GTS: 58,445.71\n",
      "AMG GLC 63 Base 4MATIC: 58,408.60\n",
      "Colorado Z71: 58,348.95\n",
      "AMG GLA 45 Base 4MATIC: 58,330.00\n",
      "1500 TRX: 58,249.90\n",
      "Sierra 2500 AT4: 58,192.12\n",
      "Model X Long Range Plus: 58,103.10\n",
      "X4 M Competition: 58,084.58\n",
      "911 Carrera C2S: 58,052.47\n",
      "Metris Base: 58,042.99\n",
      "750 750i xDrive: 57,948.50\n",
      "M440 i xDrive: 57,767.92\n",
      "Gladiator Mojave: 57,720.00\n",
      "Bentayga W12 Signature: 57,616.10\n",
      "Sequoia TRD Pro: 57,594.17\n",
      "E-Class E 400 4MATIC: 57,549.30\n",
      "Martin DB7 Vantage Volante: 57,452.75\n",
      "Rover Range Rover 5.0L Supercharged Autobiography: 57,000.00\n",
      "Sprinter 3500XD High Roof: 56,870.00\n",
      "Durango SLT: 56,833.33\n",
      "Tundra Limited: 56,797.84\n",
      "Evora 400 Base: 56,500.00\n",
      "S7 2.9T Prestige: 56,419.90\n",
      "S-Class S 560 4MATIC: 56,219.46\n",
      "Ram 1500 SRT-10 Quad Cab: 56,122.73\n",
      "G-Class G 550 4MATIC: 56,108.16\n",
      "Camry XSE: 55,874.75\n",
      "M4 Base: 55,813.85\n",
      "Macan: 55,780.33\n",
      "Bronco Outer Banks: 55,529.96\n",
      "911 Carrera C4S: 55,519.30\n",
      "Expedition Max Limited: 55,425.75\n",
      "Wrangler Unlimited Rubicon 392: 55,413.05\n",
      "Rover Range Rover 3.0L V6 Supercharged HSE: 55,169.90\n",
      "Rover Range Rover HSE SWB: 55,151.51\n",
      "R1S Launch Edition: 54,999.00\n",
      "Macan GTS: 54,900.00\n",
      "Q60 3.0t Red Sport 400: 54,890.20\n",
      "Shelby GT350R Base: 54,777.00\n",
      "RX 350 RX 350 F SPORT Handling: 54,685.00\n",
      "Corvette Stingray Z51: 54,627.86\n",
      "AMG GLE 53 AMG GLE 53: 54,600.00\n",
      "718 Boxster Base: 54,548.75\n",
      "Boxster GTS: 54,517.50\n",
      "Rover Range Rover Sport Supercharged Dynamic: 54,488.96\n",
      "S8 4.2 quattro: 54,466.50\n",
      "G70 3.3T: 54,450.00\n",
      "Explorer ST: 54,381.21\n",
      "X2 xDrive28i: 54,346.75\n",
      "Sprinter 2500 Standard Roof: 54,327.67\n",
      "Sequoia Limited: 54,319.55\n",
      "Escalade ESV Premium Luxury: 54,234.05\n",
      "750 i xDrive: 54,068.38\n",
      "Expedition Limited: 54,058.22\n",
      "XT5 Premium Luxury: 54,006.47\n",
      "Panamera Turbo: 53,837.78\n",
      "2500 Powerwagon: 53,766.14\n",
      "F-250 Lariat: 53,651.60\n",
      "S-Class S 560: 53,642.86\n",
      "Tundra 1794: 53,580.00\n",
      "Charger R/T 392: 53,471.56\n",
      "Challenger SRT Demon: 53,436.75\n",
      "Romeo Giulia Quadrifoglio: 53,434.77\n",
      "ALPINA B7 Base: 53,234.86\n",
      "X3 M40i: 53,145.17\n",
      "Rover Range Rover Sport HST MHEV: 53,095.43\n",
      "G90 5.0 Ultimate: 52,993.64\n",
      "Tundra Hybrid Capstone: 52,949.45\n",
      "G37 Journey: 52,861.11\n",
      "Navigator Reserve: 52,809.71\n",
      "F-150 Platinum: 52,794.76\n",
      "Camaro 1SS: 52,681.15\n",
      "A8 L 4.0T: 52,659.60\n",
      "AMG C AMG C 63: 52,542.81\n",
      "ALPINA B7 ALPINA B7 xDrive: 52,500.00\n",
      "Ridgeline RTL-E: 52,412.38\n",
      "Bronco XLT: 52,329.20\n",
      "AMG C 43 Base 4MATIC: 52,318.56\n",
      "Silverado 1500 Limited LT Trail Boss: 52,300.55\n",
      "NSX Base: 52,297.00\n",
      "M5 Base: 52,285.01\n",
      "Corvette Grand Sport: 52,282.77\n",
      "M6 Base: 52,247.23\n",
      "Yukon XL AT4: 52,110.42\n",
      "LX 570 Three-Row: 52,008.30\n",
      "Sierra 1500 AT4: 51,989.80\n",
      "X6 xDrive40i: 51,879.68\n",
      "M340 i xDrive: 51,805.87\n",
      "Expedition Max King Ranch: 51,757.59\n",
      "Cayenne S: 51,665.71\n",
      "Telluride S: 51,622.75\n",
      "Silverado 3500 LTZ: 51,471.43\n",
      "M440 i: 51,445.82\n",
      "Camaro ZL1: 51,262.47\n",
      "GLE 350 Base 4MATIC: 51,247.16\n",
      "MDX w/Technology Package: 51,241.25\n",
      "Gladiator Rubicon: 51,085.48\n",
      "RAV4 Prime XSE: 51,000.00\n",
      "Sierra 1500 Denali: 50,919.75\n",
      "F-350 Lariat Super Duty Crew Cab: 50,907.31\n",
      "S-Class S 450 4MATIC: 50,779.10\n",
      "Romeo Giulia Ti: 50,632.00\n",
      "Atlas Cross Sport 3.6L V6 SEL Premium: 50,601.75\n",
      "TLX Type S w/Performance Tire: 50,516.27\n",
      "Levante S: 50,509.86\n",
      "Wrangler Unlimited Sport S: 50,453.04\n",
      "Panamera Platinum Edition: 50,403.33\n",
      "G80 2.5T: 50,343.00\n",
      "Panamera S: 50,299.92\n",
      "Suburban Z71: 50,293.20\n",
      "CTS 3.6L Premium Luxury: 50,267.50\n",
      "CT5-V V-Series: 50,262.50\n",
      "Rover Range Rover Velar P250 SE R-Dynamic: 50,012.44\n",
      "F-PACE 30t R-Sport: 50,000.00\n",
      "718 Boxster GTS: 49,995.36\n",
      "A8 L 55: 49,979.60\n",
      "Terrain SLE: 49,914.85\n",
      "3500 Tradesman: 49,865.09\n",
      "Suburban RST: 49,853.95\n",
      "Sequoia Platinum: 49,807.73\n",
      "S5 4.2 Premium Plus: 49,750.00\n",
      "Silverado 1500 ZR2: 49,689.70\n",
      "Durango SRT: 49,632.14\n",
      "911 Carrera 4: 49,586.79\n",
      "Palisade Calligraphy: 49,584.27\n",
      "Telluride SX: 49,460.05\n",
      "Gladiator Overland: 49,442.61\n",
      "CT6-V 4.2L Blackwing Twin Turbo: 49,424.50\n",
      "GLS 450 Base 4MATIC: 49,404.50\n",
      "Corvette Stingray: 49,347.36\n",
      "AMG CLA 45 Base 4MATIC: 49,213.57\n",
      "RX 350 F SPORT Appearance: 49,000.00\n",
      "Silverado 2500 WT: 48,992.89\n",
      "Durango R/T: 48,991.75\n",
      "A6 55 Prestige: 48,957.54\n",
      "Niro EV EX: 48,950.00\n",
      "A6 55 Premium Plus: 48,911.67\n",
      "Rover Range Rover Sport HSE Dynamic: 48,817.39\n",
      "M760 i xDrive: 48,674.75\n",
      "Durango GT: 48,651.80\n",
      "Mustang Shelby GT500: 48,629.53\n",
      "Tahoe Premier: 48,594.70\n",
      "Gallardo LP560-4: 48,590.00\n",
      "Corvette Base: 48,523.84\n",
      "XE 20d Prestige: 48,500.00\n",
      "Rover Range Rover Evoque SE: 48,492.00\n",
      "GX 460 Luxury: 48,487.12\n",
      "Gallardo Base: 48,485.57\n",
      "S-Class S 550 4MATIC: 48,469.39\n",
      "A6 55 Premium: 48,446.68\n",
      "Romeo Stelvio Quadrifoglio: 48,400.00\n",
      "A7 55 Premium: 48,382.54\n",
      "Tahoe LTZ: 48,195.15\n",
      "F-350 Lariat: 48,175.71\n",
      "RS 5 2.9T: 48,103.64\n",
      "Charger R/T Scat Pack: 47,937.38\n",
      "Rover Range Rover Sport SVR: 47,871.11\n",
      "RS Q8 4.0T quattro: 47,808.50\n",
      "Escalade ESV Platinum: 47,754.66\n",
      "Escalade Platinum: 47,731.50\n",
      "Sierra 2500 Denali: 47,723.66\n",
      "911 Carrera 4 Cabriolet: 47,683.75\n",
      "Expedition Max XLT: 47,648.78\n",
      "Sorento S: 47,645.00\n",
      "M4 CS: 47,364.00\n",
      "Ghibli S Q4 GranSport: 47,329.17\n",
      "AMG C 43 AMG C 43 4MATIC: 47,299.31\n",
      "Quattroporte S: 47,277.20\n",
      "AMG GLE 43 Coupe 4MATIC: 47,253.65\n",
      "Grand Cherokee WK Laredo X: 47,160.00\n",
      "M240 i xDrive: 47,097.48\n",
      "F-250 Limited: 47,080.00\n",
      "S6 4.0T Prestige: 47,023.20\n",
      "XC60 Recharge Plug-In Hybrid T8 Inscription: 47,000.00\n",
      "1500 Classic Tradesman: 46,945.00\n",
      "S7 4.0T Premium Plus: 46,922.29\n",
      "Model S 75D: 46,900.00\n",
      "TLX Type S PMC Edition: 46,786.43\n",
      "Gladiator Sport S: 46,754.52\n",
      "GLC 300 GLC 300: 46,697.79\n",
      "Enclave Avenir: 46,655.46\n",
      "Gladiator Willys: 46,649.93\n",
      "G90 3.3T Premium: 46,591.54\n",
      "XF XFR-S: 46,587.64\n",
      "911 Carrera 4S Cabriolet: 46,580.71\n",
      "Rover Range Rover Evoque S: 46,327.57\n",
      "A7 3.0T Prestige: 46,319.16\n",
      "CLS-Class CLS 550: 46,247.23\n",
      "740e xDrive iPerformance: 46,245.00\n",
      "Grand Cherokee L Overland: 46,199.00\n",
      "Macan S: 46,140.12\n",
      "GLA 250 Base 4MATIC: 46,074.33\n",
      "Yukon XL Denali: 46,060.97\n",
      "Bronco Big Bend: 46,055.56\n",
      "QX80 SENSORY: 46,025.54\n",
      "Model 3 Base: 46,000.00\n",
      "Rover Range Rover Evoque R-Dynamic HSE: 45,941.50\n",
      "2500 Tradesman: 45,902.67\n",
      "TT RS 2.5T: 45,833.33\n",
      "R8 5.2 quattro Spyder: 45,797.58\n",
      "Golf R 20th Anniversary Edition: 45,720.00\n",
      "F-150 Limited: 45,710.00\n",
      "S5 3.0T Premium: 45,687.50\n",
      "Panamera Base: 45,623.74\n",
      "ILX Premium Package: 45,617.15\n",
      "Wrangler Sahara Altitude: 45,582.47\n",
      "Cayman GTS: 45,582.33\n",
      "Navigator L Reserve: 45,554.14\n",
      "RC F Base: 45,527.35\n",
      "Cayenne Platinum Edition: 45,511.15\n",
      "Rover Range Rover Velar SVAutobiography Dynamic Edition: 45,488.75\n",
      "Cayman R: 45,399.80\n",
      "F-TYPE S: 45,354.00\n",
      "X6 sDrive35i: 45,287.54\n",
      "Golf R Base: 45,170.00\n",
      "2500 Longhorn: 45,070.50\n",
      "i3 120Ah w/Range Extender: 45,000.00\n",
      "Rover Range Rover Velar R-Dynamic SE: 44,990.00\n",
      "A5 45 S line Premium Plus: 44,937.25\n",
      "Maverick Lariat: 44,916.50\n",
      "Model Y Long Range: 44,863.94\n",
      "Ascent Touring 7-Passenger: 44,850.92\n",
      "Suburban 1500 LTZ: 44,843.49\n",
      "Expedition Platinum: 44,830.91\n",
      "1500 Limited: 44,806.62\n",
      "Acadia Denali: 44,741.45\n",
      "SQ5 3.0T Premium: 44,717.73\n",
      "Model X Plaid: 44,664.67\n",
      "XC90 Recharge Plug-In Hybrid T8 Inscription 7 Passenger: 44,651.81\n",
      "SL-Class SL63 AMG Roadster: 44,639.08\n",
      "S4 3.0T Premium: 44,546.65\n",
      "Monte Carlo SS: 44,368.66\n",
      "Highlander Platinum: 44,297.00\n",
      "X4 M40i: 44,293.80\n",
      "Romeo Stelvio Ti: 44,277.56\n",
      "AMG C AMG C 63 S: 44,239.40\n",
      "RX 450h F Sport Handling: 44,225.00\n",
      "Q3 45 S line Premium Plus: 44,193.71\n",
      "X5 xDrive40i: 44,146.99\n",
      "Wrangler Unlimited 4xe Sahara: 44,128.82\n",
      "Tundra TRD Pro: 44,041.43\n",
      "Ranger Lariat: 43,975.00\n",
      "3500 Laramie: 43,962.28\n",
      "1500 Big Horn: 43,910.90\n",
      "Grand Cherokee L Limited: 43,842.71\n",
      "GranTurismo Base: 43,796.10\n",
      "GLS 550 Base 4MATIC: 43,764.89\n",
      "GranTurismo Sport: 43,764.17\n",
      "718 Boxster S: 43,695.67\n",
      "H2 Base: 43,673.19\n",
      "C-Class C 63 AMG: 43,661.49\n",
      "Niro Plug-In Hybrid EX Premium: 43,626.86\n",
      "Romeo Stelvio Ti Sport: 43,415.75\n",
      "Suburban Premier: 43,340.55\n",
      "Sorento Hybrid EX: 43,309.09\n",
      "Q7 45 Premium Plus: 43,291.33\n",
      "SL-Class SL500 Roadster: 43,214.78\n",
      "F-150 Lariat: 43,169.96\n",
      "E-PACE S: 43,166.67\n",
      "SL-Class SL 63 AMG: 43,144.33\n",
      "Sorento SX Prestige: 43,141.50\n",
      "Sierra 1500 SLT: 43,115.18\n",
      "Traverse RS: 43,085.96\n",
      "Nautilus Reserve: 43,083.79\n",
      "Sprinter 4500 High Roof: 43,000.00\n",
      "AMG GLE 43 4MATIC Coupe: 42,980.00\n",
      "S6 4.0T: 42,947.62\n",
      "Model S 100D: 42,923.92\n",
      "Envision Preferred: 42,831.07\n",
      "GV70 2.5T: 42,816.44\n",
      "Panamera 4 Edition: 42,704.76\n",
      "1500 Rebel: 42,607.42\n",
      "Q7 55 Prestige: 42,488.24\n",
      "XC90 T6 Inscription: 42,430.20\n",
      "Genesis 5: 42,419.75\n",
      "Camaro LT1: 42,384.21\n",
      "Q8 3.0T Premium: 42,335.00\n",
      "Cayenne Turbo: 42,288.32\n",
      "TLX PMC Edition: 42,249.50\n",
      "F-150 XLT: 42,210.11\n",
      "CX-30 Select: 42,146.33\n",
      "1500 Longhorn: 42,125.69\n",
      "Cayman S: 42,104.00\n",
      "XT5 Luxury: 42,092.76\n",
      "Gladiator Freedom: 42,000.00\n",
      "Santa Cruz 2.5T Limited: 41,986.00\n",
      "Model 3 Long Range: 41,961.40\n",
      "Trailblazer RS: 41,923.57\n",
      "Challenger R/T Scat Pack: 41,913.62\n",
      "MDX Sport Hybrid 3.0L w/Technology Package: 41,899.00\n",
      "Yukon Denali: 41,885.58\n",
      "Rover Range Rover Velar P250 S R-Dynamic: 41,797.50\n",
      "X3 xDrive30i: 41,793.59\n",
      "Charger Scat Pack: 41,736.67\n",
      "Panamera 4S: 41,734.83\n",
      "Sierra 1500 Limited Elevation: 41,722.22\n",
      "Sierra 2500 Base: 41,709.38\n",
      "XT4 Sport: 41,608.33\n",
      "TLX A-Spec: 41,606.80\n",
      "650 Gran Coupe i xDrive: 41,564.07\n",
      "Gladiator Sport: 41,563.78\n",
      "NV Passenger NV3500 HD SL V8: 41,540.64\n",
      "Atlas 3.6L SEL Premium: 41,457.67\n",
      "430 i xDrive: 41,434.14\n",
      "RDX Technology Package: 41,427.91\n",
      "RS 5 4.2: 41,384.00\n",
      "SQ5 3.0T Premium Plus: 41,327.65\n",
      "CLS 450 Base: 41,281.33\n",
      "GLC 300 Base 4MATIC: 41,263.23\n",
      "GS 350 F Sport: 41,244.83\n",
      "Q50 Hybrid Premium: 41,238.57\n",
      "4Runner SR5 Premium: 41,222.76\n",
      "Challenger SRT 392: 41,211.11\n",
      "Ghibli S Q4: 41,134.45\n",
      "Mazda3 FWD w/Preferred Package: 41,097.67\n",
      "RX 350 F Sport Performance: 41,004.22\n",
      "F-350 XL: 41,000.00\n",
      "RC 350 F Sport: 40,959.80\n",
      "Armada Platinum: 40,883.23\n",
      "Odyssey Elite: 40,849.83\n",
      "2500 Laramie: 40,805.83\n",
      "Model Y Performance: 40,757.54\n",
      "Silverado 3500 High Country: 40,724.75\n",
      "Bronco Sport Outer Banks: 40,657.05\n",
      "RDX w/A-Spec Package: 40,655.00\n",
      "530e Base: 40,616.67\n",
      "Niro Plug-In Hybrid EX: 40,612.00\n",
      "XC90 Hybrid T8 Inscription: 40,482.33\n",
      "Jetta 1.4T S: 40,473.26\n",
      "X4 xDrive30i: 40,416.67\n",
      "LX 570 Base: 40,398.88\n",
      "Q50 3.0t Red Sport 400: 40,344.12\n",
      "X1 xDrive 28i: 40,342.60\n",
      "SQ5 3.0T Prestige: 40,335.18\n",
      "Q5 S line Premium Plus: 40,319.69\n",
      "Tundra Hybrid Limited: 40,310.40\n",
      "F-250 XLT: 40,270.74\n",
      "R8 Base: 40,257.33\n",
      "X6 xDrive50i: 40,167.39\n",
      "GR86 Premium: 40,132.18\n",
      "Corsair Reserve: 40,119.36\n",
      "Rover Range Rover Sport 5.0L Supercharged Dynamic: 40,096.08\n",
      "Camaro 2SS: 40,042.31\n",
      "4Runner TRD Sport: 39,992.71\n",
      "e-tron Prestige: 39,990.00\n",
      "F-250 LARIAT: 39,917.50\n",
      "QX80 Luxe: 39,867.84\n",
      "Bronco Sport Big Bend: 39,827.03\n",
      "Silverado 1500 LT Trail Boss: 39,810.56\n",
      "Rover Range Rover 3.0L Supercharged HSE: 39,785.65\n",
      "S-Class S 550: 39,774.92\n",
      "A4 2.0T Titanium Premium: 39,773.63\n",
      "Maverick XLT: 39,773.26\n",
      "NX 350h Premium: 39,724.50\n",
      "F-PACE 25t Premium: 39,722.27\n",
      "Romeo Giulia Base: 39,668.03\n",
      "Corsair Grand Touring: 39,562.43\n",
      "Q4 e-tron Sportback Premium: 39,500.00\n",
      "Wrangler Unlimited Sahara: 39,374.63\n",
      "Telluride EX: 39,333.00\n",
      "Sprinter High Roof: 39,305.61\n",
      "M240 i: 39,128.55\n",
      "Accord Hybrid Base: 39,069.00\n",
      "4Runner Venture: 38,950.00\n",
      "F-TYPE S British Design Edition: 38,866.42\n",
      "F-PACE 35t Premium: 38,842.78\n",
      "TLX Base: 38,827.86\n",
      "Land Cruiser Base: 38,804.35\n",
      "Rover Range Rover Sport 3.0 Supercharged HST: 38,781.00\n",
      "Highlander XLE: 38,778.36\n",
      "SLC 300 Base: 38,770.91\n",
      "Titan S: 38,714.83\n",
      "XE 25t: 38,515.73\n",
      "Evora Base: 38,495.00\n",
      "CT6 Luxury: 38,432.75\n",
      "Rover Range Rover Velar P380 S: 38,395.67\n",
      "S5 3.0T Prestige: 38,391.92\n",
      "Titan SL: 38,304.17\n",
      "Transit-350 Base: 38,249.90\n",
      "RAV4 Hybrid XLE: 38,133.33\n",
      "Stinger GT1: 38,127.12\n",
      "Yukon SLE: 38,065.50\n",
      "Rover Range Rover Velar P380 SE R-Dynamic: 38,031.00\n",
      "Expedition EL King Ranch: 38,009.30\n",
      "430 430i: 38,005.00\n",
      "Wrangler Rubicon Hard Rock: 37,999.20\n",
      "Q3 45 S line Premium: 37,966.33\n",
      "Silverado 1500 1LT: 37,921.93\n",
      "Elantra N Base: 37,904.89\n",
      "Model S Long Range Plus: 37,900.00\n",
      "RX 450h F Sport: 37,899.00\n",
      "911 Carrera Cabriolet: 37,857.38\n",
      "Beetle 2.0T Final Edition SE: 37,785.71\n",
      "Escape PHEV SE: 37,749.50\n",
      "Bronco Base: 37,706.25\n",
      "RS 4 4.2 quattro L: 37,640.00\n",
      "G80 3.8: 37,616.40\n",
      "Cayenne E-Hybrid S Platinum Edition: 37,599.90\n",
      "Rover Discovery HSE: 37,571.29\n",
      "GX 460 Premium: 37,567.81\n",
      "4Runner TRD Pro: 37,520.79\n",
      "Mustang Mach-E Select: 37,500.00\n",
      "Arteon 2.0T SEL Premium R-Line: 37,461.50\n",
      "Traverse Premier: 37,403.88\n",
      "Model S P100D: 37,269.45\n",
      "Q7 3.0T Prestige: 37,255.21\n",
      "F-TYPE: 37,249.00\n",
      "QX80 Base: 37,244.11\n",
      "Navigator L Select: 37,184.39\n",
      "Grand Cherokee Altitude: 37,164.00\n",
      "M3 Base: 37,160.18\n",
      "Tacoma TRD Sport: 37,132.25\n",
      "Sierra 3500 Denali: 37,099.83\n",
      "1500 Classic Warlock: 37,072.87\n",
      "A-Class A 220 4MATIC: 37,058.54\n",
      "Forester Premium: 37,048.57\n",
      "Titan XD SV: 37,045.61\n",
      "A7 Premium Plus: 36,902.85\n",
      "Sportage Nightfall: 36,893.79\n",
      "Lancer Evolution MR: 36,880.00\n",
      "A7 3.0T Premium: 36,841.50\n",
      "CX-30 Premium Package: 36,831.69\n",
      "S-Class S 450: 36,809.67\n",
      "Explorer Platinum: 36,781.58\n",
      "Enclave Premium: 36,751.64\n",
      "Grand Cherokee L Laredo: 36,696.15\n",
      "X3 sDrive30i: 36,689.08\n",
      "CTS-V Base: 36,667.09\n",
      "Mustang Bullitt: 36,554.20\n",
      "C-Class C 300 4MATIC: 36,551.63\n",
      "Macan Base: 36,541.05\n",
      "G70 3.3T Advanced: 36,502.55\n",
      "Palisade SEL: 36,497.00\n",
      "SL-Class SL 550: 36,453.39\n",
      "Q8 55 Premium: 36,416.67\n",
      "X1 xDrive28i: 36,350.23\n",
      "Rover Discovery SE: 36,330.43\n",
      "TLX: 36,300.00\n",
      "NX 300 Base: 36,285.33\n",
      "GX 460 Base: 36,248.13\n",
      "540 i xDrive: 36,181.74\n",
      "750 i: 36,160.08\n",
      "Trailblazer LS: 36,155.12\n",
      "Envision Essence: 36,138.84\n",
      "E-Class E 550: 36,111.04\n",
      "Silverado 1500 LT: 36,051.26\n",
      "Boxster RS 60 Spyder: 35,921.29\n",
      "E-Class AMG E 53: 35,899.00\n",
      "QX60 Luxe: 35,895.40\n",
      "Escalade ESV Luxury: 35,782.59\n",
      "Compass Limited: 35,773.58\n",
      "Rover Range Rover 5.0L Supercharged: 35,769.72\n",
      "NX 350 F SPORT Handling: 35,707.00\n",
      "Bolt EUV Premier: 35,687.67\n",
      "Grand Caravan SE: 35,666.67\n",
      "Canyon Denali: 35,591.62\n",
      "4Runner Limited Nightshade: 35,540.88\n",
      "S-Class S 65 AMG: 35,510.89\n",
      "Wrangler 80th Anniversary: 35,500.00\n",
      "430 i: 35,469.23\n",
      "2500 Big Horn: 35,445.09\n",
      "K5 GT-Line: 35,431.00\n",
      "Grand Cherokee L Summit: 35,297.00\n",
      "NX 200t Base: 35,292.29\n",
      "Arteon 2.0T SEL R-Line: 35,266.67\n",
      "Cayman GT4: 35,257.00\n",
      "C-Class C300 4MATIC: 35,233.50\n",
      "CX-9 Carbon Edition: 35,215.50\n",
      "Niro EX: 35,200.00\n",
      "Mustang GT Premium: 35,190.12\n",
      "Silverado 1500 2LT: 35,180.23\n",
      "IS-F Base: 35,169.66\n",
      "Traverse High Country: 35,152.00\n",
      "Rover Range Rover Sport HSE: 35,127.74\n",
      "Rover Range Rover Sport 3.0L Supercharged HSE: 35,103.90\n",
      "S8 4.0T quattro: 35,049.50\n",
      "740 i: 35,042.60\n",
      "Model X 75D: 35,000.00\n",
      "Rover Discovery Sport S R-Dynamic: 35,000.00\n",
      "Camry Hybrid LE: 34,930.40\n",
      "Yukon XL SLT: 34,925.03\n",
      "Tundra SR: 34,903.85\n",
      "Grand Cherokee Summit: 34,874.50\n",
      "640 Gran Coupe i xDrive: 34,849.93\n",
      "Panamera 4: 34,835.00\n",
      "Tacoma SR: 34,833.08\n",
      "Mazda6 Signature: 34,801.50\n",
      "Cayenne Diesel: 34,799.00\n",
      "RDX Advance Package: 34,790.44\n",
      "Transit-350 XLT: 34,729.67\n",
      "RS 4 Base: 34,692.22\n",
      "Q5 40 Premium: 34,640.00\n",
      "Charger GT: 34,473.78\n",
      "Highlander Hybrid Limited: 34,445.33\n",
      "Atlas 3.6L SE w/Technology: 34,442.00\n",
      "4Runner TRD Off Road: 34,432.83\n",
      "A4 2.0T Tech Premium: 34,424.92\n",
      "Panamera Edition: 34,417.23\n",
      "A8 4.0T: 34,413.36\n",
      "Pacifica Touring: 34,398.00\n",
      "1500 Tradesman/Express: 34,355.15\n",
      "CT5 Premium Luxury: 34,345.00\n",
      "XF 35t R-Sport: 34,327.15\n",
      "XF 25t Prestige: 34,308.25\n",
      "Pilot Elite: 34,195.67\n",
      "Tundra SR5: 34,183.83\n",
      "Colorado ZR2: 34,108.93\n",
      "XT6 Premium Luxury AWD: 34,074.17\n",
      "Sorento SXL: 34,061.60\n",
      "Silverado 2500 LTZ: 34,049.75\n",
      "E-Class E 300 4MATIC: 34,008.65\n",
      "XC90 T6 Momentum: 33,994.99\n",
      "Challenger GT: 33,979.00\n",
      "Q5 2.0T Premium Plus: 33,925.17\n",
      "Canyon Elevation Standard: 33,775.18\n",
      "Elantra HEV Limited: 33,687.50\n",
      "Wrangler Unlimited Rubicon: 33,638.29\n",
      "X5 xDrive50i: 33,512.87\n",
      "E-Class E 450 4MATIC: 33,480.00\n",
      "K900 5.0L: 33,450.00\n",
      "MX-5 Miata RF Club: 33,448.33\n",
      "QX70 Base: 33,447.26\n",
      "Suburban LT: 33,377.01\n",
      "M235 i: 33,295.65\n",
      "Ascent Limited 7-Passenger: 33,249.50\n",
      "Colorado LT: 33,241.50\n",
      "Cayenne Base: 33,228.06\n",
      "Palisade Limited: 33,215.83\n",
      "E-Class E 550 4MATIC: 33,215.00\n",
      "Z4 sDrive35is: 33,128.20\n",
      "A6 45 Premium Plus: 33,107.20\n",
      "Charger SRT8: 33,080.00\n",
      "CX-9 Signature: 33,021.74\n",
      "E-Class E 400: 33,003.15\n",
      "K5 EX: 32,954.00\n",
      "Wrangler Unlimited Freedom Edition: 32,905.22\n",
      "IS 350 F Sport: 32,899.08\n",
      "228 Gran Coupe i xDrive: 32,891.86\n",
      "S3 2.0T Tech Premium Plus: 32,875.00\n",
      "Escalade Platinum Edition: 32,831.50\n",
      "Santa Fe SEL Plus 2.4: 32,770.75\n",
      "Enclave Essence: 32,731.33\n",
      "428 i xDrive SULEV: 32,677.04\n",
      "Rogue SV: 32,540.25\n",
      "650 i xDrive: 32,500.00\n",
      "Rover Range Rover Evoque SE Premium: 32,457.93\n",
      "Suburban LTZ: 32,453.77\n",
      "V60 Cross Country T5: 32,446.43\n",
      "RAV4 TRD Off Road: 32,416.11\n",
      "Murano SV: 32,410.80\n",
      "F-150 XL: 32,350.63\n",
      "Acadia SLE-2: 32,299.81\n",
      "CX-9 Touring Plus: 32,261.83\n",
      "Expedition EL XLT: 32,255.95\n",
      "X6 xDrive35i: 32,239.53\n",
      "Rover Range Rover Sport Supercharged HSE: 32,227.23\n",
      "Q50 3.0t Signature Edition: 32,196.61\n",
      "X5 eDrive xDrive40e: 32,166.67\n",
      "GL-Class GL 550 4MATIC: 32,157.37\n",
      "Transit-250 Base: 32,143.96\n",
      "Encore GX Essence: 32,112.60\n",
      "Lancer Evolution GSR: 32,106.13\n",
      "CX-50 2.5 Turbo Premium Package: 32,063.33\n",
      "Acadia SLE: 32,016.21\n",
      "440 Gran Coupe 440i xDrive: 32,002.00\n",
      "XK R: 31,987.33\n",
      "Rover Discovery HSE LUXURY: 31,983.08\n",
      "S4 3.0T Premium Plus: 31,974.84\n",
      "530 i xDrive: 31,891.33\n",
      "Explorer Limited: 31,877.13\n",
      "Transit-350 XL: 31,804.89\n",
      "Expedition EL Limited: 31,781.77\n",
      "CX-5 Grand Touring: 31,764.94\n",
      "CLS-Class CLS 400 4MATIC: 31,726.00\n",
      "330e iPerformance: 31,689.75\n",
      "Santa Fe SEL: 31,664.25\n",
      "Focus RS Base: 31,663.16\n",
      "Blazer 1LT: 31,620.00\n",
      "A8 L 3.0T: 31,605.87\n",
      "Silverado 2500 LTZ H/D Extended Cab: 31,599.89\n",
      "1500 Classic SLT: 31,565.89\n",
      "AMG C 43 Base: 31,499.50\n",
      "Mazda6 Touring: 31,492.41\n",
      "Golf R 4-Door w/DCC & Navigation: 31,441.15\n",
      "XF Premium: 31,420.19\n",
      "XF S: 31,365.50\n",
      "XT6 Sport AWD: 31,332.40\n",
      "SL-Class SL550 Roadster: 31,320.15\n",
      "XC60 T6 Inscription: 31,306.53\n",
      "440 Gran Coupe i: 31,300.00\n",
      "Edge SEL: 31,294.61\n",
      "A5 Sportback S line Premium Plus: 31,249.50\n",
      "A5 2.0T Prestige: 31,220.66\n",
      "Expedition XLT: 31,202.17\n",
      "XE 35t Premium: 31,165.00\n",
      "Stinger GT2: 31,149.19\n",
      "FX37 Base: 31,148.83\n",
      "H2 SUT: 31,097.00\n",
      "Z Proto Spec: 31,066.67\n",
      "ALPINA B7 xDrive: 31,049.00\n",
      "Blazer Premier: 31,047.14\n",
      "Capri XR2: 31,026.55\n",
      "Q70h Base: 31,007.00\n",
      "G80 3.3T Sport: 31,004.83\n",
      "i3 Base: 31,000.00\n",
      "Titan SE: 31,000.00\n",
      "Highlander Hybrid XLE: 31,000.00\n",
      "SL-Class SL400: 30,997.67\n",
      "Romeo Stelvio Base: 30,837.12\n",
      "ProMaster 2500 High Roof: 30,832.70\n",
      "Altima 2.5 SV: 30,775.00\n",
      "BRZ Limited: 30,720.71\n",
      "WRX STI Base: 30,708.55\n",
      "Sorento Plug-In Hybrid SX Prestige: 30,698.50\n",
      "CX-30 Preferred: 30,682.70\n",
      "Mazda6 Grand Touring Reserve: 30,677.57\n",
      "Challenger R/T: 30,662.67\n",
      "NV Passenger NV3500 HD SV V8: 30,600.00\n",
      "MDX 3.5L w/Advance & Entertainment Pkgs: 30,599.67\n",
      "Highlander Hybrid Limited Platinum: 30,527.97\n",
      "Aviator Luxury: 30,500.00\n",
      "A6 3.0T Prestige: 30,400.64\n",
      "C-Class C 300: 30,369.66\n",
      "RX 350 F Sport: 30,345.56\n",
      "V60 T6 R-Design Platinum: 30,339.00\n",
      "E-Class E 350: 30,308.86\n",
      "Santa Fe Sport 2.0L Turbo: 30,300.00\n",
      "F-250 XL: 30,299.67\n",
      "Passport TrailSport: 30,250.00\n",
      "M8 Base: 30,150.00\n",
      "4Runner Limited: 30,016.72\n",
      "Rogue SL: 30,005.31\n",
      "Maverick XL: 29,999.00\n",
      "Rover Defender: 29,999.00\n",
      "Edge SE: 29,900.00\n",
      "Mustang Mach-E California Route 1: 29,900.00\n",
      "Model S 85D: 29,900.00\n",
      "Bronco Sport Base: 29,881.25\n",
      "XF 25t Premium: 29,866.62\n",
      "340 i: 29,841.39\n",
      "Trailblazer LT: 29,838.67\n",
      "Tacoma Base: 29,798.80\n",
      "MKX Black Label: 29,778.43\n",
      "Q70 3.7: 29,725.00\n",
      "Sorento LX: 29,717.64\n",
      "530 i: 29,554.55\n",
      "Q7 3.0T Premium Plus: 29,538.97\n",
      "S60 B5 Inscription: 29,442.71\n",
      "LS 500 F Sport: 29,436.00\n",
      "Explorer Timberline: 29,414.67\n",
      "SLK-Class SLK280 Roadster: 29,410.00\n",
      "Mazda3 FWD w/Premium Package: 29,386.25\n",
      "Escalade Luxury: 29,364.28\n",
      "Escape SEL: 29,321.89\n",
      "RC 350 Base: 29,296.91\n",
      "Wrangler Unlimited Sport: 29,276.39\n",
      "TLX V6 Advance: 29,256.47\n",
      "Explorer XLT: 29,169.22\n",
      "WRX Premium: 29,150.67\n",
      "Mustang EcoBoost Premium: 29,093.41\n",
      "Challenger SXT: 29,053.14\n",
      "Q5 Premium: 29,052.00\n",
      "Convertible John Cooper Works: 29,050.00\n",
      "TT RS Base: 29,037.38\n",
      "Crosstrek Premium: 28,999.00\n",
      "230 i: 28,966.67\n",
      "Ghibli Base: 28,932.33\n",
      "ProMaster 3500 High Roof: 28,882.67\n",
      "RX 350 Crafted Line F Sport: 28,879.67\n",
      "330 i: 28,803.04\n",
      "TLX V6 Tech: 28,725.54\n",
      "XC60 T5 R-Design: 28,724.83\n",
      "LS 460 Crafted Line: 28,712.52\n",
      "Grand Cherokee Limited: 28,702.08\n",
      "Acadia SLE-1: 28,674.67\n",
      "540 i: 28,644.11\n",
      "435 Gran Coupe i: 28,625.71\n",
      "S60 T5 Premier Plus: 28,585.27\n",
      "X1 sDrive28i: 28,573.65\n",
      "370Z NISMO: 28,550.00\n",
      "Savana 2500 Work Van: 28,540.00\n",
      "Outback Touring XT: 28,533.33\n",
      "1500 SLT: 28,499.94\n",
      "XT5 Base: 28,489.09\n",
      "2500 SLT: 28,420.07\n",
      "A6 2.0T Sport: 28,415.50\n",
      "Rover LR4 HSE: 28,406.82\n",
      "GR86 Base: 28,356.86\n",
      "Equinox Premier w/2LZ: 28,324.00\n",
      "A8 4.0: 28,251.00\n",
      "Equus Signature: 28,237.73\n",
      "330 i xDrive: 28,151.88\n",
      "DeVille Base: 28,141.60\n",
      "E-Class E 300: 28,099.50\n",
      "X5 xDrive35i: 28,093.29\n",
      "Caliber Express: 28,081.12\n",
      "Forester Base: 28,066.83\n",
      "Q50 Hybrid Sport: 28,066.50\n",
      "Q70 3.7X: 28,030.93\n",
      "Charger SE: 28,000.00\n",
      "Hardtop Cooper S: 27,960.48\n",
      "9-3 Aero: 27,899.00\n",
      "Evora 2+2: 27,877.67\n",
      "E-PACE 300 Sport: 27,836.50\n",
      "GLE 450 GLE 450: 27,828.67\n",
      "Sorento LX V6: 27,826.80\n",
      "Sierra 2500 SLE: 27,824.71\n",
      "SRX Standard: 27,819.00\n",
      "A3 2.0T Tech Premium: 27,799.54\n",
      "MKZ Reserve I: 27,779.44\n",
      "Passat 2.5 SE: 27,749.89\n",
      "Civic Type R Touring: 27,749.75\n",
      "S5 3.0T Premium Plus: 27,718.21\n",
      "Civic Si Base: 27,689.91\n",
      "Civic Sport: 27,614.44\n",
      "Ridgeline Black Edition: 27,611.17\n",
      "Rover Discovery Sport SE: 27,581.33\n",
      "A5 2.0T Premium Plus: 27,574.72\n",
      "SSR Base: 27,463.36\n",
      "Golf R 4-Door: 27,440.11\n",
      "Model 3 Standard Range Plus: 27,416.17\n",
      "C-Class C 300 4MATIC Sport: 27,360.79\n",
      "Elise Base: 27,333.00\n",
      "E-Class D 2.5 Turbo: 27,279.80\n",
      "MX-5 Miata RF Grand Touring: 27,279.00\n",
      "Touareg V6 Executive: 27,188.46\n",
      "CX-9 Grand Touring: 27,177.69\n",
      "135 is: 27,124.38\n",
      "Rover LR4 HSE LUX Landmark Edition: 27,100.05\n",
      "640 Gran Coupe i: 27,049.00\n",
      "Malibu Premier: 26,999.75\n",
      "Mazda6 Carbon Edition: 26,981.50\n",
      "Impreza WRX Sti: 26,972.17\n",
      "Silverado 2500 LT: 26,957.33\n",
      "Explorer sport: 26,921.57\n",
      "XC90 3.2 Premier Plus: 26,900.00\n",
      "Wrangler Sport: 26,892.07\n",
      "Transit Connect XL w/Rear Symmetrical Doors: 26,881.00\n",
      "Silverado 1500 High Country: 26,846.50\n",
      "S4 3.0 Prestige: 26,841.31\n",
      "Navigator Select: 26,834.92\n",
      "Camaro 1LT: 26,818.18\n",
      "Convertible Cooper: 26,750.00\n",
      "Highlander SE: 26,749.68\n",
      "Rover Range Rover 3.0L Supercharged: 26,716.33\n",
      "ILX Premium & A-SPEC Packages: 26,680.00\n",
      "F-150 FX4: 26,677.78\n",
      "Quattroporte Base: 26,674.90\n",
      "Sportage SX Turbo: 26,575.86\n",
      "XJ Vanden Plas: 26,514.96\n",
      "M37 x: 26,483.33\n",
      "4Runner Trail: 26,476.16\n",
      "Sprinter 2500: 26,348.49\n",
      "Challenger SRT8 392: 26,272.18\n",
      "Sportage S: 26,236.80\n",
      "Mustang EcoBoost: 26,171.71\n",
      "S60 T6 Momentum: 26,161.31\n",
      "4Runner SR5: 26,143.55\n",
      "Mustang SVT Cobra: 26,134.00\n",
      "NV200 SV: 26,127.27\n",
      "Mazda6 Grand Touring: 26,125.00\n",
      "Odyssey LX: 26,118.89\n",
      "S2000 CR: 26,110.14\n",
      "650 i: 26,101.81\n",
      "Escalade ESV Platinum Edition: 26,089.93\n",
      "Focus SEL: 26,064.67\n",
      "G37 Sport: 26,061.00\n",
      "Sorento EX V6: 26,060.67\n",
      "S3 2.0T Premium Plus: 26,043.36\n",
      "Titan XD S: 25,999.75\n",
      "CT4 Luxury: 25,938.57\n",
      "Avalanche LTZ: 25,899.75\n",
      "GL-Class GL 550: 25,860.44\n",
      "550 Gran Turismo i: 25,849.29\n",
      "C-Max Energi SE: 25,842.00\n",
      "Passat 2.0T SE: 25,805.56\n",
      "S90 T5 Momentum: 25,775.00\n",
      "Sprinter 2500 High Roof: 25,750.00\n",
      "Impreza WRX Premium: 25,749.17\n",
      "XKR Base: 25,680.00\n",
      "Challenger SRT8: 25,640.90\n",
      "CX-30 2.5 S Select Package: 25,622.05\n",
      "Mustang GT: 25,550.20\n",
      "Yukon SLT: 25,519.56\n",
      "Panamera 2: 25,517.92\n",
      "Stinger GT: 25,500.00\n",
      "F-350 XLT: 25,499.88\n",
      "Golf GTI 2.0T SE 4-Door: 25,391.80\n",
      "Corsair Standard: 25,377.60\n",
      "Golf GTI 2.0T Autobahn 4-Door: 25,376.67\n",
      "Santa Fe Sport 2.0L Turbo Ultimate: 25,373.23\n",
      "Rover Range Rover Sport Supercharged: 25,300.13\n",
      "A6 2.0T Premium Plus: 25,288.71\n",
      "Highlander Limited: 25,276.89\n",
      "Fusion Hybrid Titanium: 25,249.50\n",
      "RX 450h Base: 25,206.59\n",
      "Mazda3 Touring: 25,199.86\n",
      "Kona N Base: 25,177.50\n",
      "Beetle 2.0T S: 25,163.81\n",
      "TT Roadster quattro: 25,138.86\n",
      "XF 35t Prestige: 25,055.77\n",
      "Tacoma SR5: 25,024.75\n",
      "Arteon 2.0T SE: 24,999.00\n",
      "Outback Limited: 24,942.00\n",
      "350Z NISMO: 24,920.64\n",
      "S5 3.0 Premium Plus: 24,914.21\n",
      "Grand Cherokee Laredo: 24,896.81\n",
      "Protege DX: 24,812.14\n",
      "Thunderbird Premium: 24,801.85\n",
      "Q7 3.0T Premium: 24,790.75\n",
      "TTS 2.0T Premium Plus: 24,771.46\n",
      "435 i xDrive: 24,724.44\n",
      "MKC Reserve: 24,703.51\n",
      "Express 2500 Work Van: 24,689.92\n",
      "SLK-Class SLK 350: 24,668.86\n",
      "Outback Limited XT: 24,655.00\n",
      "Countryman Cooper S ALL4: 24,618.71\n",
      "Rover Discovery Sport SE R-Dynamic: 24,599.83\n",
      "Sorento EX: 24,598.33\n",
      "370Z NISMO Tech: 24,497.30\n",
      "CX-30 Base: 24,477.60\n",
      "Cayman Base: 24,447.13\n",
      "GL-Class GL 450 4MATIC: 24,446.79\n",
      "Quattroporte Sport GT: 24,425.00\n",
      "XTS Luxury: 24,407.48\n",
      "Santa Fe GLS: 24,390.77\n",
      "Juke SV: 24,379.44\n",
      "IS 300 Base: 24,355.85\n",
      "Venza XLE: 24,316.67\n",
      "Yukon XL 1500 SLT: 24,295.71\n",
      "MKZ Reserve: 24,284.31\n",
      "Impala 1LT: 24,281.93\n",
      "Tucson SEL: 24,278.67\n",
      "Escalade ESV Base: 24,181.65\n",
      "XC90 Hybrid T8 R-Design: 24,147.41\n",
      "C-HR LE: 24,130.40\n",
      "A6 3.0T Premium Plus: 24,095.25\n",
      "Seltos S: 24,089.14\n",
      "Impreza WRX Sti Special Edition: 23,969.18\n",
      "GLA-Class GLA 250 4MATIC: 23,935.73\n",
      "XC70 T6 Platinum: 23,921.89\n",
      "Highlander Limited Platinum: 23,920.81\n",
      "650 Gran Coupe i: 23,907.14\n",
      "550 i xDrive: 23,885.43\n",
      "CX-5 Touring: 23,858.44\n",
      "Golf GTI 2.0T SE w/Performance Package 4-Door: 23,798.50\n",
      "MKX Reserve: 23,735.62\n",
      "Trailblazer SS: 23,730.83\n",
      "Boxster Black Edition: 23,716.67\n",
      "LS 460 Base: 23,634.96\n",
      "NX 300h Base: 23,599.00\n",
      "X3 xDrive35i: 23,587.00\n",
      "WRX Limited: 23,576.68\n",
      "Highlander LE Plus: 23,505.31\n",
      "Mustang V6: 23,470.23\n",
      "Transit Connect XL: 23,432.00\n",
      "Crosstrek 2.0i Limited: 23,378.60\n",
      "X3 xDrive28i: 23,355.67\n",
      "Civic Si: 23,325.88\n",
      "X5 sDrive35i: 23,306.25\n",
      "Fiesta ST: 23,300.00\n",
      "QX30 Premium: 23,267.50\n",
      "Wrangler Rubicon: 23,248.14\n",
      "A7 Premium: 23,192.60\n",
      "RX 350 Base: 23,048.67\n",
      "Camry Hybrid XLE: 23,026.23\n",
      "Grand Caravan R/T: 23,000.00\n",
      "QX60 Base: 22,996.72\n",
      "Tiguan 2.0T SEL Premium R-Line: 22,975.00\n",
      "Enclave Leather: 22,933.71\n",
      "Camaro 2LT: 22,923.52\n",
      "Santa Fe SE: 22,884.32\n",
      "Silverado 1500 1LZ: 22,861.88\n",
      "Mustang V6 Premium: 22,861.39\n",
      "Charger R/T: 22,818.87\n",
      "428 Gran Coupe i xDrive: 22,810.86\n",
      "XF 3.0 Portfolio: 22,807.67\n",
      "Arnage R: 22,778.50\n",
      "F-250 XLT SuperCab Super Duty: 22,747.73\n",
      "CTS 2.0L Turbo Luxury: 22,715.17\n",
      "M-Class ML 350 4MATIC: 22,699.70\n",
      "Sierra 2500 SLE H/D Extended Cab: 22,583.33\n",
      "Genesis Coupe 3.8 Base: 22,578.46\n",
      "MKS EcoBoost: 22,540.72\n",
      "Rover LR4 Lux: 22,499.25\n",
      "Genesis Coupe 3.8 R-Spec: 22,444.36\n",
      "640 i: 22,411.53\n",
      "Maxima 3.5 SR: 22,389.80\n",
      "G35 Sport: 22,350.00\n",
      "IS 350 Base: 22,329.91\n",
      "QX56 Base: 22,275.31\n",
      "FX50 Base: 22,233.43\n",
      "Q50 Premium: 22,230.71\n",
      "CTS 3.6L Premium: 22,212.39\n",
      "RDX Base: 22,199.80\n",
      "1500 Sport: 22,195.74\n",
      "LaCrosse Base: 22,128.29\n",
      "Accord EX-L 2.0T: 22,107.22\n",
      "Escalade EXT Base: 22,097.63\n",
      "XTS Premium: 22,040.00\n",
      "Pilot EX-L: 22,027.21\n",
      "320 i xDrive: 21,916.67\n",
      "C-Class C 250 Sport: 21,896.43\n",
      "Suburban 2500 LS: 21,757.33\n",
      "Juke NISMO RS: 21,750.00\n",
      "LS V8: 21,749.00\n",
      "Pathfinder Platinum: 21,602.00\n",
      "Clarity Plug-In Hybrid Base: 21,600.00\n",
      "Mazda6 i Touring: 21,593.38\n",
      "Beetle 1.8T: 21,574.17\n",
      "A5 2.0T Premium: 21,565.26\n",
      "TT 2.0T: 21,564.18\n",
      "ProMaster 2500 Window Van High Roof: 21,553.22\n",
      "Optima S: 21,550.00\n",
      "330 330i xDrive: 21,497.00\n",
      "ATS 2.0L Turbo: 21,492.86\n",
      "FJ Cruiser Base: 21,468.22\n",
      "128 i: 21,421.43\n",
      "Focus ST Base: 21,410.56\n",
      "Wrangler Unlimited X: 21,405.93\n",
      "Tacoma Double Cab: 21,405.89\n",
      "3500 SLT: 21,374.75\n",
      "Sierra 1500 SLE: 21,338.43\n",
      "535 i xDrive: 21,309.43\n",
      "Ranger XLT: 21,280.56\n",
      "MDX 3.5L Technology Package: 21,275.00\n",
      "C-Class C55 AMG Sport: 21,258.00\n",
      "Q40 Base: 21,256.14\n",
      "Outlander SEL: 21,232.56\n",
      "F-350 Lariat Crew Cab Super Duty DRW: 21,224.75\n",
      "528 i xDrive: 21,215.94\n",
      "MKZ Select: 21,187.59\n",
      "CR-V Touring: 21,176.50\n",
      "Clubman Cooper S ALL4: 21,149.50\n",
      "XJ Base: 21,140.00\n",
      "RL Technology: 21,111.40\n",
      "BRZ Premium: 21,088.46\n",
      "Rover Range Rover Evoque Base: 21,043.44\n",
      "ATS 3.6L Luxury: 21,040.84\n",
      "Z4 sDrive28i: 21,014.74\n",
      "Accord Hybrid Touring: 21,000.00\n",
      "Accent SEL: 20,999.50\n",
      "Mazda3 i SV: 20,993.62\n",
      "XLR V: 20,947.50\n",
      "435 i: 20,908.98\n",
      "Explorer Sport: 20,797.50\n",
      "Pathfinder SL: 20,791.05\n",
      "TL 3.7: 20,781.12\n",
      "228 i: 20,780.50\n",
      "A4 2.0T Premium Plus: 20,703.19\n",
      "Forester 2.5i Limited: 20,692.86\n",
      "S2000 Base: 20,692.68\n",
      "F-250 XL SuperCab H/D: 20,659.00\n",
      "CTS 3.6L Luxury: 20,657.33\n",
      "Impreza WRX STI: 20,599.82\n",
      "CTS Performance: 20,580.94\n",
      "SL-Class SL600 Roadster: 20,559.08\n",
      "X5 3.0si: 20,548.67\n",
      "Crosstrek 2.0i Premium: 20,500.00\n",
      "Rover Range Rover Evoque Pure: 20,495.66\n",
      "GLA-Class GLA 45 AMG: 20,474.88\n",
      "CX-7 Grand Touring: 20,426.00\n",
      "Rover Discovery Sport HSE: 20,395.00\n",
      "Rover Range Rover Evoque HSE Dynamic: 20,350.00\n",
      "Terrain SLT: 20,314.00\n",
      "300M Base: 20,250.00\n",
      "RAV4 SE: 20,212.75\n",
      "Impreza WRX: 20,201.19\n",
      "GL-Class GL 450: 20,182.55\n",
      "300 S: 20,144.41\n",
      "F-250 XLT Crew Cab Super Duty: 20,069.88\n",
      "Edge Titanium: 20,049.64\n",
      "LX 470 Base: 19,966.00\n",
      "CLA-Class CLA 250: 19,938.02\n",
      "WRX Base: 19,904.11\n",
      "XK Base: 19,899.96\n",
      "Insight EX: 19,888.20\n",
      "ES 300h Base: 19,848.12\n",
      "Q5 3.0 TDI Premium Plus: 19,821.56\n",
      "Golf GTI 2.0T S 4-Door: 19,812.00\n",
      "E-Class E 350 4MATIC: 19,811.31\n",
      "Challenger SE: 19,653.08\n",
      "Dart SE: 19,649.35\n",
      "Forte GT-Line: 19,640.15\n",
      "MKC Select: 19,607.60\n",
      "335 is: 19,595.18\n",
      "Escalade Premium: 19,580.52\n",
      "1500 Cheyenne Extended Cab: 19,557.07\n",
      "GS 350 Base: 19,511.06\n",
      "NV200 S: 19,500.00\n",
      "RSX Type S: 19,460.41\n",
      "GX 470 Base: 19,436.28\n",
      "Q50 3.0T Premium: 19,417.36\n",
      "MX-5 Miata Club: 19,398.17\n",
      "Edge Sport: 19,353.72\n",
      "Fusion Hybrid SE Hybrid: 19,301.14\n",
      "i3 Base w/Range Extender: 19,299.67\n",
      "Solstice GXP: 19,266.02\n",
      "G37 x: 19,261.44\n",
      "Impreza 2.0i Sport: 19,225.59\n",
      "MDX w/Advance Package: 19,190.00\n",
      "ES 350 Base: 19,181.02\n",
      "Corolla Hybrid LE: 19,146.67\n",
      "RLX Advance Package: 19,124.83\n",
      "Thunderbird Deluxe: 19,103.89\n",
      "Cooper S Clubman Base: 18,974.00\n",
      "Wrangler Sahara: 18,967.71\n",
      "124 Spider Abarth: 18,937.50\n",
      "Suburban 1500 LT: 18,908.98\n",
      "Veloster Value Edition: 18,853.00\n",
      "Outback 3.6R Limited: 18,711.19\n",
      "911 GT2 RS: 18,688.00\n",
      "Prius v Three: 18,673.57\n",
      "ATS 2.0L Turbo Luxury: 18,669.76\n",
      "Eos 2.0T: 18,658.11\n",
      "Malibu 1LT: 18,646.49\n",
      "Firebird Trans Am: 18,624.26\n",
      "Hardtop Cooper: 18,598.56\n",
      "Maxima SV: 18,540.71\n",
      "Genesis 3.8: 18,508.18\n",
      "428 i: 18,455.44\n",
      "Jetta 1.4T R-Line: 18,454.90\n",
      "Pathfinder Silver: 18,449.40\n",
      "Encore Preferred: 18,445.00\n",
      "LS 460 L: 18,418.53\n",
      "E150 XLT: 18,418.50\n",
      "TT 1.8L: 18,361.00\n",
      "Q3 2.0T Premium Plus: 18,355.12\n",
      "Boxster Base: 18,316.85\n",
      "Excursion XLS: 18,315.83\n",
      "TSX Base: 18,308.73\n",
      "Sequoia SR5: 18,265.87\n",
      "Rover Range Rover HSE: 18,240.32\n",
      "Outlander Sport 2.4 SE: 18,179.00\n",
      "CX-7 Sport: 18,161.33\n",
      "CLK-Class CLK 350: 18,118.50\n",
      "Avalon XLE: 18,082.35\n",
      "TLX Tech: 18,051.00\n",
      "ILX Technology Plus Package: 18,033.97\n",
      "CT 200h Base: 17,973.75\n",
      "300 Base: 17,962.19\n",
      "TT 2.0T Premium: 17,959.78\n",
      "335 i xDrive: 17,959.45\n",
      "SRX Luxury Collection: 17,923.13\n",
      "Compass Trailhawk: 17,889.40\n",
      "528 i: 17,845.41\n",
      "CLK-Class 550: 17,812.50\n",
      "C-Class C 300 Luxury: 17,807.83\n",
      "370Z Touring: 17,782.58\n",
      "Genesis Coupe 2.0T R-Spec: 17,768.70\n",
      "A3 2.0T Premium: 17,768.41\n",
      "M56 Base: 17,750.00\n",
      "Utility Police Interceptor Base: 17,744.90\n",
      "Compass Latitude: 17,722.88\n",
      "Touareg VR6 Lux: 17,713.90\n",
      "Terrain Denali: 17,698.75\n",
      "Silverado 1500 LS: 17,665.83\n",
      "Boxster S: 17,647.38\n",
      "Fusion Hybrid Base: 17,599.81\n",
      "Mazda6 i Grand Touring: 17,586.75\n",
      "MDX 3.7L Advance: 17,552.07\n",
      "xB Base: 17,545.00\n",
      "Rover Discovery LSE: 17,542.00\n",
      "Ram 1500 SLT Mega Cab: 17,495.00\n",
      "Rover LR2 Base: 17,481.53\n",
      "Avalon Touring: 17,472.88\n",
      "Armada SV: 17,465.67\n",
      "XC90 3.2: 17,448.06\n",
      "Sonata SE: 17,413.88\n",
      "740 Li: 17,284.44\n",
      "C-Class C 300 4MATIC Luxury: 17,242.14\n",
      "ATS 2.5L Luxury: 17,204.18\n",
      "Impreza 2.0i: 17,159.74\n",
      "Touareg TDI Lux: 17,130.50\n",
      "G8 GT: 17,121.17\n",
      "200 C: 17,111.15\n",
      "GTO Base: 17,106.73\n",
      "ProMaster 3500 Tradesman: 17,079.00\n",
      "C-Class C 250 Luxury: 17,057.69\n",
      "CT 200h Premium: 17,039.59\n",
      "F-150 XLT SuperCab: 17,009.63\n",
      "LS 500 Base: 17,000.00\n",
      "G35 Base: 16,967.37\n",
      "Silverado 1500 LT Extended Cab: 16,957.35\n",
      "Genesis Coupe 3.8 Track: 16,953.93\n",
      "F-150 Lariat SuperCrew: 16,931.20\n",
      "Golf SportWagen TSI SE: 16,903.06\n",
      "CX-9 Touring: 16,889.17\n",
      "CTS Luxury: 16,875.96\n",
      "MKZ Base: 16,875.08\n",
      "Optima SX Turbo: 16,875.00\n",
      "Acadia SLT-2: 16,820.00\n",
      "Golf Auto TSI S: 16,791.33\n",
      "F-250 Base: 16,750.00\n",
      "A6 3.0 TDI Premium Plus: 16,748.90\n",
      "Express 3500 LT: 16,742.71\n",
      "X5 3.0i: 16,708.25\n",
      "Odyssey EX-L: 16,690.64\n",
      "Sienna LE: 16,689.00\n",
      "Mazda3 s Grand Touring: 16,642.86\n",
      "TL Technology: 16,613.77\n",
      "Legacy 2.5 GT spec.B: 16,575.00\n",
      "Pathfinder S: 16,553.39\n",
      "Golf Alltrack TSI SE: 16,542.86\n",
      "Impreza 2.0i Premium: 16,523.14\n",
      "i3 94 Ah: 16,500.00\n",
      "Q5 2.0T Premium: 16,500.00\n",
      "MX-5 Miata Grand Touring: 16,497.88\n",
      "428 i xDrive: 16,482.35\n",
      "Armada LE: 16,481.58\n",
      "C30 T5 Premier Plus: 16,450.00\n",
      "Sprinter Normal Roof: 16,447.80\n",
      "Sonata Hybrid Limited: 16,444.47\n",
      "Tundra SR5 Double Cab: 16,442.93\n",
      "Tiguan 2.0T SE: 16,400.00\n",
      "XJ8 L: 16,384.71\n",
      "Lancer Evolution Base: 16,358.17\n",
      "Escape SE: 16,352.14\n",
      "A4 2.0T Premium quattro: 16,332.83\n",
      "MazdaSpeed Miata MX-5 Base: 16,331.36\n",
      "CLS-Class CLS500: 16,311.00\n",
      "Express 3500 Base: 16,309.60\n",
      "ATS 2.5L: 16,263.96\n",
      "RX-8 R3: 16,237.50\n",
      "Taurus SHO: 16,218.25\n",
      "ZDX Base: 16,187.95\n",
      "Mazda3 i Touring: 16,169.67\n",
      "Outback 3.6R Touring: 16,137.29\n",
      "GLK-Class GLK 350: 16,100.09\n",
      "LS 430 Base: 16,089.91\n",
      "XK8 Base: 16,084.94\n",
      "Excursion Limited 4WD: 16,084.59\n",
      "MX-5 Miata Sport: 16,069.30\n",
      "XC60 3.2: 16,027.06\n",
      "M-Class ML 350: 16,012.50\n",
      "Prius Touring: 15,999.00\n",
      "A4 2.0T Premium: 15,949.51\n",
      "Tundra Grade: 15,933.33\n",
      "Genesis Coupe 3.8 Grand Touring: 15,932.04\n",
      "Prius Two: 15,931.67\n",
      "328 i xDrive: 15,876.11\n",
      "Rio S: 15,800.00\n",
      "Excursion Limited: 15,779.26\n",
      "Transit Connect XLT: 15,773.01\n",
      "Legacy 2.5i Premium: 15,771.00\n",
      "G37 S Sport: 15,648.33\n",
      "MKC Base: 15,527.17\n",
      "Silverado 1500 W/T: 15,526.36\n",
      "335 i: 15,520.38\n",
      "Outback 2.5i Limited: 15,518.44\n",
      "Acadia SLT-1: 15,513.07\n",
      "Jetta GLX VR6: 15,509.78\n",
      "Tucson Limited: 15,500.03\n",
      "Renegade Trailhawk: 15,500.00\n",
      "Navigator L: 15,497.64\n",
      "Malibu LT: 15,490.82\n",
      "Optima LX: 15,458.76\n",
      "Compass High Altitude: 15,456.25\n",
      "750 Li: 15,455.33\n",
      "Colorado LT Crew Cab: 15,411.17\n",
      "Express 1500 Cargo: 15,389.60\n",
      "Fusion SE: 15,378.92\n",
      "Sorento Plug-In Hybrid SX: 15,363.00\n",
      "Ram Van 1500: 15,277.86\n",
      "MKZ Hybrid Base: 15,250.00\n",
      "S-10 LS Crew Cab: 15,227.48\n",
      "A4 2.0T Premium Plus quattro: 15,213.54\n",
      "Avalanche 1500 LT: 15,207.21\n",
      "A6 3.2 quattro: 15,176.33\n",
      "Altima 2.5 S: 15,146.16\n",
      "Sky Red Line: 15,110.93\n",
      "135 i: 15,108.97\n",
      "Impala 2LZ: 15,098.80\n",
      "Jetta 1.4T SE: 15,083.38\n",
      "Sonata Sport 2.0T: 15,056.20\n",
      "Avalanche 1500 LTZ: 15,007.15\n",
      "Fusion Energi Titanium: 14,999.80\n",
      "500e Battery Electric: 14,999.00\n",
      "New Compass Trailhawk: 14,959.90\n",
      "E-Class 400E: 14,949.50\n",
      "TT 1.8T: 14,943.13\n",
      "Fusion Hybrid SE: 14,940.71\n",
      "Marauder Base: 14,934.15\n",
      "Frontier SV: 14,817.83\n",
      "Juke SL: 14,784.02\n",
      "Avalon Hybrid XLE Premium: 14,725.88\n",
      "Z4 3.0si: 14,691.67\n",
      "Wrangler SE: 14,683.87\n",
      "LaCrosse Leather: 14,668.88\n",
      "370Z Base: 14,665.57\n",
      "RAV4 Base: 14,660.70\n",
      "CTS Premium: 14,643.00\n",
      "Yaris L: 14,637.25\n",
      "Prius Plug-in Base: 14,600.00\n",
      "CC 2.0T Sport: 14,597.36\n",
      "XJ8 Base: 14,584.20\n",
      "ILX 2.4L: 14,499.67\n",
      "500X Trekking Plus: 14,449.50\n",
      "Q5 3.0T Premium Plus: 14,443.55\n",
      "Accord EX-L: 14,429.45\n",
      "X5 xDrive 35i Sport Activity: 14,409.54\n",
      "MKX Base: 14,399.71\n",
      "XF Luxury: 14,397.05\n",
      "300 Touring: 14,382.83\n",
      "Silverado 1500 LT Crew Cab: 14,379.60\n",
      "86 Base: 14,363.57\n",
      "S4 Base: 14,342.27\n",
      "Veloster Turbo R-Spec: 14,337.80\n",
      "MKT Base: 14,311.11\n",
      "RX 300 Base: 14,230.00\n",
      "tC Anniversary Edition: 14,224.47\n",
      "E250 Cargo: 14,219.44\n",
      "Navigator Base: 14,214.23\n",
      "ILX 2.0L w/Premium Package: 14,166.33\n",
      "Frontier SL: 14,133.22\n",
      "MKS Base: 14,124.40\n",
      "Outback 2.5i Premium: 14,124.22\n",
      "Malibu LTZ: 14,103.46\n",
      "Impreza WRX Base: 14,085.93\n",
      "Xterra S: 14,077.07\n",
      "Forte LXS: 14,075.67\n",
      "Sienna XLE Limited: 14,042.86\n",
      "C-Class C280 4MATIC: 14,024.33\n",
      "500 Lounge: 14,000.00\n",
      "Mirai Base: 14,000.00\n",
      "C70 T5: 13,995.55\n",
      "Avenger SE: 13,993.08\n",
      "Versa 1.8 S: 13,986.41\n",
      "Pickup Truck XE: 13,981.09\n",
      "Accord Sport: 13,966.00\n",
      "Trax LS: 13,908.88\n",
      "Ram 2500 ST: 13,891.12\n",
      "Malibu Limited LT: 13,830.67\n",
      "Express 1500 Work Van: 13,787.67\n",
      "Mazda3 s Sport: 13,779.85\n",
      "Ram 2500 Quad Cab: 13,768.75\n",
      "STS V6: 13,759.60\n",
      "Corolla iM Base: 13,750.00\n",
      "Pathfinder SV: 13,746.50\n",
      "Wrangler S: 13,737.50\n",
      "SRX Performance Collection: 13,732.22\n",
      "Ram 1500 Laramie Mega Cab: 13,693.82\n",
      "S40 T5: 13,688.33\n",
      "Explorer Sport Trac XLT: 13,683.62\n",
      "allroad 2.0T Prestige: 13,679.00\n",
      "XC70 3.2: 13,658.07\n",
      "S80 T6: 13,608.33\n",
      "Civic EX: 13,607.18\n",
      "300C Base: 13,601.11\n",
      "F-250 XL Crew Cab Super Duty: 13,539.90\n",
      "Golf SportWagen TSI S 4-Door: 13,496.78\n",
      "Veloster Base: 13,490.86\n",
      "Corolla S Plus: 13,466.67\n",
      "SC 430 Base: 13,461.47\n",
      "Terrain SLT-1: 13,457.83\n",
      "Rover Range Rover Supercharged: 13,450.00\n",
      "328 i: 13,433.49\n",
      "MDX Technology: 13,430.41\n",
      "XJ6 Vanden Plas: 13,403.67\n",
      "IS 250 Base: 13,396.61\n",
      "MDX Touring: 13,376.89\n",
      "Silverado 1500 Hybrid 1HY: 13,350.00\n",
      "Tundra SR5 Access Cab: 13,327.24\n",
      "350Z Touring: 13,281.12\n",
      "E350 Super Duty Base: 13,244.93\n",
      "MazdaSpeed3 Grand Touring: 13,225.69\n",
      "Cascada Base: 13,209.20\n",
      "F-150 Heritage XL SuperCab Flareside: 13,197.25\n",
      "Forte Koup EX: 13,187.33\n",
      "86 860 Special Edition: 13,171.43\n",
      "Forester 2.5 XT: 13,141.00\n",
      "TT 3.2 Cabriolet quattro: 13,136.25\n",
      "Jetta GLI: 13,132.35\n",
      "Ram 2500 SLT Quad Cab: 13,091.85\n",
      "Tacoma PreRunner: 13,051.52\n",
      "Optima Hybrid LX: 13,049.38\n",
      "Focus SE: 13,037.07\n",
      "E-Class E55 AMG: 13,035.00\n",
      "Camry XLE: 13,026.29\n",
      "Rover Discovery S: 13,016.67\n",
      "SLK-Class SLK230 Kompressor: 12,996.00\n",
      "TSX 2.4: 12,985.22\n",
      "SC 300 Base: 12,982.00\n",
      "Elantra SE: 12,977.86\n",
      "Mazda3 i Sport: 12,963.11\n",
      "Optima EX: 12,906.53\n",
      "XLR Base: 12,900.00\n",
      "E350 Super Duty XLT: 12,880.92\n",
      "IS 250C Base: 12,864.50\n",
      "Genesis 4.6: 12,863.27\n",
      "GTI Base: 12,848.92\n",
      "SLK-Class SLK 250: 12,825.00\n",
      "300C SRT8: 12,785.00\n",
      "TL Type S: 12,760.89\n",
      "Civic LX: 12,728.71\n",
      "MX-5 Miata Base: 12,710.89\n",
      "750 Li xDrive: 12,710.00\n",
      "F-250 XLT Super Duty: 12,682.95\n",
      "Camaro Z28: 12,650.36\n",
      "911 Carrera Turbo: 12,648.75\n",
      "Equinox 2LT: 12,623.08\n",
      "Outlander Sport ES: 12,600.00\n",
      "Murano SL: 12,541.32\n",
      "Verano Convenience: 12,527.86\n",
      "Maxima GLE: 12,524.57\n",
      "Sonata Hybrid Base: 12,511.65\n",
      "DTS Luxury: 12,474.50\n",
      "Ram 3500 Quad Cab DRW: 12,466.50\n",
      "CTS Base: 12,461.11\n",
      "S60 R: 12,433.17\n",
      "Mustang Premium: 12,394.56\n",
      "Rover LR3 HSE: 12,390.36\n",
      "Coupe Cambiocorsa: 12,380.64\n",
      "Escalade Base: 12,358.00\n",
      "S4 4.2 quattro: 12,348.75\n",
      "Taurus X Limited: 12,297.31\n",
      "EcoSport SES: 12,277.71\n",
      "HS 250h Premium: 12,166.33\n",
      "Camry Solara SE: 12,144.09\n",
      "328 xi: 12,079.20\n",
      "500 Sport: 12,079.00\n",
      "Yaris Base: 12,078.43\n",
      "Fit Sport: 12,057.14\n",
      "Cruze LT Automatic: 11,996.40\n",
      "Roadmaster Estate: 11,984.71\n",
      "Tahoe LS: 11,978.50\n",
      "Optima Hybrid EX: 11,955.50\n",
      "Accent GLS: 11,939.28\n",
      "350Z Enthusiast: 11,930.41\n",
      "MX-5 Miata Shinsen: 11,928.29\n",
      "Lancer DE: 11,924.11\n",
      "CLK-Class 500 Cabriolet: 11,893.56\n",
      "Cooper S Base: 11,861.73\n",
      "Xterra Pro-4X: 11,861.14\n",
      "Crosstour EX-L: 11,843.83\n",
      "Routan SE: 11,842.27\n",
      "Sky Base: 11,836.88\n",
      "Crossfire Limited: 11,835.67\n",
      "Solstice Base: 11,833.33\n",
      "S80 3.2: 11,812.50\n",
      "Town & Country Touring-L: 11,794.37\n",
      "Wrangler Unlimited: 11,784.80\n",
      "S-Class S500: 11,765.33\n",
      "Z3 3.0i Roadster: 11,700.00\n",
      "RX-8 Sport: 11,684.54\n",
      "Flex Limited: 11,649.65\n",
      "Impreza Outback Sport Wagon: 11,622.73\n",
      "Avalon Limited: 11,616.73\n",
      "325 i: 11,564.15\n",
      "Outback 3.0 R VDC Limited: 11,457.14\n",
      "Ram 2500 Laramie Quad Cab: 11,444.95\n",
      "Prelude Type SH: 11,399.29\n",
      "TSX Technology: 11,368.00\n",
      "Sonata GLS: 11,364.15\n",
      "Ram 1500 ST: 11,325.31\n",
      "Camaro Base: 11,319.60\n",
      "Cruze LTZ: 11,297.79\n",
      "E-Class E500: 11,297.50\n",
      "Camry Hybrid Base: 11,239.38\n",
      "G6 GTP: 11,205.90\n",
      "Celica GT: 11,160.64\n",
      "Wrangler X: 11,159.18\n",
      "Highlander Base: 11,145.77\n",
      "SX4 Base: 11,099.75\n",
      "Ram 1500 Quad Cab: 11,051.00\n",
      "Mark LT Base: 11,016.06\n",
      "Element EX: 11,012.15\n",
      "Charger Base: 11,000.00\n",
      "Mazda6 iSport VE: 10,957.89\n",
      "Sportage LX: 10,956.84\n",
      "Versa 1.6 SL: 10,949.83\n",
      "SLK-Class SLK320: 10,916.29\n",
      "Avalanche 1500 LS: 10,901.26\n",
      "Silverado 1500 Z71 Extended Cab: 10,900.00\n",
      "FR-S Monogram: 10,882.83\n",
      "DTS Base: 10,877.22\n",
      "Z4 3.0i Roadster: 10,868.85\n",
      "Z4 2.5i Roadster: 10,843.52\n",
      "Explorer Eddie Bauer: 10,820.69\n",
      "Altima 2.5 SL: 10,819.15\n",
      "Integra GS-R: 10,816.67\n",
      "Jetta S: 10,809.05\n",
      "Firebird Base: 10,793.00\n",
      "H3 Base: 10,749.64\n",
      "Corolla LE: 10,741.65\n",
      "Camry Solara SLE: 10,699.82\n",
      "Lancer Evolution IX: 10,684.90\n",
      "Baja Base: 10,663.33\n",
      "Commander Base: 10,628.57\n",
      "Sonic LT: 10,599.83\n",
      "Magnum R/T: 10,583.17\n",
      "Maxima SL: 10,571.50\n",
      "Silverado 2500 LT H/D Extended Cab: 10,540.71\n",
      "Enclave 1XL: 10,486.88\n",
      "Commander Sport: 10,452.78\n",
      "Express 1500 Base: 10,450.00\n",
      "Eurovan MV: 10,399.52\n",
      "535 i: 10,399.50\n",
      "Escape Limited: 10,357.54\n",
      "tC Base: 10,336.75\n",
      "Pilot EX: 10,313.04\n",
      "Impala Base: 10,303.33\n",
      "Lancer GTS: 10,263.64\n",
      "MDX Sport: 10,255.30\n",
      "DTS Luxury II: 10,225.80\n",
      "Legacy 2.5 i Premium: 10,201.50\n",
      "Lucerne CXL: 10,199.67\n",
      "tC Release Series 6.0: 10,149.50\n",
      "240SX Base: 10,121.25\n",
      "Tucson SE: 10,070.17\n",
      "Camry Solara SLE V6: 10,063.62\n",
      "Cooper Base: 10,042.13\n",
      "Escape XLT: 10,038.55\n",
      "Caprice Classic Base: 10,007.83\n",
      "Cruze LS: 10,002.36\n",
      "CR-V EX-L: 10,000.00\n",
      "Silverado 1500 Base: 9,987.25\n",
      "Excursion XLT 4WD: 9,986.27\n",
      "Flex SEL: 9,982.89\n",
      "Excursion Limited Ultimate: 9,948.62\n",
      "A4 3.2 Premium Plus quattro: 9,898.75\n",
      "Genesis Coupe 2.0T: 9,897.73\n",
      "Liberty Limited: 9,894.09\n",
      "RX-8 Grand Touring: 9,892.71\n",
      "Colorado Z85: 9,875.35\n",
      "Mustang Base: 9,848.12\n",
      "LaCrosse CX: 9,827.78\n",
      "A3 2.0T: 9,783.33\n",
      "Forester 2.5 X: 9,749.83\n",
      "CR-V LX: 9,704.25\n",
      "TL 3.2: 9,699.33\n",
      "325 xi: 9,649.00\n",
      "Cruze LT: 9,645.98\n",
      "Patriot Latitude: 9,634.57\n",
      "Town & Country Touring: 9,596.81\n",
      "Suburban 1500 LS: 9,571.29\n",
      "Montero Limited: 9,557.00\n",
      "Rover LR2 HSE: 9,556.00\n",
      "Magnum Base: 9,532.29\n",
      "Liberty Renegade: 9,521.23\n",
      "Eclipse Spyder GT: 9,502.65\n",
      "RX 330 Base: 9,454.62\n",
      "325 Ci: 9,444.63\n",
      "850 Turbo: 9,341.43\n",
      "Frontier SE Crew Cab: 9,277.78\n",
      "Outback 2.5 i Special Edition: 9,269.14\n",
      "Sorento SX: 9,247.67\n",
      "300ZX Base: 9,217.73\n",
      "Ranger XLT SuperCab: 9,216.95\n",
      "ES 330 Base: 9,161.00\n",
      "Jetta SportWagen SE: 9,134.94\n",
      "Town Car Base: 9,117.38\n",
      "4Runner 4WD: 9,110.56\n",
      "Z4 2.5i: 9,099.86\n",
      "Forte LX: 8,999.00\n",
      "Dakota SLT Quad Cab: 8,811.98\n",
      "Regal Turbo - Premium 1: 8,800.00\n",
      "Mirage ES: 8,750.00\n",
      "Mirai Limited: 8,747.50\n",
      "Accent GL: 8,719.58\n",
      "750 iL: 8,669.80\n",
      "Camry SE: 8,620.00\n",
      "Ram 1500 Laramie: 8,619.23\n",
      "Lancer Sportback ES: 8,590.50\n",
      "Matrix XRS: 8,554.90\n",
      "Corolla CE: 8,519.80\n",
      "CC Sport: 8,516.33\n",
      "323 Ci: 8,496.89\n",
      "Camry LE: 8,468.65\n",
      "Cherokee Sport: 8,448.00\n",
      "Equinox LT: 8,414.90\n",
      "CR-V EX: 8,353.32\n",
      "4Runner Sport: 8,332.62\n",
      "Cube 1.8 S: 8,259.09\n",
      "Quest SL: 8,235.00\n",
      "Silverado 2500 H/D: 8,225.00\n",
      "Sierra 1500 SLE1 Extended Cab: 8,175.00\n",
      "Town & Country LX: 8,120.00\n",
      "525 i: 8,099.67\n",
      "Mazda3 Grand Touring: 7,945.00\n",
      "Compass Sport: 7,939.21\n",
      "Liberty Sport: 7,915.04\n",
      "Ranger Sport SuperCab: 7,891.85\n",
      "Avalon XLS: 7,796.75\n",
      "A3 2.0 TDI Premium Plus: 7,700.00\n",
      "RX 300 4WD: 7,609.07\n",
      "Eclipse Spyder GS: 7,604.62\n",
      "New Beetle GLS: 7,599.80\n",
      "Rogue Sport S: 7,500.00\n",
      "Integra LS: 7,476.08\n",
      "Matrix XR: 7,465.56\n",
      "Dakota Big Horn/Lone Star: 7,372.69\n",
      "Dakota Sport: 7,315.14\n",
      "Town Car Signature: 7,305.39\n",
      "Accord Crosstour EX-L: 7,250.00\n",
      "Elantra GLS: 7,205.00\n",
      "Monte Carlo Supercharged SS: 7,171.43\n",
      "740 iL: 7,107.14\n",
      "Dakota SLT: 6,979.90\n",
      "1500 Cheyenne: 6,966.33\n",
      "Pilot Black Edition: 6,950.00\n",
      "Tahoe Base: 6,799.75\n",
      "Eclipse GS: 6,735.00\n",
      "Ranger Edge SuperCab: 6,649.83\n",
      "Suburban 2500: 6,500.00\n",
      "Eclipse GT: 6,313.57\n",
      "Sebring LX: 6,250.00\n",
      "Rainier CXL: 5,979.60\n",
      "allroad 2.7T: 5,833.33\n",
      "RSX Base: 5,400.00\n",
      "Vue Hybrid Base: 4,370.00\n",
      "S-10 LS: 4,200.00\n",
      "Prowler Base: 3,850.00\n"
     ]
    }
   ],
   "source": [
    "# Average price of car by model\n",
    "average_price_model = train.groupby(['model'])['price'].mean().sort_values(ascending=False)\n",
    "\n",
    "# Print each brand and its average price without scientific notation\n",
    "for model, price in average_price_model.items():\n",
    "    print(f'{model}: {price:,.2f}')"
   ]
  },
  {
   "cell_type": "markdown",
   "id": "cfb3c11b",
   "metadata": {
    "papermill": {
     "duration": 0.035095,
     "end_time": "2024-06-22T23:13:30.974493",
     "exception": false,
     "start_time": "2024-06-22T23:13:30.939398",
     "status": "completed"
    },
    "tags": []
   },
   "source": [
    "## Model Year\n",
    "I explore the various model years of cars in the dataset, which is crucial for assessing depreciation and technology advancements.\n",
    "\n",
    "As a car gets older, its value typically decreases.\n",
    "\n",
    "We have cars as old as 1974 to as new as 2024.\n",
    "\n",
    "2019 is the year where the most cars were distributed. In 2008 and 2009, there is a small rise in distribution of cars compared to previous and followed by a dip in 2010. Upon a quick Google search, 2008-2010 is the years the automotive industry faced a crisis. Further research would be needed to see if its a confounder or of importance to take note."
   ]
  },
  {
   "cell_type": "code",
   "execution_count": 24,
   "id": "7f6a4845",
   "metadata": {
    "execution": {
     "iopub.execute_input": "2024-06-22T23:13:31.050653Z",
     "iopub.status.busy": "2024-06-22T23:13:31.050245Z",
     "iopub.status.idle": "2024-06-22T23:13:31.430084Z",
     "shell.execute_reply": "2024-06-22T23:13:31.428744Z"
    },
    "papermill": {
     "duration": 0.422808,
     "end_time": "2024-06-22T23:13:31.432794",
     "exception": false,
     "start_time": "2024-06-22T23:13:31.009986",
     "status": "completed"
    },
    "tags": []
   },
   "outputs": [
    {
     "name": "stdout",
     "output_type": "stream",
     "text": [
      "Range of years: 1974 to 2024\n"
     ]
    },
    {
     "data": {
      "image/png": "[encoded data removed]",
      "text/plain": [
       "<Figure size 1000x600 with 1 Axes>"
      ]
     },
     "metadata": {},
     "output_type": "display_data"
    }
   ],
   "source": [
    "# Look at distribution of cars across model years\n",
    "min_year = train['model_year'].min()\n",
    "max_year = train['model_year'].max()\n",
    "print(f\"Range of years: {min_year} to {max_year}\")\n",
    "plt.figure(figsize=(10, 6))\n",
    "plt.hist(train['model_year'], bins=range(train['model_year'].min(), train['model_year'].max() + 1), color='skyblue', edgecolor='black')\n",
    "plt.title('Distribution of Cars by Year')\n",
    "plt.xlabel('Year')\n",
    "plt.ylabel('Frequency')\n",
    "plt.grid(True)\n",
    "plt.show()"
   ]
  },
  {
   "cell_type": "code",
   "execution_count": 25,
   "id": "9a9373cf",
   "metadata": {
    "execution": {
     "iopub.execute_input": "2024-06-22T23:13:31.507391Z",
     "iopub.status.busy": "2024-06-22T23:13:31.506992Z",
     "iopub.status.idle": "2024-06-22T23:13:31.797832Z",
     "shell.execute_reply": "2024-06-22T23:13:31.796526Z"
    },
    "papermill": {
     "duration": 0.331306,
     "end_time": "2024-06-22T23:13:31.800318",
     "exception": false,
     "start_time": "2024-06-22T23:13:31.469012",
     "status": "completed"
    },
    "tags": []
   },
   "outputs": [
    {
     "name": "stdout",
     "output_type": "stream",
     "text": [
      "Range of years: 1974 to 2024\n"
     ]
    },
    {
     "data": {
      "image/png": "[encoded data removed]",
      "text/plain": [
       "<Figure size 1000x600 with 1 Axes>"
      ]
     },
     "metadata": {},
     "output_type": "display_data"
    }
   ],
   "source": [
    "# Look at distribution of cars across model years\n",
    "min_year = test['model_year'].min()\n",
    "max_year = test['model_year'].max()\n",
    "print(f\"Range of years: {min_year} to {max_year}\")\n",
    "plt.figure(figsize=(10, 6))\n",
    "plt.hist(test['model_year'], bins=range(train['model_year'].min(), test['model_year'].max() + 1), color='skyblue', edgecolor='black')\n",
    "plt.title('Distribution of Cars by Year')\n",
    "plt.xlabel('Year')\n",
    "plt.ylabel('Frequency')\n",
    "plt.grid(True)\n",
    "plt.show()"
   ]
  },
  {
   "cell_type": "markdown",
   "id": "00a42ecc",
   "metadata": {
    "papermill": {
     "duration": 0.036997,
     "end_time": "2024-06-22T23:13:31.873238",
     "exception": false,
     "start_time": "2024-06-22T23:13:31.836241",
     "status": "completed"
    },
    "tags": []
   },
   "source": [
    "## Milage\n",
    "I explore the various milage of each vehicle in the data, a key indicator of wear and tear and potential maintenance requirements. Milage is a factor in car depreciation. \n",
    "\n",
    "Milage ranges from 100 to 405,000 miles."
   ]
  },
  {
   "cell_type": "code",
   "execution_count": 26,
   "id": "8c14cda9",
   "metadata": {
    "execution": {
     "iopub.execute_input": "2024-06-22T23:13:31.949892Z",
     "iopub.status.busy": "2024-06-22T23:13:31.948984Z",
     "iopub.status.idle": "2024-06-22T23:13:31.955688Z",
     "shell.execute_reply": "2024-06-22T23:13:31.954631Z"
    },
    "papermill": {
     "duration": 0.048224,
     "end_time": "2024-06-22T23:13:31.958232",
     "exception": false,
     "start_time": "2024-06-22T23:13:31.910008",
     "status": "completed"
    },
    "tags": []
   },
   "outputs": [
    {
     "name": "stdout",
     "output_type": "stream",
     "text": [
      "Range of miles: 100 to 405000\n"
     ]
    }
   ],
   "source": [
    "# Look at distribution of cars across model years\n",
    "min_miles = train['milage'].min()\n",
    "max_miles = train['milage'].max()\n",
    "print(f\"Range of miles: {min_miles} to {max_miles}\")"
   ]
  },
  {
   "cell_type": "code",
   "execution_count": 27,
   "id": "de98d347",
   "metadata": {
    "execution": {
     "iopub.execute_input": "2024-06-22T23:13:32.034101Z",
     "iopub.status.busy": "2024-06-22T23:13:32.033719Z",
     "iopub.status.idle": "2024-06-22T23:13:32.040206Z",
     "shell.execute_reply": "2024-06-22T23:13:32.038887Z"
    },
    "papermill": {
     "duration": 0.04817,
     "end_time": "2024-06-22T23:13:32.042854",
     "exception": false,
     "start_time": "2024-06-22T23:13:31.994684",
     "status": "completed"
    },
    "tags": []
   },
   "outputs": [
    {
     "name": "stdout",
     "output_type": "stream",
     "text": [
      "Range of miles: 100 to 405000\n"
     ]
    }
   ],
   "source": [
    "min_miles = test['milage'].min()\n",
    "max_miles = test['milage'].max()\n",
    "print(f\"Range of miles: {min_miles} to {max_miles}\")"
   ]
  },
  {
   "cell_type": "markdown",
   "id": "277ba1d5",
   "metadata": {
    "papermill": {
     "duration": 0.039145,
     "end_time": "2024-06-22T23:13:32.122840",
     "exception": false,
     "start_time": "2024-06-22T23:13:32.083695",
     "status": "completed"
    },
    "tags": []
   },
   "source": [
    "## Fuel Type\n",
    "I explore the various fuel types the cars run on.\n",
    "\n",
    "The majority of fuel type is Gasoline, followed by Hybrid, and then E85 Flex Fuel. \n",
    "\n",
    "The - and not supported fuel types will need to be replaced with Electric as fuel type."
   ]
  },
  {
   "cell_type": "code",
   "execution_count": 28,
   "id": "d0696af7",
   "metadata": {
    "execution": {
     "iopub.execute_input": "2024-06-22T23:13:32.198283Z",
     "iopub.status.busy": "2024-06-22T23:13:32.197880Z",
     "iopub.status.idle": "2024-06-22T23:13:32.211035Z",
     "shell.execute_reply": "2024-06-22T23:13:32.209523Z"
    },
    "papermill": {
     "duration": 0.054145,
     "end_time": "2024-06-22T23:13:32.213760",
     "exception": false,
     "start_time": "2024-06-22T23:13:32.159615",
     "status": "completed"
    },
    "tags": []
   },
   "outputs": [
    {
     "data": {
      "text/plain": [
       "fuel_type\n",
       "Gasoline          49439\n",
       "Hybrid             1766\n",
       "E85 Flex Fuel      1479\n",
       "Diesel             1109\n",
       "–                   294\n",
       "Plug-In Hybrid      182\n",
       "not supported         4\n",
       "Name: count, dtype: int64"
      ]
     },
     "execution_count": 28,
     "metadata": {},
     "output_type": "execute_result"
    }
   ],
   "source": [
    "train['fuel_type'].value_counts()"
   ]
  },
  {
   "cell_type": "code",
   "execution_count": 29,
   "id": "2beb7764",
   "metadata": {
    "execution": {
     "iopub.execute_input": "2024-06-22T23:13:32.289573Z",
     "iopub.status.busy": "2024-06-22T23:13:32.289189Z",
     "iopub.status.idle": "2024-06-22T23:13:32.299959Z",
     "shell.execute_reply": "2024-06-22T23:13:32.298678Z"
    },
    "papermill": {
     "duration": 0.051636,
     "end_time": "2024-06-22T23:13:32.302226",
     "exception": false,
     "start_time": "2024-06-22T23:13:32.250590",
     "status": "completed"
    },
    "tags": []
   },
   "outputs": [
    {
     "data": {
      "text/plain": [
       "fuel_type\n",
       "Gasoline          33033\n",
       "Hybrid             1112\n",
       "E85 Flex Fuel      1018\n",
       "Diesel              671\n",
       "–                   197\n",
       "Plug-In Hybrid      148\n",
       "not supported         4\n",
       "Name: count, dtype: int64"
      ]
     },
     "execution_count": 29,
     "metadata": {},
     "output_type": "execute_result"
    }
   ],
   "source": [
    "test['fuel_type'].value_counts()"
   ]
  },
  {
   "cell_type": "markdown",
   "id": "b2f136e2",
   "metadata": {
    "papermill": {
     "duration": 0.037243,
     "end_time": "2024-06-22T23:13:32.376150",
     "exception": false,
     "start_time": "2024-06-22T23:13:32.338907",
     "status": "completed"
    },
    "tags": []
   },
   "source": [
    "## Engine\n",
    "I explore the various engine of each vehicle in the data, which specifies the engine specifications, shedding light on performance and efficiency. \n",
    "\n",
    "'Engine' are strings with numerical values and the numerical values may need to be extracted for further analysis. There appears to be three possible features with numerical value in the string: horsepower(HP), engine displacement(L), and cylinders(Cylinder).\n",
    "\n",
    "Generally, the higher/lower horsepower, engine displacement, and cylinders are correlated with a higher/lower price, respectively.\n"
   ]
  },
  {
   "cell_type": "code",
   "execution_count": 30,
   "id": "2f9fabba",
   "metadata": {
    "execution": {
     "iopub.execute_input": "2024-06-22T23:13:32.451729Z",
     "iopub.status.busy": "2024-06-22T23:13:32.451324Z",
     "iopub.status.idle": "2024-06-22T23:13:32.465452Z",
     "shell.execute_reply": "2024-06-22T23:13:32.463995Z"
    },
    "papermill": {
     "duration": 0.055179,
     "end_time": "2024-06-22T23:13:32.467953",
     "exception": false,
     "start_time": "2024-06-22T23:13:32.412774",
     "status": "completed"
    },
    "tags": []
   },
   "outputs": [
    {
     "data": {
      "text/plain": [
       "engine\n",
       "300.0HP 3.0L Straight 6 Cylinder Engine Gasoline Fuel    1452\n",
       "355.0HP 5.3L 8 Cylinder Engine Gasoline Fuel             1125\n",
       "240.0HP 2.0L 4 Cylinder Engine Gasoline Fuel             1054\n",
       "285.0HP 3.6L V6 Cylinder Engine Gasoline Fuel             979\n",
       "420.0HP 6.2L 8 Cylinder Engine Gasoline Fuel              893\n",
       "                                                         ... \n",
       "4.4 Liter GDI DOHC Twin Turbo                               1\n",
       "3.0 Liter Twin Turbo                                        1\n",
       "150.0HP 2.0L 4 Cylinder Engine Diesel Fuel                  1\n",
       "266.0HP Electric Motor Electric Fuel System                 1\n",
       "151.0HP Electric Motor Hydrogen Fuel                        1\n",
       "Name: count, Length: 1061, dtype: int64"
      ]
     },
     "execution_count": 30,
     "metadata": {},
     "output_type": "execute_result"
    }
   ],
   "source": [
    "train['engine'].value_counts()"
   ]
  },
  {
   "cell_type": "markdown",
   "id": "973d6957",
   "metadata": {
    "papermill": {
     "duration": 0.046418,
     "end_time": "2024-06-22T23:13:32.552830",
     "exception": false,
     "start_time": "2024-06-22T23:13:32.506412",
     "status": "completed"
    },
    "tags": []
   },
   "source": [
    "# Transmission\n",
    "I explore the various transmission types of each vehicle in the data.\n",
    "\n",
    "The most common transmission type appears to be Automatic. However, in the feature engineering section, I may want to group by Automatic, Manual, or CVT. "
   ]
  },
  {
   "cell_type": "code",
   "execution_count": 31,
   "id": "626878ff",
   "metadata": {
    "execution": {
     "iopub.execute_input": "2024-06-22T23:13:32.629188Z",
     "iopub.status.busy": "2024-06-22T23:13:32.628805Z",
     "iopub.status.idle": "2024-06-22T23:13:32.641292Z",
     "shell.execute_reply": "2024-06-22T23:13:32.640089Z"
    },
    "papermill": {
     "duration": 0.053907,
     "end_time": "2024-06-22T23:13:32.644060",
     "exception": false,
     "start_time": "2024-06-22T23:13:32.590153",
     "status": "completed"
    },
    "tags": []
   },
   "outputs": [
    {
     "data": {
      "text/plain": [
       "transmission\n",
       "A/T                                                   16757\n",
       "8-Speed A/T                                            7287\n",
       "Transmission w/Dual Shift Mode                         6454\n",
       "6-Speed A/T                                            5944\n",
       "6-Speed M/T                                            3618\n",
       "7-Speed A/T                                            3415\n",
       "10-Speed A/T                                           2187\n",
       "8-Speed Automatic                                      1189\n",
       "5-Speed A/T                                            1185\n",
       "9-Speed A/T                                            1073\n",
       "4-Speed A/T                                             764\n",
       "5-Speed M/T                                             718\n",
       "CVT Transmission                                        692\n",
       "10-Speed Automatic                                      642\n",
       "6-Speed Automatic                                       516\n",
       "Automatic                                               441\n",
       "M/T                                                     359\n",
       "9-Speed Automatic                                       344\n",
       "7-Speed Automatic with Auto-Shift                       110\n",
       "7-Speed M/T                                             104\n",
       "Automatic CVT                                            95\n",
       "1-Speed A/T                                              60\n",
       "8-Speed Automatic with Auto-Shift                        55\n",
       "Transmission Overdrive Switch                            54\n",
       "7-Speed Automatic                                        41\n",
       "6-Speed Manual                                           34\n",
       "5-Speed Automatic                                        24\n",
       "7-Speed Manual                                           22\n",
       "6-Speed Automatic with Auto-Shift                        17\n",
       "8-Speed Manual                                            9\n",
       "4-Speed Automatic                                         8\n",
       "7-Speed                                                   7\n",
       "–                                                         7\n",
       "7-Speed DCT Automatic                                     6\n",
       "1-Speed Automatic                                         6\n",
       "6-Speed Electronically Controlled Automatic with O        6\n",
       "10-Speed Automatic with Overdrive                         5\n",
       "2-Speed A/T                                               5\n",
       "6-Speed                                                   3\n",
       "9-Speed Automatic with Auto-Shift                         2\n",
       "SCHEDULED FOR OR IN PRODUCTION                            2\n",
       "6 Speed Mt                                                2\n",
       "CVT-F                                                     1\n",
       "F                                                         1\n",
       "Variable                                                  1\n",
       "6 Speed At/Mt                                             1\n",
       "Name: count, dtype: int64"
      ]
     },
     "execution_count": 31,
     "metadata": {},
     "output_type": "execute_result"
    }
   ],
   "source": [
    "train['transmission'].value_counts()"
   ]
  },
  {
   "cell_type": "markdown",
   "id": "5cc77375",
   "metadata": {
    "papermill": {
     "duration": 0.037547,
     "end_time": "2024-06-22T23:13:32.719865",
     "exception": false,
     "start_time": "2024-06-22T23:13:32.682318",
     "status": "completed"
    },
    "tags": []
   },
   "source": [
    "## Exterior Color\n",
    "I explore the various exterior colors of each car in the data. \n",
    "\n",
    "Black is the most common color choice. Certain car colors may be more expensive. However, upon researching, each manufacturer has their own color name list and choices so no feature engineering may be needed for colors and can be dropped instead."
   ]
  },
  {
   "cell_type": "code",
   "execution_count": 32,
   "id": "593c4275",
   "metadata": {
    "execution": {
     "iopub.execute_input": "2024-06-22T23:13:32.801771Z",
     "iopub.status.busy": "2024-06-22T23:13:32.800483Z",
     "iopub.status.idle": "2024-06-22T23:13:32.813559Z",
     "shell.execute_reply": "2024-06-22T23:13:32.812387Z"
    },
    "papermill": {
     "duration": 0.055682,
     "end_time": "2024-06-22T23:13:32.815948",
     "exception": false,
     "start_time": "2024-06-22T23:13:32.760266",
     "status": "completed"
    },
    "tags": []
   },
   "outputs": [
    {
     "data": {
      "text/plain": [
       "ext_col\n",
       "Black                      15078\n",
       "White                      13422\n",
       "Gray                        7909\n",
       "Silver                      5161\n",
       "Blue                        4668\n",
       "                           ...  \n",
       "Balloon White                  1\n",
       "Firenze Red Metallic           1\n",
       "Orca Black Metallic            1\n",
       "Radiant Red Metallic II        1\n",
       "Magnetic Gray Clearcoat        1\n",
       "Name: count, Length: 260, dtype: int64"
      ]
     },
     "execution_count": 32,
     "metadata": {},
     "output_type": "execute_result"
    }
   ],
   "source": [
    "train['ext_col'].value_counts()"
   ]
  },
  {
   "cell_type": "markdown",
   "id": "fa86d5c1",
   "metadata": {
    "papermill": {
     "duration": 0.037052,
     "end_time": "2024-06-22T23:13:32.890757",
     "exception": false,
     "start_time": "2024-06-22T23:13:32.853705",
     "status": "completed"
    },
    "tags": []
   },
   "source": [
    "## Interior Color\n",
    "I explore the various interior colors of each car in the data. "
   ]
  },
  {
   "cell_type": "code",
   "execution_count": 33,
   "id": "644e196a",
   "metadata": {
    "execution": {
     "iopub.execute_input": "2024-06-22T23:13:32.969340Z",
     "iopub.status.busy": "2024-06-22T23:13:32.968557Z",
     "iopub.status.idle": "2024-06-22T23:13:32.980817Z",
     "shell.execute_reply": "2024-06-22T23:13:32.979664Z"
    },
    "papermill": {
     "duration": 0.054459,
     "end_time": "2024-06-22T23:13:32.982931",
     "exception": false,
     "start_time": "2024-06-22T23:13:32.928472",
     "status": "completed"
    },
    "tags": []
   },
   "outputs": [
    {
     "data": {
      "text/plain": [
       "int_col\n",
       "Black                31820\n",
       "Beige                 7995\n",
       "Gray                  6252\n",
       "Brown                 2239\n",
       "Red                   1499\n",
       "                     ...  \n",
       "Cloud                    1\n",
       "Black/Red                1\n",
       "Oyster/Black             1\n",
       "Oyster W/Contrast        1\n",
       "Red/Black                1\n",
       "Name: count, Length: 124, dtype: int64"
      ]
     },
     "execution_count": 33,
     "metadata": {},
     "output_type": "execute_result"
    }
   ],
   "source": [
    "train['int_col'].value_counts()"
   ]
  },
  {
   "cell_type": "markdown",
   "id": "0bbf2398",
   "metadata": {
    "papermill": {
     "duration": 0.037881,
     "end_time": "2024-06-22T23:13:33.059138",
     "exception": false,
     "start_time": "2024-06-22T23:13:33.021257",
     "status": "completed"
    },
    "tags": []
   },
   "source": [
    "## Accident\n",
    "I explore the accident report of each car in the data. \n",
    "\n",
    "A car that is accident free will have a higher resale value than one that has at least 1 accident or damage reported."
   ]
  },
  {
   "cell_type": "code",
   "execution_count": 34,
   "id": "794a67a0",
   "metadata": {
    "execution": {
     "iopub.execute_input": "2024-06-22T23:13:33.138501Z",
     "iopub.status.busy": "2024-06-22T23:13:33.138036Z",
     "iopub.status.idle": "2024-06-22T23:13:33.150545Z",
     "shell.execute_reply": "2024-06-22T23:13:33.149232Z"
    },
    "papermill": {
     "duration": 0.055677,
     "end_time": "2024-06-22T23:13:33.152772",
     "exception": false,
     "start_time": "2024-06-22T23:13:33.097095",
     "status": "completed"
    },
    "tags": []
   },
   "outputs": [
    {
     "data": {
      "text/plain": [
       "accident\n",
       "None reported                             39896\n",
       "At least 1 accident or damage reported    14377\n",
       "Name: count, dtype: int64"
      ]
     },
     "execution_count": 34,
     "metadata": {},
     "output_type": "execute_result"
    }
   ],
   "source": [
    "train['accident'].value_counts()"
   ]
  },
  {
   "cell_type": "markdown",
   "id": "cdb4c18b",
   "metadata": {
    "papermill": {
     "duration": 0.036948,
     "end_time": "2024-06-22T23:13:33.227047",
     "exception": false,
     "start_time": "2024-06-22T23:13:33.190099",
     "status": "completed"
    },
    "tags": []
   },
   "source": [
    "##  Clean Title\n",
    "I expore the clean title of each car in the data, which tells you if a vehicle has been declared a total loss or not.\n",
    "\n",
    "All the cars in the data have a clean title and therefore the column can be dropped as it will not be much help when building the model."
   ]
  },
  {
   "cell_type": "code",
   "execution_count": 35,
   "id": "e45c2d5c",
   "metadata": {
    "execution": {
     "iopub.execute_input": "2024-06-22T23:13:33.304249Z",
     "iopub.status.busy": "2024-06-22T23:13:33.303800Z",
     "iopub.status.idle": "2024-06-22T23:13:33.315228Z",
     "shell.execute_reply": "2024-06-22T23:13:33.314160Z"
    },
    "papermill": {
     "duration": 0.052979,
     "end_time": "2024-06-22T23:13:33.317771",
     "exception": false,
     "start_time": "2024-06-22T23:13:33.264792",
     "status": "completed"
    },
    "tags": []
   },
   "outputs": [
    {
     "data": {
      "text/plain": [
       "clean_title\n",
       "Yes    54273\n",
       "Name: count, dtype: int64"
      ]
     },
     "execution_count": 35,
     "metadata": {},
     "output_type": "execute_result"
    }
   ],
   "source": [
    "train['clean_title'].value_counts()"
   ]
  },
  {
   "cell_type": "markdown",
   "id": "cbfe5ce7",
   "metadata": {
    "papermill": {
     "duration": 0.036847,
     "end_time": "2024-06-22T23:13:33.392186",
     "exception": false,
     "start_time": "2024-06-22T23:13:33.355339",
     "status": "completed"
    },
    "tags": []
   },
   "source": [
    "## Price\n",
    "This is our target variable, and is the price of the car listed by the seller. I explore price and its relationship with other variables.\n",
    "\n",
    "Observations: Most cars on average are priced below 1M USD. It appears that the newer the model_year, the higher the selling price. Distribution seems skewed right. There seems to be an outlier in the far left end tail.\n",
    "\n",
    "A majority of the cars have a milage of 150,000 miles or less. It appears that the more milage the car has, the less the selling price. Distribution seems skewed left. There seems to be an outlier in the far right end tail."
   ]
  },
  {
   "cell_type": "code",
   "execution_count": 36,
   "id": "5c64774b",
   "metadata": {
    "execution": {
     "iopub.execute_input": "2024-06-22T23:13:33.469306Z",
     "iopub.status.busy": "2024-06-22T23:13:33.468618Z",
     "iopub.status.idle": "2024-06-22T23:13:33.476663Z",
     "shell.execute_reply": "2024-06-22T23:13:33.475462Z"
    },
    "papermill": {
     "duration": 0.049718,
     "end_time": "2024-06-22T23:13:33.478884",
     "exception": false,
     "start_time": "2024-06-22T23:13:33.429166",
     "status": "completed"
    },
    "tags": []
   },
   "outputs": [
    {
     "data": {
      "text/plain": [
       "0"
      ]
     },
     "execution_count": 36,
     "metadata": {},
     "output_type": "execute_result"
    }
   ],
   "source": [
    "train['price'].isnull().sum()"
   ]
  },
  {
   "cell_type": "code",
   "execution_count": 37,
   "id": "1b27700c",
   "metadata": {
    "execution": {
     "iopub.execute_input": "2024-06-22T23:13:33.557239Z",
     "iopub.status.busy": "2024-06-22T23:13:33.556838Z",
     "iopub.status.idle": "2024-06-22T23:13:33.969361Z",
     "shell.execute_reply": "2024-06-22T23:13:33.968165Z"
    },
    "papermill": {
     "duration": 0.454021,
     "end_time": "2024-06-22T23:13:33.971781",
     "exception": false,
     "start_time": "2024-06-22T23:13:33.517760",
     "status": "completed"
    },
    "tags": []
   },
   "outputs": [
    {
     "data": {
      "image/png": "[encoded data removed]",
      "text/plain": [
       "<Figure size 1000x600 with 1 Axes>"
      ]
     },
     "metadata": {},
     "output_type": "display_data"
    }
   ],
   "source": [
    "# Scatterplot of Relationship of price and model_year\n",
    "plt.figure(figsize=(10, 6))\n",
    "sns.scatterplot(x='model_year', y='price', data=train)\n",
    "\n",
    "# Function to format y-axis without scientific notation\n",
    "def custom_format(x, _):\n",
    "    return '{:,.0f}'.format(x)\n",
    "\n",
    "plt.gca().yaxis.set_major_formatter(plt.FuncFormatter(custom_format))\n",
    "\n",
    "plt.title('Price Distribution by Model Year')\n",
    "plt.xlabel('Model Year')\n",
    "plt.ylabel('Price')\n",
    "plt.grid(True)\n",
    "plt.show()"
   ]
  },
  {
   "cell_type": "code",
   "execution_count": 38,
   "id": "fb7d61d5",
   "metadata": {
    "execution": {
     "iopub.execute_input": "2024-06-22T23:13:34.054878Z",
     "iopub.status.busy": "2024-06-22T23:13:34.054473Z",
     "iopub.status.idle": "2024-06-22T23:13:34.497777Z",
     "shell.execute_reply": "2024-06-22T23:13:34.496437Z"
    },
    "papermill": {
     "duration": 0.490274,
     "end_time": "2024-06-22T23:13:34.502416",
     "exception": false,
     "start_time": "2024-06-22T23:13:34.012142",
     "status": "completed"
    },
    "tags": []
   },
   "outputs": [
    {
     "data": {
      "image/png": "[encoded data removed]",
      "text/plain": [
       "<Figure size 1000x600 with 1 Axes>"
      ]
     },
     "metadata": {},
     "output_type": "display_data"
    }
   ],
   "source": [
    "# Scatterplot of Relationship of price and milage\n",
    "plt.figure(figsize=(10, 6))\n",
    "sns.scatterplot(x='milage', y='price', data=train)\n",
    "\n",
    "# Function to format y-axis without scientific notation\n",
    "def custom_format(x, _):\n",
    "    return '{:,.0f}'.format(x)\n",
    "\n",
    "plt.gca().yaxis.set_major_formatter(plt.FuncFormatter(custom_format))\n",
    "\n",
    "plt.title('Price Distribution by Milage')\n",
    "plt.xlabel('Milage')\n",
    "plt.ylabel('Price')\n",
    "plt.grid(True)\n",
    "plt.show()"
   ]
  },
  {
   "cell_type": "markdown",
   "id": "2b108b75",
   "metadata": {
    "papermill": {
     "duration": 0.039686,
     "end_time": "2024-06-22T23:13:34.585493",
     "exception": false,
     "start_time": "2024-06-22T23:13:34.545807",
     "status": "completed"
    },
    "tags": []
   },
   "source": [
    "# Data Preprocessing\n",
    "In this step, I will drop unnecessary columns, remove outliers, and do feature engineer as necessary and label encoding for categorical variables."
   ]
  },
  {
   "cell_type": "code",
   "execution_count": 39,
   "id": "4684890d",
   "metadata": {
    "execution": {
     "iopub.execute_input": "2024-06-22T23:13:34.668899Z",
     "iopub.status.busy": "2024-06-22T23:13:34.668008Z",
     "iopub.status.idle": "2024-06-22T23:13:34.704822Z",
     "shell.execute_reply": "2024-06-22T23:13:34.703688Z"
    },
    "papermill": {
     "duration": 0.080158,
     "end_time": "2024-06-22T23:13:34.707110",
     "exception": false,
     "start_time": "2024-06-22T23:13:34.626952",
     "status": "completed"
    },
    "tags": []
   },
   "outputs": [
    {
     "data": {
      "text/html": [
       "<div>\n",
       "<style scoped>\n",
       "    .dataframe tbody tr th:only-of-type {\n",
       "        vertical-align: middle;\n",
       "    }\n",
       "\n",
       "    .dataframe tbody tr th {\n",
       "        vertical-align: top;\n",
       "    }\n",
       "\n",
       "    .dataframe thead th {\n",
       "        text-align: right;\n",
       "    }\n",
       "</style>\n",
       "<table border=\"1\" class=\"dataframe\">\n",
       "  <thead>\n",
       "    <tr style=\"text-align: right;\">\n",
       "      <th></th>\n",
       "      <th>id</th>\n",
       "      <th>brand</th>\n",
       "      <th>model</th>\n",
       "      <th>model_year</th>\n",
       "      <th>milage</th>\n",
       "      <th>fuel_type</th>\n",
       "      <th>engine</th>\n",
       "      <th>transmission</th>\n",
       "      <th>accident</th>\n",
       "      <th>price</th>\n",
       "    </tr>\n",
       "  </thead>\n",
       "  <tbody>\n",
       "    <tr>\n",
       "      <th>0</th>\n",
       "      <td>0</td>\n",
       "      <td>Ford</td>\n",
       "      <td>F-150 Lariat</td>\n",
       "      <td>2018</td>\n",
       "      <td>74349</td>\n",
       "      <td>Gasoline</td>\n",
       "      <td>375.0HP 3.5L V6 Cylinder Engine Gasoline Fuel</td>\n",
       "      <td>10-Speed A/T</td>\n",
       "      <td>None reported</td>\n",
       "      <td>11000</td>\n",
       "    </tr>\n",
       "    <tr>\n",
       "      <th>1</th>\n",
       "      <td>1</td>\n",
       "      <td>BMW</td>\n",
       "      <td>335 i</td>\n",
       "      <td>2007</td>\n",
       "      <td>80000</td>\n",
       "      <td>Gasoline</td>\n",
       "      <td>300.0HP 3.0L Straight 6 Cylinder Engine Gasoli...</td>\n",
       "      <td>6-Speed M/T</td>\n",
       "      <td>None reported</td>\n",
       "      <td>8250</td>\n",
       "    </tr>\n",
       "    <tr>\n",
       "      <th>2</th>\n",
       "      <td>2</td>\n",
       "      <td>Jaguar</td>\n",
       "      <td>XF Luxury</td>\n",
       "      <td>2009</td>\n",
       "      <td>91491</td>\n",
       "      <td>Gasoline</td>\n",
       "      <td>300.0HP 4.2L 8 Cylinder Engine Gasoline Fuel</td>\n",
       "      <td>6-Speed A/T</td>\n",
       "      <td>None reported</td>\n",
       "      <td>15000</td>\n",
       "    </tr>\n",
       "    <tr>\n",
       "      <th>3</th>\n",
       "      <td>3</td>\n",
       "      <td>BMW</td>\n",
       "      <td>X7 xDrive40i</td>\n",
       "      <td>2022</td>\n",
       "      <td>2437</td>\n",
       "      <td>Hybrid</td>\n",
       "      <td>335.0HP 3.0L Straight 6 Cylinder Engine Gasoli...</td>\n",
       "      <td>Transmission w/Dual Shift Mode</td>\n",
       "      <td>None reported</td>\n",
       "      <td>63500</td>\n",
       "    </tr>\n",
       "    <tr>\n",
       "      <th>4</th>\n",
       "      <td>4</td>\n",
       "      <td>Pontiac</td>\n",
       "      <td>Firebird Base</td>\n",
       "      <td>2001</td>\n",
       "      <td>111000</td>\n",
       "      <td>Gasoline</td>\n",
       "      <td>200.0HP 3.8L V6 Cylinder Engine Gasoline Fuel</td>\n",
       "      <td>A/T</td>\n",
       "      <td>None reported</td>\n",
       "      <td>7850</td>\n",
       "    </tr>\n",
       "  </tbody>\n",
       "</table>\n",
       "</div>"
      ],
      "text/plain": [
       "   id    brand          model  model_year  milage fuel_type  \\\n",
       "0   0     Ford   F-150 Lariat        2018   74349  Gasoline   \n",
       "1   1      BMW          335 i        2007   80000  Gasoline   \n",
       "2   2   Jaguar      XF Luxury        2009   91491  Gasoline   \n",
       "3   3      BMW   X7 xDrive40i        2022    2437    Hybrid   \n",
       "4   4  Pontiac  Firebird Base        2001  111000  Gasoline   \n",
       "\n",
       "                                              engine  \\\n",
       "0      375.0HP 3.5L V6 Cylinder Engine Gasoline Fuel   \n",
       "1  300.0HP 3.0L Straight 6 Cylinder Engine Gasoli...   \n",
       "2       300.0HP 4.2L 8 Cylinder Engine Gasoline Fuel   \n",
       "3  335.0HP 3.0L Straight 6 Cylinder Engine Gasoli...   \n",
       "4      200.0HP 3.8L V6 Cylinder Engine Gasoline Fuel   \n",
       "\n",
       "                     transmission       accident  price  \n",
       "0                    10-Speed A/T  None reported  11000  \n",
       "1                     6-Speed M/T  None reported   8250  \n",
       "2                     6-Speed A/T  None reported  15000  \n",
       "3  Transmission w/Dual Shift Mode  None reported  63500  \n",
       "4                             A/T  None reported   7850  "
      ]
     },
     "execution_count": 39,
     "metadata": {},
     "output_type": "execute_result"
    }
   ],
   "source": [
    "# Drop clean_title, ext_col, and int_col columns\n",
    "train.drop(['clean_title'], axis = 1, inplace = True)\n",
    "train.drop(['ext_col'], axis = 1, inplace = True)\n",
    "train.drop(['int_col'], axis = 1, inplace = True)\n",
    "train.head()"
   ]
  },
  {
   "cell_type": "code",
   "execution_count": 40,
   "id": "49cf49fb",
   "metadata": {
    "execution": {
     "iopub.execute_input": "2024-06-22T23:13:34.790052Z",
     "iopub.status.busy": "2024-06-22T23:13:34.789036Z",
     "iopub.status.idle": "2024-06-22T23:13:34.814632Z",
     "shell.execute_reply": "2024-06-22T23:13:34.813600Z"
    },
    "papermill": {
     "duration": 0.069894,
     "end_time": "2024-06-22T23:13:34.817043",
     "exception": false,
     "start_time": "2024-06-22T23:13:34.747149",
     "status": "completed"
    },
    "tags": []
   },
   "outputs": [
    {
     "data": {
      "text/html": [
       "<div>\n",
       "<style scoped>\n",
       "    .dataframe tbody tr th:only-of-type {\n",
       "        vertical-align: middle;\n",
       "    }\n",
       "\n",
       "    .dataframe tbody tr th {\n",
       "        vertical-align: top;\n",
       "    }\n",
       "\n",
       "    .dataframe thead th {\n",
       "        text-align: right;\n",
       "    }\n",
       "</style>\n",
       "<table border=\"1\" class=\"dataframe\">\n",
       "  <thead>\n",
       "    <tr style=\"text-align: right;\">\n",
       "      <th></th>\n",
       "      <th>id</th>\n",
       "      <th>brand</th>\n",
       "      <th>model</th>\n",
       "      <th>model_year</th>\n",
       "      <th>milage</th>\n",
       "      <th>fuel_type</th>\n",
       "      <th>engine</th>\n",
       "      <th>transmission</th>\n",
       "      <th>accident</th>\n",
       "      <th>price</th>\n",
       "    </tr>\n",
       "  </thead>\n",
       "  <tbody>\n",
       "    <tr>\n",
       "      <th>0</th>\n",
       "      <td>0</td>\n",
       "      <td>Ford</td>\n",
       "      <td>F-150 Lariat</td>\n",
       "      <td>2018</td>\n",
       "      <td>74349</td>\n",
       "      <td>Gasoline</td>\n",
       "      <td>375.0HP 3.5L V6 Cylinder Engine Gasoline Fuel</td>\n",
       "      <td>10-Speed A/T</td>\n",
       "      <td>None reported</td>\n",
       "      <td>11000</td>\n",
       "    </tr>\n",
       "    <tr>\n",
       "      <th>1</th>\n",
       "      <td>1</td>\n",
       "      <td>BMW</td>\n",
       "      <td>335 i</td>\n",
       "      <td>2007</td>\n",
       "      <td>80000</td>\n",
       "      <td>Gasoline</td>\n",
       "      <td>300.0HP 3.0L Straight 6 Cylinder Engine Gasoli...</td>\n",
       "      <td>6-Speed M/T</td>\n",
       "      <td>None reported</td>\n",
       "      <td>8250</td>\n",
       "    </tr>\n",
       "    <tr>\n",
       "      <th>2</th>\n",
       "      <td>2</td>\n",
       "      <td>Jaguar</td>\n",
       "      <td>XF Luxury</td>\n",
       "      <td>2009</td>\n",
       "      <td>91491</td>\n",
       "      <td>Gasoline</td>\n",
       "      <td>300.0HP 4.2L 8 Cylinder Engine Gasoline Fuel</td>\n",
       "      <td>6-Speed A/T</td>\n",
       "      <td>None reported</td>\n",
       "      <td>15000</td>\n",
       "    </tr>\n",
       "    <tr>\n",
       "      <th>3</th>\n",
       "      <td>3</td>\n",
       "      <td>BMW</td>\n",
       "      <td>X7 xDrive40i</td>\n",
       "      <td>2022</td>\n",
       "      <td>2437</td>\n",
       "      <td>Hybrid</td>\n",
       "      <td>335.0HP 3.0L Straight 6 Cylinder Engine Gasoli...</td>\n",
       "      <td>Transmission w/Dual Shift Mode</td>\n",
       "      <td>None reported</td>\n",
       "      <td>63500</td>\n",
       "    </tr>\n",
       "    <tr>\n",
       "      <th>4</th>\n",
       "      <td>4</td>\n",
       "      <td>Pontiac</td>\n",
       "      <td>Firebird Base</td>\n",
       "      <td>2001</td>\n",
       "      <td>111000</td>\n",
       "      <td>Gasoline</td>\n",
       "      <td>200.0HP 3.8L V6 Cylinder Engine Gasoline Fuel</td>\n",
       "      <td>A/T</td>\n",
       "      <td>None reported</td>\n",
       "      <td>7850</td>\n",
       "    </tr>\n",
       "  </tbody>\n",
       "</table>\n",
       "</div>"
      ],
      "text/plain": [
       "   id    brand          model  model_year  milage fuel_type  \\\n",
       "0   0     Ford   F-150 Lariat        2018   74349  Gasoline   \n",
       "1   1      BMW          335 i        2007   80000  Gasoline   \n",
       "2   2   Jaguar      XF Luxury        2009   91491  Gasoline   \n",
       "3   3      BMW   X7 xDrive40i        2022    2437    Hybrid   \n",
       "4   4  Pontiac  Firebird Base        2001  111000  Gasoline   \n",
       "\n",
       "                                              engine  \\\n",
       "0      375.0HP 3.5L V6 Cylinder Engine Gasoline Fuel   \n",
       "1  300.0HP 3.0L Straight 6 Cylinder Engine Gasoli...   \n",
       "2       300.0HP 4.2L 8 Cylinder Engine Gasoline Fuel   \n",
       "3  335.0HP 3.0L Straight 6 Cylinder Engine Gasoli...   \n",
       "4      200.0HP 3.8L V6 Cylinder Engine Gasoline Fuel   \n",
       "\n",
       "                     transmission       accident  price  \n",
       "0                    10-Speed A/T  None reported  11000  \n",
       "1                     6-Speed M/T  None reported   8250  \n",
       "2                     6-Speed A/T  None reported  15000  \n",
       "3  Transmission w/Dual Shift Mode  None reported  63500  \n",
       "4                             A/T  None reported   7850  "
      ]
     },
     "execution_count": 40,
     "metadata": {},
     "output_type": "execute_result"
    }
   ],
   "source": [
    "test.drop(['clean_title'], axis = 1, inplace = True)\n",
    "test.drop(['ext_col'], axis = 1, inplace = True)\n",
    "test.drop(['int_col'], axis = 1, inplace = True)\n",
    "train.head()"
   ]
  },
  {
   "cell_type": "markdown",
   "id": "6c5707cb",
   "metadata": {
    "papermill": {
     "duration": 0.040092,
     "end_time": "2024-06-22T23:13:34.896941",
     "exception": false,
     "start_time": "2024-06-22T23:13:34.856849",
     "status": "completed"
    },
    "tags": []
   },
   "source": [
    "## Remove outliers"
   ]
  },
  {
   "cell_type": "code",
   "execution_count": 41,
   "id": "cd60bede",
   "metadata": {
    "execution": {
     "iopub.execute_input": "2024-06-22T23:13:34.980484Z",
     "iopub.status.busy": "2024-06-22T23:13:34.979401Z",
     "iopub.status.idle": "2024-06-22T23:13:34.998590Z",
     "shell.execute_reply": "2024-06-22T23:13:34.997545Z"
    },
    "papermill": {
     "duration": 0.063332,
     "end_time": "2024-06-22T23:13:35.001155",
     "exception": false,
     "start_time": "2024-06-22T23:13:34.937823",
     "status": "completed"
    },
    "tags": []
   },
   "outputs": [],
   "source": [
    "# From the previous scatterplot of price vs model_years, the tail left end seems to be an outlier.\n",
    "# Remove data from years prior to 1990\n",
    "train = train[train['model_year'] >= 1990]\n",
    "test = test[test['model_year'] >= 1990]"
   ]
  },
  {
   "cell_type": "code",
   "execution_count": 42,
   "id": "41407235",
   "metadata": {
    "execution": {
     "iopub.execute_input": "2024-06-22T23:13:35.085312Z",
     "iopub.status.busy": "2024-06-22T23:13:35.084932Z",
     "iopub.status.idle": "2024-06-22T23:13:35.103109Z",
     "shell.execute_reply": "2024-06-22T23:13:35.101941Z"
    },
    "papermill": {
     "duration": 0.063175,
     "end_time": "2024-06-22T23:13:35.105983",
     "exception": false,
     "start_time": "2024-06-22T23:13:35.042808",
     "status": "completed"
    },
    "tags": []
   },
   "outputs": [
    {
     "name": "stdout",
     "output_type": "stream",
     "text": [
      "Outliers based on IQR:\n",
      "          id          brand                                      model  \\\n",
      "10        10       Maserati                Quattroporte S Q4 GranLusso   \n",
      "16        16          Tesla                         Model 3 Long Range   \n",
      "19        19            Kia                               Telluride LX   \n",
      "26        26           Ford                         Expedition Max XLT   \n",
      "35        35       Cadillac                      Escalade ESV Platinum   \n",
      "...      ...            ...                                        ...   \n",
      "54214  54214  Mercedes-Benz                         AMG GT 63 S 4-Door   \n",
      "54243  54243        Bentley                         Continental GT W12   \n",
      "54254  54254           Ford                          Shelby GT350 Base   \n",
      "54256  54256           Land  Rover Range Rover Velar P250 SE R-Dynamic   \n",
      "54271  54271        Porsche                          911 Carrera 4 GTS   \n",
      "\n",
      "       model_year  milage fuel_type  \\\n",
      "10           2018   34920  Gasoline   \n",
      "16           2021   21600  Gasoline   \n",
      "19           2022   14269  Gasoline   \n",
      "26           2021    6449  Gasoline   \n",
      "35           2021  124000  Gasoline   \n",
      "...           ...     ...       ...   \n",
      "54214        2019    9500  Gasoline   \n",
      "54243        2018   14806  Gasoline   \n",
      "54254        2018   18515  Gasoline   \n",
      "54256        2020   58000  Gasoline   \n",
      "54271        2023    1518  Gasoline   \n",
      "\n",
      "                                              engine  \\\n",
      "10     405.0HP 3.0L V6 Cylinder Engine Gasoline Fuel   \n",
      "16       271.0HP Electric Motor Electric Fuel System   \n",
      "19      523.0HP 4.4L 8 Cylinder Engine Gasoline Fuel   \n",
      "26                   3.5L V6 24V PDI DOHC Twin Turbo   \n",
      "35      420.0HP 6.2L 8 Cylinder Engine Gasoline Fuel   \n",
      "...                                              ...   \n",
      "54214   630.0HP 4.0L 8 Cylinder Engine Gasoline Fuel   \n",
      "54243  621.0HP 6.0L 12 Cylinder Engine Gasoline Fuel   \n",
      "54254   526.0HP 5.2L 8 Cylinder Engine Gasoline Fuel   \n",
      "54256   247.0HP 2.0L 4 Cylinder Engine Gasoline Fuel   \n",
      "54271                           4.0L H6 24V GDI DOHC   \n",
      "\n",
      "                            transmission       accident   price  \n",
      "10                                   A/T  None reported  124995  \n",
      "16                                   A/T  None reported  138999  \n",
      "19                           8-Speed A/T  None reported  234000  \n",
      "26                    10-Speed Automatic  None reported   89995  \n",
      "35                          10-Speed A/T  None reported  103500  \n",
      "...                                  ...            ...     ...  \n",
      "54214                        9-Speed A/T  None reported   93999  \n",
      "54243                        8-Speed A/T  None reported  234900  \n",
      "54254                        6-Speed M/T  None reported  215000  \n",
      "54256                        8-Speed A/T  None reported  229000  \n",
      "54271  8-Speed Automatic with Auto-Shift  None reported  194965  \n",
      "\n",
      "[3095 rows x 10 columns]\n"
     ]
    }
   ],
   "source": [
    "# IQR\n",
    "Q1 = train['price'].quantile(0.25)\n",
    "Q3 = train['price'].quantile(0.75)\n",
    "IQR = Q3 - Q1\n",
    "\n",
    "# Bounds for outliers\n",
    "lower_bound = Q1 - 1.5 * IQR\n",
    "upper_bound = Q3 + 1.5 * IQR\n",
    "\n",
    "outliers_iqr = train[(train['price'] < lower_bound) | (train['price'] > upper_bound)]\n",
    "print(\"Outliers based on IQR:\")\n",
    "print(outliers_iqr)"
   ]
  },
  {
   "cell_type": "code",
   "execution_count": 43,
   "id": "a230e7f6",
   "metadata": {
    "execution": {
     "iopub.execute_input": "2024-06-22T23:13:35.193006Z",
     "iopub.status.busy": "2024-06-22T23:13:35.192575Z",
     "iopub.status.idle": "2024-06-22T23:13:35.212082Z",
     "shell.execute_reply": "2024-06-22T23:13:35.210726Z"
    },
    "papermill": {
     "duration": 0.066831,
     "end_time": "2024-06-22T23:13:35.214920",
     "exception": false,
     "start_time": "2024-06-22T23:13:35.148089",
     "status": "completed"
    },
    "tags": []
   },
   "outputs": [
    {
     "name": "stdout",
     "output_type": "stream",
     "text": [
      "Data without outliers (based on IQR):\n",
      "          id    brand                             model  model_year  milage  \\\n",
      "0          0     Ford                      F-150 Lariat        2018   74349   \n",
      "1          1      BMW                             335 i        2007   80000   \n",
      "2          2   Jaguar                         XF Luxury        2009   91491   \n",
      "3          3      BMW                      X7 xDrive40i        2022    2437   \n",
      "4          4  Pontiac                     Firebird Base        2001  111000   \n",
      "...      ...      ...                               ...         ...     ...   \n",
      "54267  54267     Land  Rover Range Rover Sport HST MHEV        2020   69000   \n",
      "54268  54268      BMW                      X6 xDrive50i        2017   29000   \n",
      "54269  54269     Audi                   A4 2.0T Premium        2015   94634   \n",
      "54270  54270  Porsche                         Cayenne S        2013   40989   \n",
      "54272  54272     Audi  A5 Sportback S line Premium Plus        2021   35000   \n",
      "\n",
      "           fuel_type                                             engine  \\\n",
      "0           Gasoline      375.0HP 3.5L V6 Cylinder Engine Gasoline Fuel   \n",
      "1           Gasoline  300.0HP 3.0L Straight 6 Cylinder Engine Gasoli...   \n",
      "2           Gasoline       300.0HP 4.2L 8 Cylinder Engine Gasoline Fuel   \n",
      "3             Hybrid  335.0HP 3.0L Straight 6 Cylinder Engine Gasoli...   \n",
      "4           Gasoline      200.0HP 3.8L V6 Cylinder Engine Gasoline Fuel   \n",
      "...              ...                                                ...   \n",
      "54267         Hybrid  395.0HP 3.0L Straight 6 Cylinder Engine Gasoli...   \n",
      "54268       Gasoline       445.0HP 4.4L 8 Cylinder Engine Gasoline Fuel   \n",
      "54269  E85 Flex Fuel  220.0HP 2.0L 4 Cylinder Engine Flex Fuel Capab...   \n",
      "54270       Gasoline      420.0HP 3.6L V6 Cylinder Engine Gasoline Fuel   \n",
      "54272         Hybrid  261.0HP 2.0L 4 Cylinder Engine Gasoline/Mild E...   \n",
      "\n",
      "                         transmission                                accident  \\\n",
      "0                        10-Speed A/T                           None reported   \n",
      "1                         6-Speed M/T                           None reported   \n",
      "2                         6-Speed A/T                           None reported   \n",
      "3      Transmission w/Dual Shift Mode                           None reported   \n",
      "4                                 A/T                           None reported   \n",
      "...                               ...                                     ...   \n",
      "54267  Transmission w/Dual Shift Mode                           None reported   \n",
      "54268                     8-Speed A/T                           None reported   \n",
      "54269                     6-Speed A/T  At least 1 accident or damage reported   \n",
      "54270  Transmission w/Dual Shift Mode  At least 1 accident or damage reported   \n",
      "54272                     8-Speed A/T                           None reported   \n",
      "\n",
      "       price  \n",
      "0      11000  \n",
      "1       8250  \n",
      "2      15000  \n",
      "3      63500  \n",
      "4       7850  \n",
      "...      ...  \n",
      "54267  32500  \n",
      "54268  29000  \n",
      "54269   6500  \n",
      "54270  18950  \n",
      "54272  37499  \n",
      "\n",
      "[51173 rows x 10 columns]\n"
     ]
    }
   ],
   "source": [
    "# Remove outliers\n",
    "train_no_outliers_iqr = train[~((train['price'] < lower_bound) | (train['price'] > upper_bound))]\n",
    "print(\"Data without outliers (based on IQR):\")\n",
    "print(train_no_outliers_iqr)"
   ]
  },
  {
   "cell_type": "code",
   "execution_count": 44,
   "id": "c686f1d0",
   "metadata": {
    "execution": {
     "iopub.execute_input": "2024-06-22T23:13:35.303842Z",
     "iopub.status.busy": "2024-06-22T23:13:35.303424Z",
     "iopub.status.idle": "2024-06-22T23:13:35.322073Z",
     "shell.execute_reply": "2024-06-22T23:13:35.320696Z"
    },
    "papermill": {
     "duration": 0.067865,
     "end_time": "2024-06-22T23:13:35.324552",
     "exception": false,
     "start_time": "2024-06-22T23:13:35.256687",
     "status": "completed"
    },
    "tags": []
   },
   "outputs": [
    {
     "name": "stdout",
     "output_type": "stream",
     "text": [
      "Outliers based on IQR (Milage):\n",
      "          id          brand                        model  model_year  milage  \\\n",
      "111      111          Volvo                       S40 T5        2004  257700   \n",
      "159      159         Toyota            Land Cruiser Base        2012  269885   \n",
      "186      186      Chevrolet            Suburban 1500 LTZ        2016  215000   \n",
      "253      253           Ford           F-150 XLT SuperCab        2005  207100   \n",
      "341      341         Nissan                     Xterra S        2008  227010   \n",
      "...      ...            ...                          ...         ...     ...   \n",
      "53998  53998  Mercedes-Benz        C-Class C55 AMG Sport        2009  227010   \n",
      "54037  54037           Land  Rover Range Rover Sport HSE        2006  220000   \n",
      "54092  54092         Toyota            Land Cruiser Base        1999  249083   \n",
      "54174  54174           Ford        Excursion Limited 4WD        2004  315000   \n",
      "54232  54232          Lexus                  GX 470 Base        2004  215000   \n",
      "\n",
      "      fuel_type                                         engine transmission  \\\n",
      "111    Gasoline   218.0HP 2.5L 5 Cylinder Engine Gasoline Fuel  6-Speed M/T   \n",
      "159    Gasoline   381.0HP 5.7L 8 Cylinder Engine Gasoline Fuel  6-Speed A/T   \n",
      "186    Gasoline   355.0HP 5.3L 8 Cylinder Engine Gasoline Fuel          A/T   \n",
      "253    Gasoline   292.0HP 4.6L 8 Cylinder Engine Gasoline Fuel          A/T   \n",
      "341    Gasoline  236.0HP 4.0L V6 Cylinder Engine Gasoline Fuel  5-Speed A/T   \n",
      "...         ...                                            ...          ...   \n",
      "53998  Gasoline   362.0HP 5.4L 8 Cylinder Engine Gasoline Fuel          A/T   \n",
      "54037  Gasoline   300.0HP 4.4L 8 Cylinder Engine Gasoline Fuel          A/T   \n",
      "54092  Gasoline   230.0HP 4.7L 8 Cylinder Engine Gasoline Fuel          A/T   \n",
      "54174    Diesel     325.0HP 6.0L 8 Cylinder Engine Diesel Fuel          A/T   \n",
      "54232  Gasoline   235.0HP 4.7L 8 Cylinder Engine Gasoline Fuel          A/T   \n",
      "\n",
      "                                     accident  price  \n",
      "111                             None reported   8000  \n",
      "159    At least 1 accident or damage reported  47500  \n",
      "186                             None reported  21500  \n",
      "253                             None reported   4199  \n",
      "341    At least 1 accident or damage reported   4500  \n",
      "...                                       ...    ...  \n",
      "53998  At least 1 accident or damage reported   7850  \n",
      "54037                           None reported  16000  \n",
      "54092  At least 1 accident or damage reported   3900  \n",
      "54174  At least 1 accident or damage reported  15900  \n",
      "54232  At least 1 accident or damage reported  17550  \n",
      "\n",
      "[729 rows x 10 columns]\n"
     ]
    }
   ],
   "source": [
    "# Calculate IQR for Mileage\n",
    "Q1_milage = train['milage'].quantile(0.25)\n",
    "Q3_milage = train['milage'].quantile(0.75)\n",
    "IQR_milage = Q3_milage - Q1_milage\n",
    "\n",
    "lower_bound_milage = Q1_milage - 1.5 * IQR_milage\n",
    "upper_bound_milage = Q3_milage + 1.5 * IQR_milage\n",
    "\n",
    "outliers_iqr_milage = train[(train['milage'] < lower_bound_milage) | (train['milage'] > upper_bound_milage)]\n",
    "print(\"Outliers based on IQR (Milage):\")\n",
    "print(outliers_iqr_milage)"
   ]
  },
  {
   "cell_type": "code",
   "execution_count": 45,
   "id": "86a1b396",
   "metadata": {
    "execution": {
     "iopub.execute_input": "2024-06-22T23:13:35.409367Z",
     "iopub.status.busy": "2024-06-22T23:13:35.408952Z",
     "iopub.status.idle": "2024-06-22T23:13:35.429836Z",
     "shell.execute_reply": "2024-06-22T23:13:35.428526Z"
    },
    "papermill": {
     "duration": 0.066709,
     "end_time": "2024-06-22T23:13:35.432458",
     "exception": false,
     "start_time": "2024-06-22T23:13:35.365749",
     "status": "completed"
    },
    "tags": []
   },
   "outputs": [
    {
     "name": "stdout",
     "output_type": "stream",
     "text": [
      "Data without outliers (based on Milage IQR):\n",
      "          id    brand                             model  model_year  milage  \\\n",
      "0          0     Ford                      F-150 Lariat        2018   74349   \n",
      "1          1      BMW                             335 i        2007   80000   \n",
      "2          2   Jaguar                         XF Luxury        2009   91491   \n",
      "3          3      BMW                      X7 xDrive40i        2022    2437   \n",
      "4          4  Pontiac                     Firebird Base        2001  111000   \n",
      "...      ...      ...                               ...         ...     ...   \n",
      "54268  54268      BMW                      X6 xDrive50i        2017   29000   \n",
      "54269  54269     Audi                   A4 2.0T Premium        2015   94634   \n",
      "54270  54270  Porsche                         Cayenne S        2013   40989   \n",
      "54271  54271  Porsche                 911 Carrera 4 GTS        2023    1518   \n",
      "54272  54272     Audi  A5 Sportback S line Premium Plus        2021   35000   \n",
      "\n",
      "           fuel_type                                             engine  \\\n",
      "0           Gasoline      375.0HP 3.5L V6 Cylinder Engine Gasoline Fuel   \n",
      "1           Gasoline  300.0HP 3.0L Straight 6 Cylinder Engine Gasoli...   \n",
      "2           Gasoline       300.0HP 4.2L 8 Cylinder Engine Gasoline Fuel   \n",
      "3             Hybrid  335.0HP 3.0L Straight 6 Cylinder Engine Gasoli...   \n",
      "4           Gasoline      200.0HP 3.8L V6 Cylinder Engine Gasoline Fuel   \n",
      "...              ...                                                ...   \n",
      "54268       Gasoline       445.0HP 4.4L 8 Cylinder Engine Gasoline Fuel   \n",
      "54269  E85 Flex Fuel  220.0HP 2.0L 4 Cylinder Engine Flex Fuel Capab...   \n",
      "54270       Gasoline      420.0HP 3.6L V6 Cylinder Engine Gasoline Fuel   \n",
      "54271       Gasoline                               4.0L H6 24V GDI DOHC   \n",
      "54272         Hybrid  261.0HP 2.0L 4 Cylinder Engine Gasoline/Mild E...   \n",
      "\n",
      "                            transmission  \\\n",
      "0                           10-Speed A/T   \n",
      "1                            6-Speed M/T   \n",
      "2                            6-Speed A/T   \n",
      "3         Transmission w/Dual Shift Mode   \n",
      "4                                    A/T   \n",
      "...                                  ...   \n",
      "54268                        8-Speed A/T   \n",
      "54269                        6-Speed A/T   \n",
      "54270     Transmission w/Dual Shift Mode   \n",
      "54271  8-Speed Automatic with Auto-Shift   \n",
      "54272                        8-Speed A/T   \n",
      "\n",
      "                                     accident   price  \n",
      "0                               None reported   11000  \n",
      "1                               None reported    8250  \n",
      "2                               None reported   15000  \n",
      "3                               None reported   63500  \n",
      "4                               None reported    7850  \n",
      "...                                       ...     ...  \n",
      "54268                           None reported   29000  \n",
      "54269  At least 1 accident or damage reported    6500  \n",
      "54270  At least 1 accident or damage reported   18950  \n",
      "54271                           None reported  194965  \n",
      "54272                           None reported   37499  \n",
      "\n",
      "[53539 rows x 10 columns]\n"
     ]
    }
   ],
   "source": [
    "# Remove outliers \n",
    "train_no_outliers_milage = train[~((train['milage'] < lower_bound_milage) | (train['milage'] > upper_bound_milage))]\n",
    "print(\"Data without outliers (based on Milage IQR):\")\n",
    "print(train_no_outliers_milage)"
   ]
  },
  {
   "cell_type": "code",
   "execution_count": 46,
   "id": "fd9fed03",
   "metadata": {
    "execution": {
     "iopub.execute_input": "2024-06-22T23:13:35.517441Z",
     "iopub.status.busy": "2024-06-22T23:13:35.517033Z",
     "iopub.status.idle": "2024-06-22T23:13:35.534831Z",
     "shell.execute_reply": "2024-06-22T23:13:35.533399Z"
    },
    "papermill": {
     "duration": 0.063474,
     "end_time": "2024-06-22T23:13:35.537807",
     "exception": false,
     "start_time": "2024-06-22T23:13:35.474333",
     "status": "completed"
    },
    "tags": []
   },
   "outputs": [
    {
     "name": "stdout",
     "output_type": "stream",
     "text": [
      "Outliers based on IQR (Milage):\n",
      "          id      brand                  model  model_year  milage  \\\n",
      "21     54294       Ford  Excursion Limited 4WD        2004  245000   \n",
      "120    54393  Chevrolet      Suburban 1500 LTZ        2015  217500   \n",
      "176    54449  Chevrolet      Avalanche 1500 LT        2007  244000   \n",
      "178    54451       Ford      Excursion Limited        2001  239000   \n",
      "179    54452       Ford    E350 Super Duty XLT        2010  248000   \n",
      "...      ...        ...                    ...         ...     ...   \n",
      "35601  89874       Ford  Excursion Limited 4WD        2000  245000   \n",
      "35647  89920   Chrysler      Crossfire Limited        2004  215000   \n",
      "35674  89947     Toyota      Tacoma Double Cab        2002  242000   \n",
      "35935  90208       Ford             Mustang GT        2001  244200   \n",
      "35961  90234     Toyota          4Runner Sport        2004  220450   \n",
      "\n",
      "           fuel_type                                             engine  \\\n",
      "21            Diesel         325.0HP 6.0L 8 Cylinder Engine Diesel Fuel   \n",
      "120         Gasoline       355.0HP 5.3L 8 Cylinder Engine Gasoline Fuel   \n",
      "176         Gasoline       320.0HP 5.3L 8 Cylinder Engine Gasoline Fuel   \n",
      "178         Gasoline      310.0HP 6.8L 10 Cylinder Engine Gasoline Fuel   \n",
      "179    E85 Flex Fuel  255.0HP 5.4L 8 Cylinder Engine Flex Fuel Capab...   \n",
      "...              ...                                                ...   \n",
      "35601       Gasoline      310.0HP 6.8L 10 Cylinder Engine Gasoline Fuel   \n",
      "35647       Gasoline      215.0HP 3.2L V6 Cylinder Engine Gasoline Fuel   \n",
      "35674       Gasoline      236.0HP 4.0L V6 Cylinder Engine Gasoline Fuel   \n",
      "35935       Gasoline       260.0HP 4.6L 8 Cylinder Engine Gasoline Fuel   \n",
      "35961       Gasoline      245.0HP 4.0L V6 Cylinder Engine Gasoline Fuel   \n",
      "\n",
      "      transmission                                accident  \n",
      "21             A/T                           None reported  \n",
      "120            A/T                           None reported  \n",
      "176            A/T                           None reported  \n",
      "178            A/T  At least 1 accident or damage reported  \n",
      "179            A/T                           None reported  \n",
      "...            ...                                     ...  \n",
      "35601          A/T  At least 1 accident or damage reported  \n",
      "35647  5-Speed A/T  At least 1 accident or damage reported  \n",
      "35674  5-Speed A/T  At least 1 accident or damage reported  \n",
      "35935          A/T  At least 1 accident or damage reported  \n",
      "35961  5-Speed A/T                           None reported  \n",
      "\n",
      "[452 rows x 9 columns]\n"
     ]
    }
   ],
   "source": [
    "# Calculate IQR for Mileage\n",
    "Q1_milage = test['milage'].quantile(0.25)\n",
    "Q3_milage = test['milage'].quantile(0.75)\n",
    "IQR_milage = Q3_milage - Q1_milage\n",
    "\n",
    "lower_bound_milage = Q1_milage - 1.5 * IQR_milage\n",
    "upper_bound_milage = Q3_milage + 1.5 * IQR_milage\n",
    "\n",
    "outliers_iqr_milage = test[(test['milage'] < lower_bound_milage) | (test['milage'] > upper_bound_milage)]\n",
    "print(\"Outliers based on IQR (Milage):\")\n",
    "print(outliers_iqr_milage)"
   ]
  },
  {
   "cell_type": "code",
   "execution_count": 47,
   "id": "790cae1d",
   "metadata": {
    "execution": {
     "iopub.execute_input": "2024-06-22T23:13:35.624135Z",
     "iopub.status.busy": "2024-06-22T23:13:35.623707Z",
     "iopub.status.idle": "2024-06-22T23:13:35.668688Z",
     "shell.execute_reply": "2024-06-22T23:13:35.667304Z"
    },
    "papermill": {
     "duration": 0.090551,
     "end_time": "2024-06-22T23:13:35.671178",
     "exception": false,
     "start_time": "2024-06-22T23:13:35.580627",
     "status": "completed"
    },
    "tags": []
   },
   "outputs": [
    {
     "name": "stdout",
     "output_type": "stream",
     "text": [
      "Data without outliers (based on Milage IQR):\n",
      "          id          brand  \\\n",
      "0      54273  Mercedes-Benz   \n",
      "1      54274          Lexus   \n",
      "2      54275  Mercedes-Benz   \n",
      "3      54276           Land   \n",
      "4      54277            BMW   \n",
      "...      ...            ...   \n",
      "36178  90451            GMC   \n",
      "36179  90452      Chevrolet   \n",
      "36180  90453         Toyota   \n",
      "36181  90454        Lincoln   \n",
      "36182  90455      Chevrolet   \n",
      "\n",
      "                                                   model  model_year  milage  \\\n",
      "0                                          E-Class E 350        2014   73000   \n",
      "1                                            RX 350 Base        2015  128032   \n",
      "2                                          C-Class C 300        2015   51983   \n",
      "3      Rover Range Rover 5.0L Supercharged Autobiogra...        2018   29500   \n",
      "4                                           X6 xDrive40i        2020   90000   \n",
      "...                                                  ...         ...     ...   \n",
      "36178                                       Yukon Denali        2019    4500   \n",
      "36179                    Silverado 1500 Z71 Extended Cab        2004  185000   \n",
      "36180                                         Corolla LE        2011  116000   \n",
      "36181                                  Navigator Reserve        2019   39000   \n",
      "36182                                           Tahoe LT        2012  162731   \n",
      "\n",
      "           fuel_type                                             engine  \\\n",
      "0           Gasoline      302.0HP 3.5L V6 Cylinder Engine Gasoline Fuel   \n",
      "1           Gasoline      275.0HP 3.5L V6 Cylinder Engine Gasoline Fuel   \n",
      "2           Gasoline       241.0HP 2.0L 4 Cylinder Engine Gasoline Fuel   \n",
      "3           Gasoline       518.0HP 5.0L 8 Cylinder Engine Gasoline Fuel   \n",
      "4           Gasoline  335.0HP 3.0L Straight 6 Cylinder Engine Gasoli...   \n",
      "...              ...                                                ...   \n",
      "36178       Gasoline       420.0HP 6.2L 8 Cylinder Engine Gasoline Fuel   \n",
      "36179       Gasoline       295.0HP 5.3L 8 Cylinder Engine Gasoline Fuel   \n",
      "36180       Gasoline       132.0HP 1.8L 4 Cylinder Engine Gasoline Fuel   \n",
      "36181       Gasoline      450.0HP 3.5L V6 Cylinder Engine Gasoline Fuel   \n",
      "36182  E85 Flex Fuel  320.0HP 5.3L 8 Cylinder Engine Flex Fuel Capab...   \n",
      "\n",
      "                         transmission                                accident  \n",
      "0                                 A/T                           None reported  \n",
      "1                         8-Speed A/T                           None reported  \n",
      "2                         7-Speed A/T                           None reported  \n",
      "3      Transmission w/Dual Shift Mode  At least 1 accident or damage reported  \n",
      "4                         8-Speed A/T  At least 1 accident or damage reported  \n",
      "...                               ...                                     ...  \n",
      "36178                    10-Speed A/T                           None reported  \n",
      "36179                     4-Speed A/T  At least 1 accident or damage reported  \n",
      "36180                     5-Speed M/T                           None reported  \n",
      "36181                    10-Speed A/T                           None reported  \n",
      "36182                             A/T  At least 1 accident or damage reported  \n",
      "\n",
      "[35730 rows x 9 columns]\n"
     ]
    }
   ],
   "source": [
    "# Remove outliers \n",
    "test_no_outliers_milage = test[~((train['milage'] < lower_bound_milage) | (test['milage'] > upper_bound_milage))]\n",
    "print(\"Data without outliers (based on Milage IQR):\")\n",
    "print(test_no_outliers_milage)"
   ]
  },
  {
   "cell_type": "code",
   "execution_count": 48,
   "id": "a6d20282",
   "metadata": {
    "execution": {
     "iopub.execute_input": "2024-06-22T23:13:35.757220Z",
     "iopub.status.busy": "2024-06-22T23:13:35.756808Z",
     "iopub.status.idle": "2024-06-22T23:13:35.774313Z",
     "shell.execute_reply": "2024-06-22T23:13:35.773098Z"
    },
    "papermill": {
     "duration": 0.062791,
     "end_time": "2024-06-22T23:13:35.776682",
     "exception": false,
     "start_time": "2024-06-22T23:13:35.713891",
     "status": "completed"
    },
    "tags": []
   },
   "outputs": [
    {
     "name": "stdout",
     "output_type": "stream",
     "text": [
      "Outliers based on IQR (Model Year):\n",
      "          id      brand                model  model_year  milage fuel_type  \\\n",
      "4          4    Pontiac        Firebird Base        2001  111000  Gasoline   \n",
      "46        46       Ford   F-150 XLT SuperCab        1999   48054  Gasoline   \n",
      "58        58      Mazda           Protege DX        1993   75980         –   \n",
      "216      216   INFINITI                G37 x        2001   50000  Gasoline   \n",
      "238      238       Ford           Bronco XLT        1995  119000         –   \n",
      "...      ...        ...                  ...         ...     ...       ...   \n",
      "54076  54076  Chevrolet        1500 Cheyenne        1994  170443         –   \n",
      "54092  54092     Toyota    Land Cruiser Base        1999  249083  Gasoline   \n",
      "54131  54131       Land  Rover Discovery LSE        1998   70000  Gasoline   \n",
      "54137  54137    Porsche         Boxster Base        1999  132700  Gasoline   \n",
      "54224  54224  Chevrolet          Camaro Base        2001   64776  Gasoline   \n",
      "\n",
      "                                                  engine transmission  \\\n",
      "4          200.0HP 3.8L V6 Cylinder Engine Gasoline Fuel          A/T   \n",
      "46          220.0HP 4.6L 8 Cylinder Engine Gasoline Fuel          A/T   \n",
      "58                                                     –          A/T   \n",
      "216        328.0HP 3.7L V6 Cylinder Engine Gasoline Fuel  6-Speed M/T   \n",
      "238                                                    –          A/T   \n",
      "...                                                  ...          ...   \n",
      "54076                                                  –          A/T   \n",
      "54092       230.0HP 4.7L 8 Cylinder Engine Gasoline Fuel          A/T   \n",
      "54131       182.0HP 4.0L 8 Cylinder Engine Gasoline Fuel          A/T   \n",
      "54137  201.0HP 2.5L Flat 6 Cylinder Engine Gasoline Fuel  5-Speed M/T   \n",
      "54224      200.0HP 3.8L V6 Cylinder Engine Gasoline Fuel          A/T   \n",
      "\n",
      "                                     accident  price  \n",
      "4                               None reported   7850  \n",
      "46                              None reported   8950  \n",
      "58                              None reported  90200  \n",
      "216                             None reported  26800  \n",
      "238                             None reported  97993  \n",
      "...                                       ...    ...  \n",
      "54076  At least 1 accident or damage reported   7000  \n",
      "54092  At least 1 accident or damage reported   3900  \n",
      "54131                           None reported   5500  \n",
      "54137                           None reported  11000  \n",
      "54224                           None reported   4500  \n",
      "\n",
      "[1206 rows x 10 columns]\n"
     ]
    }
   ],
   "source": [
    "# Calculate IQR for Model Year\n",
    "Q1_year = train['model_year'].quantile(0.25)\n",
    "Q3_year = train['model_year'].quantile(0.75)\n",
    "IQR_year = Q3_year - Q1_year\n",
    "\n",
    "# Define bounds for outliers in Model Year\n",
    "lower_bound_year = Q1_year - 1.5 * IQR_year\n",
    "upper_bound_year = Q3_year + 1.5 * IQR_year\n",
    "\n",
    "# Identify outliers in Model Year\n",
    "outliers_iqr_year = train[(train['model_year'] < lower_bound_year) | (train['model_year'] > upper_bound_year)]\n",
    "print(\"Outliers based on IQR (Model Year):\")\n",
    "print(outliers_iqr_year)"
   ]
  },
  {
   "cell_type": "code",
   "execution_count": 49,
   "id": "d49518fa",
   "metadata": {
    "execution": {
     "iopub.execute_input": "2024-06-22T23:13:35.860830Z",
     "iopub.status.busy": "2024-06-22T23:13:35.860439Z",
     "iopub.status.idle": "2024-06-22T23:13:35.880853Z",
     "shell.execute_reply": "2024-06-22T23:13:35.879729Z"
    },
    "papermill": {
     "duration": 0.065392,
     "end_time": "2024-06-22T23:13:35.883431",
     "exception": false,
     "start_time": "2024-06-22T23:13:35.818039",
     "status": "completed"
    },
    "tags": []
   },
   "outputs": [
    {
     "name": "stdout",
     "output_type": "stream",
     "text": [
      "Data without outliers (based on Model Year IQR):\n",
      "          id    brand                             model  model_year  milage  \\\n",
      "0          0     Ford                      F-150 Lariat        2018   74349   \n",
      "1          1      BMW                             335 i        2007   80000   \n",
      "2          2   Jaguar                         XF Luxury        2009   91491   \n",
      "3          3      BMW                      X7 xDrive40i        2022    2437   \n",
      "5          5    Acura                        Integra LS        2003  124756   \n",
      "...      ...      ...                               ...         ...     ...   \n",
      "54268  54268      BMW                      X6 xDrive50i        2017   29000   \n",
      "54269  54269     Audi                   A4 2.0T Premium        2015   94634   \n",
      "54270  54270  Porsche                         Cayenne S        2013   40989   \n",
      "54271  54271  Porsche                 911 Carrera 4 GTS        2023    1518   \n",
      "54272  54272     Audi  A5 Sportback S line Premium Plus        2021   35000   \n",
      "\n",
      "           fuel_type                                             engine  \\\n",
      "0           Gasoline      375.0HP 3.5L V6 Cylinder Engine Gasoline Fuel   \n",
      "1           Gasoline  300.0HP 3.0L Straight 6 Cylinder Engine Gasoli...   \n",
      "2           Gasoline       300.0HP 4.2L 8 Cylinder Engine Gasoline Fuel   \n",
      "3             Hybrid  335.0HP 3.0L Straight 6 Cylinder Engine Gasoli...   \n",
      "5           Gasoline       140.0HP 1.8L 4 Cylinder Engine Gasoline Fuel   \n",
      "...              ...                                                ...   \n",
      "54268       Gasoline       445.0HP 4.4L 8 Cylinder Engine Gasoline Fuel   \n",
      "54269  E85 Flex Fuel  220.0HP 2.0L 4 Cylinder Engine Flex Fuel Capab...   \n",
      "54270       Gasoline      420.0HP 3.6L V6 Cylinder Engine Gasoline Fuel   \n",
      "54271       Gasoline                               4.0L H6 24V GDI DOHC   \n",
      "54272         Hybrid  261.0HP 2.0L 4 Cylinder Engine Gasoline/Mild E...   \n",
      "\n",
      "                            transmission  \\\n",
      "0                           10-Speed A/T   \n",
      "1                            6-Speed M/T   \n",
      "2                            6-Speed A/T   \n",
      "3         Transmission w/Dual Shift Mode   \n",
      "5                            5-Speed M/T   \n",
      "...                                  ...   \n",
      "54268                        8-Speed A/T   \n",
      "54269                        6-Speed A/T   \n",
      "54270     Transmission w/Dual Shift Mode   \n",
      "54271  8-Speed Automatic with Auto-Shift   \n",
      "54272                        8-Speed A/T   \n",
      "\n",
      "                                     accident   price  \n",
      "0                               None reported   11000  \n",
      "1                               None reported    8250  \n",
      "2                               None reported   15000  \n",
      "3                               None reported   63500  \n",
      "5      At least 1 accident or damage reported    4995  \n",
      "...                                       ...     ...  \n",
      "54268                           None reported   29000  \n",
      "54269  At least 1 accident or damage reported    6500  \n",
      "54270  At least 1 accident or damage reported   18950  \n",
      "54271                           None reported  194965  \n",
      "54272                           None reported   37499  \n",
      "\n",
      "[53062 rows x 10 columns]\n"
     ]
    }
   ],
   "source": [
    "# Remove outliers \n",
    "train_no_outliers_year = train[~((train['model_year'] < lower_bound_year) | (train['model_year'] > upper_bound_year))]\n",
    "print(\"Data without outliers (based on Model Year IQR):\")\n",
    "print(train_no_outliers_year)"
   ]
  },
  {
   "cell_type": "code",
   "execution_count": 50,
   "id": "3c1b6d52",
   "metadata": {
    "execution": {
     "iopub.execute_input": "2024-06-22T23:13:35.967941Z",
     "iopub.status.busy": "2024-06-22T23:13:35.967126Z",
     "iopub.status.idle": "2024-06-22T23:13:35.984125Z",
     "shell.execute_reply": "2024-06-22T23:13:35.982568Z"
    },
    "papermill": {
     "duration": 0.062011,
     "end_time": "2024-06-22T23:13:35.986765",
     "exception": false,
     "start_time": "2024-06-22T23:13:35.924754",
     "status": "completed"
    },
    "tags": []
   },
   "outputs": [
    {
     "name": "stdout",
     "output_type": "stream",
     "text": [
      "Outliers based on IQR (Model Year):\n",
      "          id       brand                  model  model_year  milage fuel_type  \\\n",
      "113    54386        Jeep        Wrangler Sahara        1998  136500  Gasoline   \n",
      "178    54451        Ford      Excursion Limited        2001  239000  Gasoline   \n",
      "258    54531     Porsche  911 Carrera Cabriolet        2001   47885  Gasoline   \n",
      "267    54540      Jaguar               XK8 Base        1998  160000  Gasoline   \n",
      "348    54621        Land      Rover Discovery S        2001   91812  Gasoline   \n",
      "...      ...         ...                    ...         ...     ...       ...   \n",
      "36083  90356  Volkswagen         New Beetle GLS        2001   63250  Gasoline   \n",
      "36096  90369         BMW                M3 Base        2001   64000  Gasoline   \n",
      "36113  90386        Ford             Mustang GT        2001   27407  Gasoline   \n",
      "36114  90387   Chevrolet          Corvette Base        2001   43705  Gasoline   \n",
      "36122  90395        Jeep        Wrangler Sahara        1998  140000  Gasoline   \n",
      "\n",
      "                                                  engine transmission  \\\n",
      "113    181.0HP 4.0L Straight 6 Cylinder Engine Gasoli...  5-Speed M/T   \n",
      "178        310.0HP 6.8L 10 Cylinder Engine Gasoline Fuel          A/T   \n",
      "258    325.0HP 3.6L Flat 6 Cylinder Engine Gasoline Fuel  6-Speed M/T   \n",
      "267         290.0HP 4.0L 8 Cylinder Engine Gasoline Fuel  5-Speed A/T   \n",
      "348         300.0HP 4.4L 8 Cylinder Engine Gasoline Fuel          A/T   \n",
      "...                                                  ...          ...   \n",
      "36083       115.0HP 2.0L 4 Cylinder Engine Gasoline Fuel  6-Speed M/T   \n",
      "36096  333.0HP 3.2L Straight 6 Cylinder Engine Gasoli...  6-Speed M/T   \n",
      "36113       300.0HP 4.6L 8 Cylinder Engine Gasoline Fuel  5-Speed M/T   \n",
      "36114       350.0HP 5.7L 8 Cylinder Engine Gasoline Fuel  4-Speed A/T   \n",
      "36122  181.0HP 4.0L Straight 6 Cylinder Engine Gasoli...          A/T   \n",
      "\n",
      "                                     accident  \n",
      "113                             None reported  \n",
      "178    At least 1 accident or damage reported  \n",
      "258    At least 1 accident or damage reported  \n",
      "267    At least 1 accident or damage reported  \n",
      "348                             None reported  \n",
      "...                                       ...  \n",
      "36083  At least 1 accident or damage reported  \n",
      "36096                           None reported  \n",
      "36113                           None reported  \n",
      "36114                           None reported  \n",
      "36122  At least 1 accident or damage reported  \n",
      "\n",
      "[826 rows x 9 columns]\n"
     ]
    }
   ],
   "source": [
    "# Calculate IQR for Model Year\n",
    "Q1_year = test['model_year'].quantile(0.25)\n",
    "Q3_year = test['model_year'].quantile(0.75)\n",
    "IQR_year = Q3_year - Q1_year\n",
    "\n",
    "# Define bounds for outliers in Model Year\n",
    "lower_bound_year = Q1_year - 1.5 * IQR_year\n",
    "upper_bound_year = Q3_year + 1.5 * IQR_year\n",
    "\n",
    "# Identify outliers in Model Year\n",
    "outliers_iqr_year = test[(test['model_year'] < lower_bound_year) | (test['model_year'] > upper_bound_year)]\n",
    "print(\"Outliers based on IQR (Model Year):\")\n",
    "print(outliers_iqr_year)"
   ]
  },
  {
   "cell_type": "code",
   "execution_count": 51,
   "id": "f2f170ea",
   "metadata": {
    "execution": {
     "iopub.execute_input": "2024-06-22T23:13:36.073769Z",
     "iopub.status.busy": "2024-06-22T23:13:36.073362Z",
     "iopub.status.idle": "2024-06-22T23:13:36.092169Z",
     "shell.execute_reply": "2024-06-22T23:13:36.090844Z"
    },
    "papermill": {
     "duration": 0.06533,
     "end_time": "2024-06-22T23:13:36.094792",
     "exception": false,
     "start_time": "2024-06-22T23:13:36.029462",
     "status": "completed"
    },
    "tags": []
   },
   "outputs": [
    {
     "name": "stdout",
     "output_type": "stream",
     "text": [
      "Data without outliers (based on Model Year IQR):\n",
      "          id          brand  \\\n",
      "0      54273  Mercedes-Benz   \n",
      "1      54274          Lexus   \n",
      "2      54275  Mercedes-Benz   \n",
      "3      54276           Land   \n",
      "4      54277            BMW   \n",
      "...      ...            ...   \n",
      "36178  90451            GMC   \n",
      "36179  90452      Chevrolet   \n",
      "36180  90453         Toyota   \n",
      "36181  90454        Lincoln   \n",
      "36182  90455      Chevrolet   \n",
      "\n",
      "                                                   model  model_year  milage  \\\n",
      "0                                          E-Class E 350        2014   73000   \n",
      "1                                            RX 350 Base        2015  128032   \n",
      "2                                          C-Class C 300        2015   51983   \n",
      "3      Rover Range Rover 5.0L Supercharged Autobiogra...        2018   29500   \n",
      "4                                           X6 xDrive40i        2020   90000   \n",
      "...                                                  ...         ...     ...   \n",
      "36178                                       Yukon Denali        2019    4500   \n",
      "36179                    Silverado 1500 Z71 Extended Cab        2004  185000   \n",
      "36180                                         Corolla LE        2011  116000   \n",
      "36181                                  Navigator Reserve        2019   39000   \n",
      "36182                                           Tahoe LT        2012  162731   \n",
      "\n",
      "           fuel_type                                             engine  \\\n",
      "0           Gasoline      302.0HP 3.5L V6 Cylinder Engine Gasoline Fuel   \n",
      "1           Gasoline      275.0HP 3.5L V6 Cylinder Engine Gasoline Fuel   \n",
      "2           Gasoline       241.0HP 2.0L 4 Cylinder Engine Gasoline Fuel   \n",
      "3           Gasoline       518.0HP 5.0L 8 Cylinder Engine Gasoline Fuel   \n",
      "4           Gasoline  335.0HP 3.0L Straight 6 Cylinder Engine Gasoli...   \n",
      "...              ...                                                ...   \n",
      "36178       Gasoline       420.0HP 6.2L 8 Cylinder Engine Gasoline Fuel   \n",
      "36179       Gasoline       295.0HP 5.3L 8 Cylinder Engine Gasoline Fuel   \n",
      "36180       Gasoline       132.0HP 1.8L 4 Cylinder Engine Gasoline Fuel   \n",
      "36181       Gasoline      450.0HP 3.5L V6 Cylinder Engine Gasoline Fuel   \n",
      "36182  E85 Flex Fuel  320.0HP 5.3L 8 Cylinder Engine Flex Fuel Capab...   \n",
      "\n",
      "                         transmission                                accident  \n",
      "0                                 A/T                           None reported  \n",
      "1                         8-Speed A/T                           None reported  \n",
      "2                         7-Speed A/T                           None reported  \n",
      "3      Transmission w/Dual Shift Mode  At least 1 accident or damage reported  \n",
      "4                         8-Speed A/T  At least 1 accident or damage reported  \n",
      "...                               ...                                     ...  \n",
      "36178                    10-Speed A/T                           None reported  \n",
      "36179                     4-Speed A/T  At least 1 accident or damage reported  \n",
      "36180                     5-Speed M/T                           None reported  \n",
      "36181                    10-Speed A/T                           None reported  \n",
      "36182                             A/T  At least 1 accident or damage reported  \n",
      "\n",
      "[35356 rows x 9 columns]\n"
     ]
    }
   ],
   "source": [
    "# Remove outliers \n",
    "test_no_outliers_year = test[~((test['model_year'] < lower_bound_year) | (test['model_year'] > upper_bound_year))]\n",
    "print(\"Data without outliers (based on Model Year IQR):\")\n",
    "print(test_no_outliers_year)"
   ]
  },
  {
   "cell_type": "code",
   "execution_count": 52,
   "id": "e44a1ec9",
   "metadata": {
    "execution": {
     "iopub.execute_input": "2024-06-22T23:13:36.181841Z",
     "iopub.status.busy": "2024-06-22T23:13:36.181443Z",
     "iopub.status.idle": "2024-06-22T23:13:36.603380Z",
     "shell.execute_reply": "2024-06-22T23:13:36.602288Z"
    },
    "papermill": {
     "duration": 0.468137,
     "end_time": "2024-06-22T23:13:36.605889",
     "exception": false,
     "start_time": "2024-06-22T23:13:36.137752",
     "status": "completed"
    },
    "tags": []
   },
   "outputs": [
    {
     "data": {
      "image/png": "[encoded data removed]",
      "text/plain": [
       "<Figure size 1000x600 with 1 Axes>"
      ]
     },
     "metadata": {},
     "output_type": "display_data"
    }
   ],
   "source": [
    "# New Scatterplot of model year and price\n",
    "plt.figure(figsize=(10, 6))\n",
    "sns.scatterplot(x='model_year', y='price', data=train)\n",
    "\n",
    "# Function to format y-axis without scientific notation\n",
    "def custom_format(x, _):\n",
    "    return '{:,.0f}'.format(x)\n",
    "\n",
    "plt.gca().yaxis.set_major_formatter(plt.FuncFormatter(custom_format))\n",
    "\n",
    "plt.title('Price Distribution by Model Year')\n",
    "plt.xlabel('Model Year')\n",
    "plt.ylabel('Price')\n",
    "plt.grid(True)\n",
    "plt.show()"
   ]
  },
  {
   "cell_type": "code",
   "execution_count": 53,
   "id": "ff6d11be",
   "metadata": {
    "execution": {
     "iopub.execute_input": "2024-06-22T23:13:36.692819Z",
     "iopub.status.busy": "2024-06-22T23:13:36.692390Z",
     "iopub.status.idle": "2024-06-22T23:13:36.711759Z",
     "shell.execute_reply": "2024-06-22T23:13:36.710503Z"
    },
    "papermill": {
     "duration": 0.06627,
     "end_time": "2024-06-22T23:13:36.714800",
     "exception": false,
     "start_time": "2024-06-22T23:13:36.648530",
     "status": "completed"
    },
    "tags": []
   },
   "outputs": [],
   "source": [
    "# From the previous scatterplot of price vs milage, the right tail end seems to be an outlier.\n",
    "# Remove data from milage past 350,000.\n",
    "train = train[train['milage'] <= 350000]\n",
    "test = test[test['milage'] <= 350000]"
   ]
  },
  {
   "cell_type": "code",
   "execution_count": 54,
   "id": "dd358269",
   "metadata": {
    "execution": {
     "iopub.execute_input": "2024-06-22T23:13:36.807747Z",
     "iopub.status.busy": "2024-06-22T23:13:36.806538Z",
     "iopub.status.idle": "2024-06-22T23:13:37.266702Z",
     "shell.execute_reply": "2024-06-22T23:13:37.265406Z"
    },
    "papermill": {
     "duration": 0.51009,
     "end_time": "2024-06-22T23:13:37.269259",
     "exception": false,
     "start_time": "2024-06-22T23:13:36.759169",
     "status": "completed"
    },
    "tags": []
   },
   "outputs": [
    {
     "data": {
      "image/png": "[encoded data removed]",
      "text/plain": [
       "<Figure size 1000x600 with 1 Axes>"
      ]
     },
     "metadata": {},
     "output_type": "display_data"
    }
   ],
   "source": [
    "# New Scatterplot of Relationship of price and milage\n",
    "plt.figure(figsize=(10, 6))\n",
    "sns.scatterplot(x='milage', y='price', data=train)\n",
    "\n",
    "# Function to format y-axis without scientific notation\n",
    "def custom_format(x, _):\n",
    "    return '{:,.0f}'.format(x)\n",
    "\n",
    "plt.gca().yaxis.set_major_formatter(plt.FuncFormatter(custom_format))\n",
    "\n",
    "plt.title('Price Distribution by Milage')\n",
    "plt.xlabel('Milage')\n",
    "plt.ylabel('Price')\n",
    "plt.grid(True)\n",
    "plt.show()"
   ]
  },
  {
   "cell_type": "markdown",
   "id": "7121ab57",
   "metadata": {
    "papermill": {
     "duration": 0.044552,
     "end_time": "2024-06-22T23:13:37.359086",
     "exception": false,
     "start_time": "2024-06-22T23:13:37.314534",
     "status": "completed"
    },
    "tags": []
   },
   "source": [
    "## Feature Engineering"
   ]
  },
  {
   "cell_type": "markdown",
   "id": "de9ad78f",
   "metadata": {
    "papermill": {
     "duration": 0.046007,
     "end_time": "2024-06-22T23:13:37.452186",
     "exception": false,
     "start_time": "2024-06-22T23:13:37.406179",
     "status": "completed"
    },
    "tags": []
   },
   "source": [
    "I add an unknown category in training set for handling new brands found in testing dataset."
   ]
  },
  {
   "cell_type": "code",
   "execution_count": 55,
   "id": "c03950a7",
   "metadata": {
    "execution": {
     "iopub.execute_input": "2024-06-22T23:13:37.545677Z",
     "iopub.status.busy": "2024-06-22T23:13:37.544618Z",
     "iopub.status.idle": "2024-06-22T23:13:37.602431Z",
     "shell.execute_reply": "2024-06-22T23:13:37.601506Z"
    },
    "papermill": {
     "duration": 0.107004,
     "end_time": "2024-06-22T23:13:37.605064",
     "exception": false,
     "start_time": "2024-06-22T23:13:37.498060",
     "status": "completed"
    },
    "tags": []
   },
   "outputs": [],
   "source": [
    "# Brand column\n",
    "# Add an 'Unknown' category in the training set for handling new brands\n",
    "train['brand'] = train['brand'].astype('category')\n",
    "train['brand'] = train['brand'].cat.add_categories('Unknown')\n",
    "\n",
    "# Encode 'brand' using OneHotEncoder with the new category\n",
    "encoder_brand = OneHotEncoder(handle_unknown='ignore')\n",
    "encoder_brand.fit(train[['brand']])\n",
    "\n",
    "# Transform both training and test sets\n",
    "train_encoded_brand = encoder_brand.transform(train[['brand']])\n",
    "test['brand'] = test['brand'].apply(lambda x: x if x in train_brands else 'Unknown')\n",
    "test_encoded_brand = encoder_brand.transform(test[['brand']])"
   ]
  },
  {
   "cell_type": "code",
   "execution_count": 56,
   "id": "f4518b66",
   "metadata": {
    "execution": {
     "iopub.execute_input": "2024-06-22T23:13:37.696431Z",
     "iopub.status.busy": "2024-06-22T23:13:37.696027Z",
     "iopub.status.idle": "2024-06-22T23:13:37.700787Z",
     "shell.execute_reply": "2024-06-22T23:13:37.699711Z"
    },
    "papermill": {
     "duration": 0.053469,
     "end_time": "2024-06-22T23:13:37.703122",
     "exception": false,
     "start_time": "2024-06-22T23:13:37.649653",
     "status": "completed"
    },
    "tags": []
   },
   "outputs": [],
   "source": [
    "# Check if Unknown category added\n",
    "#train['brand'].value_counts()"
   ]
  },
  {
   "cell_type": "markdown",
   "id": "9d2251cb",
   "metadata": {
    "papermill": {
     "duration": 0.045748,
     "end_time": "2024-06-22T23:13:37.793246",
     "exception": false,
     "start_time": "2024-06-22T23:13:37.747498",
     "status": "completed"
    },
    "tags": []
   },
   "source": [
    "There are lots of models in the test dataset not found in the train dataset. I will add 'other' category in the training set for handling new models."
   ]
  },
  {
   "cell_type": "code",
   "execution_count": 57,
   "id": "81de1654",
   "metadata": {
    "execution": {
     "iopub.execute_input": "2024-06-22T23:13:37.883996Z",
     "iopub.status.busy": "2024-06-22T23:13:37.883590Z",
     "iopub.status.idle": "2024-06-22T23:13:37.962054Z",
     "shell.execute_reply": "2024-06-22T23:13:37.960968Z"
    },
    "papermill": {
     "duration": 0.126212,
     "end_time": "2024-06-22T23:13:37.964480",
     "exception": false,
     "start_time": "2024-06-22T23:13:37.838268",
     "status": "completed"
    },
    "tags": []
   },
   "outputs": [],
   "source": [
    "# Model column\n",
    "# Add an 'Other' category in the training set for handling new models\n",
    "train['model'] = train['model'].astype('category')\n",
    "train['model'] = train['model'].cat.add_categories('Other')\n",
    "\n",
    "# Encode 'model' using OneHotEncoder with the new category\n",
    "encoder_model = OneHotEncoder(handle_unknown='ignore')\n",
    "encoder_model.fit(train[['model']])\n",
    "\n",
    "# Transform both training and test sets\n",
    "train_encoded_model = encoder_model.transform(train[['model']])\n",
    "test['model'] = test['model'].apply(lambda x: x if x in train_models else 'Other')\n",
    "test_encoded_model = encoder_model.transform(test[['model']])"
   ]
  },
  {
   "cell_type": "code",
   "execution_count": 58,
   "id": "75c6c2eb",
   "metadata": {
    "execution": {
     "iopub.execute_input": "2024-06-22T23:13:38.055257Z",
     "iopub.status.busy": "2024-06-22T23:13:38.054850Z",
     "iopub.status.idle": "2024-06-22T23:13:38.059706Z",
     "shell.execute_reply": "2024-06-22T23:13:38.058533Z"
    },
    "papermill": {
     "duration": 0.053381,
     "end_time": "2024-06-22T23:13:38.062167",
     "exception": false,
     "start_time": "2024-06-22T23:13:38.008786",
     "status": "completed"
    },
    "tags": []
   },
   "outputs": [],
   "source": [
    "# Check if Other category added\n",
    "#train['model'].value_counts()"
   ]
  },
  {
   "cell_type": "markdown",
   "id": "53cb80fe",
   "metadata": {
    "papermill": {
     "duration": 0.047819,
     "end_time": "2024-06-22T23:13:38.155932",
     "exception": false,
     "start_time": "2024-06-22T23:13:38.108113",
     "status": "completed"
    },
    "tags": []
   },
   "source": [
    "I replace - and not supported as electric for fuel_type."
   ]
  },
  {
   "cell_type": "code",
   "execution_count": 59,
   "id": "3c6143bb",
   "metadata": {
    "execution": {
     "iopub.execute_input": "2024-06-22T23:13:38.250692Z",
     "iopub.status.busy": "2024-06-22T23:13:38.250275Z",
     "iopub.status.idle": "2024-06-22T23:13:38.274237Z",
     "shell.execute_reply": "2024-06-22T23:13:38.272918Z"
    },
    "papermill": {
     "duration": 0.07534,
     "end_time": "2024-06-22T23:13:38.277743",
     "exception": false,
     "start_time": "2024-06-22T23:13:38.202403",
     "status": "completed"
    },
    "tags": []
   },
   "outputs": [],
   "source": [
    "# Fuel_type column\n",
    "replacement_map = {'–': 'electric', 'not supported': 'electric'}\n",
    "\n",
    "train['fuel_type'] = train['fuel_type'].replace(replacement_map)\n",
    "test['fuel_type'] = test['fuel_type'].replace(replacement_map)"
   ]
  },
  {
   "cell_type": "code",
   "execution_count": 60,
   "id": "95cf53b4",
   "metadata": {
    "execution": {
     "iopub.execute_input": "2024-06-22T23:13:38.379691Z",
     "iopub.status.busy": "2024-06-22T23:13:38.379257Z",
     "iopub.status.idle": "2024-06-22T23:13:38.385668Z",
     "shell.execute_reply": "2024-06-22T23:13:38.383604Z"
    },
    "papermill": {
     "duration": 0.063932,
     "end_time": "2024-06-22T23:13:38.389813",
     "exception": false,
     "start_time": "2024-06-22T23:13:38.325881",
     "status": "completed"
    },
    "tags": []
   },
   "outputs": [],
   "source": [
    "# Check if replaced\n",
    "#train['fuel_type'].value_counts()"
   ]
  },
  {
   "cell_type": "code",
   "execution_count": 61,
   "id": "6772c124",
   "metadata": {
    "execution": {
     "iopub.execute_input": "2024-06-22T23:13:38.487734Z",
     "iopub.status.busy": "2024-06-22T23:13:38.487284Z",
     "iopub.status.idle": "2024-06-22T23:13:38.793881Z",
     "shell.execute_reply": "2024-06-22T23:13:38.792611Z"
    },
    "papermill": {
     "duration": 0.35903,
     "end_time": "2024-06-22T23:13:38.796793",
     "exception": false,
     "start_time": "2024-06-22T23:13:38.437763",
     "status": "completed"
    },
    "tags": []
   },
   "outputs": [],
   "source": [
    "# Encode Fuel type\n",
    "encoder_fuel_type = OneHotEncoder(handle_unknown='ignore')\n",
    "\n",
    "# Fit data\n",
    "encoder_fuel_type.fit(train[['fuel_type']])\n",
    "\n",
    "# Transform both training and test sets\n",
    "train_encoded_fuel_type = encoder_fuel_type.transform(train[['fuel_type']])\n",
    "test['fuel_type'] = test['fuel_type'].apply(lambda x: x if x in encoder_fuel_type.categories_[0] else 'Other')\n",
    "test_encoded_fuel_type = encoder_fuel_type.transform(test[['fuel_type']])"
   ]
  },
  {
   "cell_type": "code",
   "execution_count": 62,
   "id": "214ee1e2",
   "metadata": {
    "execution": {
     "iopub.execute_input": "2024-06-22T23:13:38.950439Z",
     "iopub.status.busy": "2024-06-22T23:13:38.949999Z",
     "iopub.status.idle": "2024-06-22T23:13:39.258460Z",
     "shell.execute_reply": "2024-06-22T23:13:39.257333Z"
    },
    "papermill": {
     "duration": 0.418519,
     "end_time": "2024-06-22T23:13:39.261092",
     "exception": false,
     "start_time": "2024-06-22T23:13:38.842573",
     "status": "completed"
    },
    "tags": []
   },
   "outputs": [],
   "source": [
    "# Encode Transmission\n",
    "encoder_transmission = OneHotEncoder(handle_unknown='ignore')\n",
    "\n",
    "# Fit and transform training data\n",
    "train_encoded_transmission = encoder_transmission.fit_transform(train[['transmission']])\n",
    "\n",
    "# Transform test data\n",
    "test['transmission'] = test['transmission'].apply(lambda x: x if x in encoder_transmission.categories_[0] else 'Other')\n",
    "test_encoded_transmission = encoder_transmission.transform(test[['transmission']])"
   ]
  },
  {
   "cell_type": "code",
   "execution_count": 63,
   "id": "604cba23",
   "metadata": {
    "execution": {
     "iopub.execute_input": "2024-06-22T23:13:39.352138Z",
     "iopub.status.busy": "2024-06-22T23:13:39.351749Z",
     "iopub.status.idle": "2024-06-22T23:13:39.636867Z",
     "shell.execute_reply": "2024-06-22T23:13:39.635473Z"
    },
    "papermill": {
     "duration": 0.333938,
     "end_time": "2024-06-22T23:13:39.639700",
     "exception": false,
     "start_time": "2024-06-22T23:13:39.305762",
     "status": "completed"
    },
    "tags": []
   },
   "outputs": [],
   "source": [
    "# Encode Accident\n",
    "encoder_accident = OneHotEncoder(handle_unknown='ignore')\n",
    "\n",
    "# Fit and transform training data\n",
    "train_encoded_accident = encoder_accident.fit_transform(train[['accident']])\n",
    "\n",
    "# Transform test data\n",
    "test['accident'] = test['accident'].apply(lambda x: x if x in encoder_accident.categories_[0] else 'Other')\n",
    "test_encoded_accident = encoder_accident.transform(test[['accident']])"
   ]
  },
  {
   "cell_type": "markdown",
   "id": "d87421c3",
   "metadata": {
    "papermill": {
     "duration": 0.046962,
     "end_time": "2024-06-22T23:13:39.735694",
     "exception": false,
     "start_time": "2024-06-22T23:13:39.688732",
     "status": "completed"
    },
    "tags": []
   },
   "source": [
    "I extract three possible features from the 'engine' column: horsepower(HP), engine displacement(L), and cylinders(Cylinder). \n",
    "\n",
    "I also convert from categorical to int dtype because they are quantitative."
   ]
  },
  {
   "cell_type": "code",
   "execution_count": 64,
   "id": "6c59d0ec",
   "metadata": {
    "execution": {
     "iopub.execute_input": "2024-06-22T23:13:39.842967Z",
     "iopub.status.busy": "2024-06-22T23:13:39.842517Z",
     "iopub.status.idle": "2024-06-22T23:13:39.851006Z",
     "shell.execute_reply": "2024-06-22T23:13:39.849750Z"
    },
    "papermill": {
     "duration": 0.073067,
     "end_time": "2024-06-22T23:13:39.853903",
     "exception": false,
     "start_time": "2024-06-22T23:13:39.780836",
     "status": "completed"
    },
    "tags": []
   },
   "outputs": [],
   "source": [
    "# Engine column\n",
    "# Function to extract numerical features\n",
    "def extract_numerical_features(text):\n",
    "    # horsepower\n",
    "    hp_pattern = r'(\\d+\\.\\d+)HP'   \n",
    "    \n",
    "    # engine_displacement\n",
    "    displacement_pattern = r'(\\d+\\.\\d+)L' \n",
    "    \n",
    "    # cylinder\n",
    "    cylinder_pattern = r'\\b(\\d+)\\b Cylinder'\n",
    "    \n",
    "    # Initialize variables to store extracted values\n",
    "    hp = None\n",
    "    displacement = None\n",
    "    cylinder = None\n",
    "    \n",
    "    # Extract values\n",
    "    hp_match = re.search(hp_pattern, text)\n",
    "    if hp_match:\n",
    "        hp = hp_match.group(1)\n",
    "\n",
    "    displacement_match = re.search(displacement_pattern, text)\n",
    "    if displacement_match:\n",
    "        displacement = displacement_match.group(1)\n",
    "\n",
    "    cylinder_match = re.search(cylinder_pattern, text)\n",
    "    if cylinder_match:\n",
    "        cylinder = cylinder_match.group(1)\n",
    "\n",
    "    return pd.Series({'horsepower': hp, 'engine_displacement': displacement, 'cylinder': cylinder})"
   ]
  },
  {
   "cell_type": "code",
   "execution_count": 65,
   "id": "0cf533f4",
   "metadata": {
    "execution": {
     "iopub.execute_input": "2024-06-22T23:13:39.955772Z",
     "iopub.status.busy": "2024-06-22T23:13:39.955302Z",
     "iopub.status.idle": "2024-06-22T23:14:02.052853Z",
     "shell.execute_reply": "2024-06-22T23:14:02.051521Z"
    },
    "papermill": {
     "duration": 22.148679,
     "end_time": "2024-06-22T23:14:02.055578",
     "exception": false,
     "start_time": "2024-06-22T23:13:39.906899",
     "status": "completed"
    },
    "tags": []
   },
   "outputs": [],
   "source": [
    "# Apply extraction function and convert to numeric dtype for train dataset\n",
    "extracted_features_train = train['engine'].apply(extract_numerical_features)\n",
    "extracted_features_train = extracted_features_train.apply(pd.to_numeric, errors='coerce')\n",
    "train = pd.concat([train, extracted_features_train], axis=1)\n",
    "\n",
    "# Apply extraction function and convert to numeric dtype for test dataset\n",
    "extracted_features_test = test['engine'].apply(extract_numerical_features)\n",
    "extracted_features_test = extracted_features_test.apply(pd.to_numeric, errors='coerce')\n",
    "test = pd.concat([test, extracted_features_test], axis=1)"
   ]
  },
  {
   "cell_type": "code",
   "execution_count": 66,
   "id": "909c444c",
   "metadata": {
    "execution": {
     "iopub.execute_input": "2024-06-22T23:14:02.166586Z",
     "iopub.status.busy": "2024-06-22T23:14:02.165870Z",
     "iopub.status.idle": "2024-06-22T23:14:02.187530Z",
     "shell.execute_reply": "2024-06-22T23:14:02.186099Z"
    },
    "papermill": {
     "duration": 0.079688,
     "end_time": "2024-06-22T23:14:02.190628",
     "exception": false,
     "start_time": "2024-06-22T23:14:02.110940",
     "status": "completed"
    },
    "tags": []
   },
   "outputs": [
    {
     "data": {
      "text/html": [
       "<div>\n",
       "<style scoped>\n",
       "    .dataframe tbody tr th:only-of-type {\n",
       "        vertical-align: middle;\n",
       "    }\n",
       "\n",
       "    .dataframe tbody tr th {\n",
       "        vertical-align: top;\n",
       "    }\n",
       "\n",
       "    .dataframe thead th {\n",
       "        text-align: right;\n",
       "    }\n",
       "</style>\n",
       "<table border=\"1\" class=\"dataframe\">\n",
       "  <thead>\n",
       "    <tr style=\"text-align: right;\">\n",
       "      <th></th>\n",
       "      <th>id</th>\n",
       "      <th>brand</th>\n",
       "      <th>model</th>\n",
       "      <th>model_year</th>\n",
       "      <th>milage</th>\n",
       "      <th>fuel_type</th>\n",
       "      <th>engine</th>\n",
       "      <th>transmission</th>\n",
       "      <th>accident</th>\n",
       "      <th>price</th>\n",
       "      <th>horsepower</th>\n",
       "      <th>engine_displacement</th>\n",
       "      <th>cylinder</th>\n",
       "    </tr>\n",
       "  </thead>\n",
       "  <tbody>\n",
       "    <tr>\n",
       "      <th>0</th>\n",
       "      <td>0</td>\n",
       "      <td>Ford</td>\n",
       "      <td>F-150 Lariat</td>\n",
       "      <td>2018</td>\n",
       "      <td>74349</td>\n",
       "      <td>Gasoline</td>\n",
       "      <td>375.0HP 3.5L V6 Cylinder Engine Gasoline Fuel</td>\n",
       "      <td>10-Speed A/T</td>\n",
       "      <td>None reported</td>\n",
       "      <td>11000</td>\n",
       "      <td>375.0</td>\n",
       "      <td>3.5</td>\n",
       "      <td>NaN</td>\n",
       "    </tr>\n",
       "    <tr>\n",
       "      <th>1</th>\n",
       "      <td>1</td>\n",
       "      <td>BMW</td>\n",
       "      <td>335 i</td>\n",
       "      <td>2007</td>\n",
       "      <td>80000</td>\n",
       "      <td>Gasoline</td>\n",
       "      <td>300.0HP 3.0L Straight 6 Cylinder Engine Gasoli...</td>\n",
       "      <td>6-Speed M/T</td>\n",
       "      <td>None reported</td>\n",
       "      <td>8250</td>\n",
       "      <td>300.0</td>\n",
       "      <td>3.0</td>\n",
       "      <td>6.0</td>\n",
       "    </tr>\n",
       "    <tr>\n",
       "      <th>2</th>\n",
       "      <td>2</td>\n",
       "      <td>Jaguar</td>\n",
       "      <td>XF Luxury</td>\n",
       "      <td>2009</td>\n",
       "      <td>91491</td>\n",
       "      <td>Gasoline</td>\n",
       "      <td>300.0HP 4.2L 8 Cylinder Engine Gasoline Fuel</td>\n",
       "      <td>6-Speed A/T</td>\n",
       "      <td>None reported</td>\n",
       "      <td>15000</td>\n",
       "      <td>300.0</td>\n",
       "      <td>4.2</td>\n",
       "      <td>8.0</td>\n",
       "    </tr>\n",
       "    <tr>\n",
       "      <th>3</th>\n",
       "      <td>3</td>\n",
       "      <td>BMW</td>\n",
       "      <td>X7 xDrive40i</td>\n",
       "      <td>2022</td>\n",
       "      <td>2437</td>\n",
       "      <td>Hybrid</td>\n",
       "      <td>335.0HP 3.0L Straight 6 Cylinder Engine Gasoli...</td>\n",
       "      <td>Transmission w/Dual Shift Mode</td>\n",
       "      <td>None reported</td>\n",
       "      <td>63500</td>\n",
       "      <td>335.0</td>\n",
       "      <td>3.0</td>\n",
       "      <td>6.0</td>\n",
       "    </tr>\n",
       "    <tr>\n",
       "      <th>4</th>\n",
       "      <td>4</td>\n",
       "      <td>Pontiac</td>\n",
       "      <td>Firebird Base</td>\n",
       "      <td>2001</td>\n",
       "      <td>111000</td>\n",
       "      <td>Gasoline</td>\n",
       "      <td>200.0HP 3.8L V6 Cylinder Engine Gasoline Fuel</td>\n",
       "      <td>A/T</td>\n",
       "      <td>None reported</td>\n",
       "      <td>7850</td>\n",
       "      <td>200.0</td>\n",
       "      <td>3.8</td>\n",
       "      <td>NaN</td>\n",
       "    </tr>\n",
       "  </tbody>\n",
       "</table>\n",
       "</div>"
      ],
      "text/plain": [
       "   id    brand          model  model_year  milage fuel_type  \\\n",
       "0   0     Ford   F-150 Lariat        2018   74349  Gasoline   \n",
       "1   1      BMW          335 i        2007   80000  Gasoline   \n",
       "2   2   Jaguar      XF Luxury        2009   91491  Gasoline   \n",
       "3   3      BMW   X7 xDrive40i        2022    2437    Hybrid   \n",
       "4   4  Pontiac  Firebird Base        2001  111000  Gasoline   \n",
       "\n",
       "                                              engine  \\\n",
       "0      375.0HP 3.5L V6 Cylinder Engine Gasoline Fuel   \n",
       "1  300.0HP 3.0L Straight 6 Cylinder Engine Gasoli...   \n",
       "2       300.0HP 4.2L 8 Cylinder Engine Gasoline Fuel   \n",
       "3  335.0HP 3.0L Straight 6 Cylinder Engine Gasoli...   \n",
       "4      200.0HP 3.8L V6 Cylinder Engine Gasoline Fuel   \n",
       "\n",
       "                     transmission       accident  price  horsepower  \\\n",
       "0                    10-Speed A/T  None reported  11000       375.0   \n",
       "1                     6-Speed M/T  None reported   8250       300.0   \n",
       "2                     6-Speed A/T  None reported  15000       300.0   \n",
       "3  Transmission w/Dual Shift Mode  None reported  63500       335.0   \n",
       "4                             A/T  None reported   7850       200.0   \n",
       "\n",
       "   engine_displacement  cylinder  \n",
       "0                  3.5       NaN  \n",
       "1                  3.0       6.0  \n",
       "2                  4.2       8.0  \n",
       "3                  3.0       6.0  \n",
       "4                  3.8       NaN  "
      ]
     },
     "execution_count": 66,
     "metadata": {},
     "output_type": "execute_result"
    }
   ],
   "source": [
    "train.head()"
   ]
  },
  {
   "cell_type": "code",
   "execution_count": 67,
   "id": "7ed1e32f",
   "metadata": {
    "execution": {
     "iopub.execute_input": "2024-06-22T23:14:02.303760Z",
     "iopub.status.busy": "2024-06-22T23:14:02.302995Z",
     "iopub.status.idle": "2024-06-22T23:14:02.322954Z",
     "shell.execute_reply": "2024-06-22T23:14:02.321669Z"
    },
    "papermill": {
     "duration": 0.077308,
     "end_time": "2024-06-22T23:14:02.326576",
     "exception": false,
     "start_time": "2024-06-22T23:14:02.249268",
     "status": "completed"
    },
    "tags": []
   },
   "outputs": [
    {
     "data": {
      "text/html": [
       "<div>\n",
       "<style scoped>\n",
       "    .dataframe tbody tr th:only-of-type {\n",
       "        vertical-align: middle;\n",
       "    }\n",
       "\n",
       "    .dataframe tbody tr th {\n",
       "        vertical-align: top;\n",
       "    }\n",
       "\n",
       "    .dataframe thead th {\n",
       "        text-align: right;\n",
       "    }\n",
       "</style>\n",
       "<table border=\"1\" class=\"dataframe\">\n",
       "  <thead>\n",
       "    <tr style=\"text-align: right;\">\n",
       "      <th></th>\n",
       "      <th>id</th>\n",
       "      <th>brand</th>\n",
       "      <th>model</th>\n",
       "      <th>model_year</th>\n",
       "      <th>milage</th>\n",
       "      <th>fuel_type</th>\n",
       "      <th>engine</th>\n",
       "      <th>transmission</th>\n",
       "      <th>accident</th>\n",
       "      <th>horsepower</th>\n",
       "      <th>engine_displacement</th>\n",
       "      <th>cylinder</th>\n",
       "    </tr>\n",
       "  </thead>\n",
       "  <tbody>\n",
       "    <tr>\n",
       "      <th>0</th>\n",
       "      <td>54273</td>\n",
       "      <td>Mercedes-Benz</td>\n",
       "      <td>E-Class E 350</td>\n",
       "      <td>2014</td>\n",
       "      <td>73000</td>\n",
       "      <td>Gasoline</td>\n",
       "      <td>302.0HP 3.5L V6 Cylinder Engine Gasoline Fuel</td>\n",
       "      <td>A/T</td>\n",
       "      <td>None reported</td>\n",
       "      <td>302.0</td>\n",
       "      <td>3.5</td>\n",
       "      <td>NaN</td>\n",
       "    </tr>\n",
       "    <tr>\n",
       "      <th>1</th>\n",
       "      <td>54274</td>\n",
       "      <td>Lexus</td>\n",
       "      <td>RX 350 Base</td>\n",
       "      <td>2015</td>\n",
       "      <td>128032</td>\n",
       "      <td>Gasoline</td>\n",
       "      <td>275.0HP 3.5L V6 Cylinder Engine Gasoline Fuel</td>\n",
       "      <td>8-Speed A/T</td>\n",
       "      <td>None reported</td>\n",
       "      <td>275.0</td>\n",
       "      <td>3.5</td>\n",
       "      <td>NaN</td>\n",
       "    </tr>\n",
       "    <tr>\n",
       "      <th>2</th>\n",
       "      <td>54275</td>\n",
       "      <td>Mercedes-Benz</td>\n",
       "      <td>C-Class C 300</td>\n",
       "      <td>2015</td>\n",
       "      <td>51983</td>\n",
       "      <td>Gasoline</td>\n",
       "      <td>241.0HP 2.0L 4 Cylinder Engine Gasoline Fuel</td>\n",
       "      <td>7-Speed A/T</td>\n",
       "      <td>None reported</td>\n",
       "      <td>241.0</td>\n",
       "      <td>2.0</td>\n",
       "      <td>4.0</td>\n",
       "    </tr>\n",
       "    <tr>\n",
       "      <th>3</th>\n",
       "      <td>54276</td>\n",
       "      <td>Land</td>\n",
       "      <td>Rover Range Rover 5.0L Supercharged Autobiogra...</td>\n",
       "      <td>2018</td>\n",
       "      <td>29500</td>\n",
       "      <td>Gasoline</td>\n",
       "      <td>518.0HP 5.0L 8 Cylinder Engine Gasoline Fuel</td>\n",
       "      <td>Transmission w/Dual Shift Mode</td>\n",
       "      <td>At least 1 accident or damage reported</td>\n",
       "      <td>518.0</td>\n",
       "      <td>5.0</td>\n",
       "      <td>8.0</td>\n",
       "    </tr>\n",
       "    <tr>\n",
       "      <th>4</th>\n",
       "      <td>54277</td>\n",
       "      <td>BMW</td>\n",
       "      <td>X6 xDrive40i</td>\n",
       "      <td>2020</td>\n",
       "      <td>90000</td>\n",
       "      <td>Gasoline</td>\n",
       "      <td>335.0HP 3.0L Straight 6 Cylinder Engine Gasoli...</td>\n",
       "      <td>8-Speed A/T</td>\n",
       "      <td>At least 1 accident or damage reported</td>\n",
       "      <td>335.0</td>\n",
       "      <td>3.0</td>\n",
       "      <td>6.0</td>\n",
       "    </tr>\n",
       "  </tbody>\n",
       "</table>\n",
       "</div>"
      ],
      "text/plain": [
       "      id          brand                                              model  \\\n",
       "0  54273  Mercedes-Benz                                      E-Class E 350   \n",
       "1  54274          Lexus                                        RX 350 Base   \n",
       "2  54275  Mercedes-Benz                                      C-Class C 300   \n",
       "3  54276           Land  Rover Range Rover 5.0L Supercharged Autobiogra...   \n",
       "4  54277            BMW                                       X6 xDrive40i   \n",
       "\n",
       "   model_year  milage fuel_type  \\\n",
       "0        2014   73000  Gasoline   \n",
       "1        2015  128032  Gasoline   \n",
       "2        2015   51983  Gasoline   \n",
       "3        2018   29500  Gasoline   \n",
       "4        2020   90000  Gasoline   \n",
       "\n",
       "                                              engine  \\\n",
       "0      302.0HP 3.5L V6 Cylinder Engine Gasoline Fuel   \n",
       "1      275.0HP 3.5L V6 Cylinder Engine Gasoline Fuel   \n",
       "2       241.0HP 2.0L 4 Cylinder Engine Gasoline Fuel   \n",
       "3       518.0HP 5.0L 8 Cylinder Engine Gasoline Fuel   \n",
       "4  335.0HP 3.0L Straight 6 Cylinder Engine Gasoli...   \n",
       "\n",
       "                     transmission                                accident  \\\n",
       "0                             A/T                           None reported   \n",
       "1                     8-Speed A/T                           None reported   \n",
       "2                     7-Speed A/T                           None reported   \n",
       "3  Transmission w/Dual Shift Mode  At least 1 accident or damage reported   \n",
       "4                     8-Speed A/T  At least 1 accident or damage reported   \n",
       "\n",
       "   horsepower  engine_displacement  cylinder  \n",
       "0       302.0                  3.5       NaN  \n",
       "1       275.0                  3.5       NaN  \n",
       "2       241.0                  2.0       4.0  \n",
       "3       518.0                  5.0       8.0  \n",
       "4       335.0                  3.0       6.0  "
      ]
     },
     "execution_count": 67,
     "metadata": {},
     "output_type": "execute_result"
    }
   ],
   "source": [
    "test.head()"
   ]
  },
  {
   "cell_type": "code",
   "execution_count": 68,
   "id": "178160db",
   "metadata": {
    "execution": {
     "iopub.execute_input": "2024-06-22T23:14:02.432568Z",
     "iopub.status.busy": "2024-06-22T23:14:02.432161Z",
     "iopub.status.idle": "2024-06-22T23:14:02.447580Z",
     "shell.execute_reply": "2024-06-22T23:14:02.445777Z"
    },
    "papermill": {
     "duration": 0.073951,
     "end_time": "2024-06-22T23:14:02.450622",
     "exception": false,
     "start_time": "2024-06-22T23:14:02.376671",
     "status": "completed"
    },
    "tags": []
   },
   "outputs": [],
   "source": [
    "# Drop engine column\n",
    "train.drop(columns=['engine'], inplace=True)\n",
    "test.drop(columns=['engine'], inplace=True)"
   ]
  },
  {
   "cell_type": "code",
   "execution_count": 69,
   "id": "bf21fd98",
   "metadata": {
    "execution": {
     "iopub.execute_input": "2024-06-22T23:14:02.553658Z",
     "iopub.status.busy": "2024-06-22T23:14:02.553255Z",
     "iopub.status.idle": "2024-06-22T23:14:02.578724Z",
     "shell.execute_reply": "2024-06-22T23:14:02.577476Z"
    },
    "papermill": {
     "duration": 0.07788,
     "end_time": "2024-06-22T23:14:02.581382",
     "exception": false,
     "start_time": "2024-06-22T23:14:02.503502",
     "status": "completed"
    },
    "tags": []
   },
   "outputs": [
    {
     "data": {
      "text/html": [
       "<div>\n",
       "<style scoped>\n",
       "    .dataframe tbody tr th:only-of-type {\n",
       "        vertical-align: middle;\n",
       "    }\n",
       "\n",
       "    .dataframe tbody tr th {\n",
       "        vertical-align: top;\n",
       "    }\n",
       "\n",
       "    .dataframe thead th {\n",
       "        text-align: right;\n",
       "    }\n",
       "</style>\n",
       "<table border=\"1\" class=\"dataframe\">\n",
       "  <thead>\n",
       "    <tr style=\"text-align: right;\">\n",
       "      <th></th>\n",
       "      <th>Missing Ratio</th>\n",
       "    </tr>\n",
       "  </thead>\n",
       "  <tbody>\n",
       "    <tr>\n",
       "      <th>cylinder</th>\n",
       "      <td>37.123111</td>\n",
       "    </tr>\n",
       "    <tr>\n",
       "      <th>horsepower</th>\n",
       "      <td>7.467748</td>\n",
       "    </tr>\n",
       "    <tr>\n",
       "      <th>engine_displacement</th>\n",
       "      <td>1.107630</td>\n",
       "    </tr>\n",
       "  </tbody>\n",
       "</table>\n",
       "</div>"
      ],
      "text/plain": [
       "                     Missing Ratio\n",
       "cylinder                 37.123111\n",
       "horsepower                7.467748\n",
       "engine_displacement       1.107630"
      ]
     },
     "execution_count": 69,
     "metadata": {},
     "output_type": "execute_result"
    }
   ],
   "source": [
    "# Check missing ratio\n",
    "train_na = (train.isnull().sum() / len(train)) * 100\n",
    "train_na = train_na.drop(train_na[train_na == 0].index).sort_values(ascending=False)[:30]\n",
    "missing_data = pd.DataFrame({'Missing Ratio' :train_na})\n",
    "missing_data.head(20)"
   ]
  },
  {
   "cell_type": "code",
   "execution_count": 70,
   "id": "09c494de",
   "metadata": {
    "execution": {
     "iopub.execute_input": "2024-06-22T23:14:02.675576Z",
     "iopub.status.busy": "2024-06-22T23:14:02.675083Z",
     "iopub.status.idle": "2024-06-22T23:14:02.689300Z",
     "shell.execute_reply": "2024-06-22T23:14:02.687941Z"
    },
    "papermill": {
     "duration": 0.063817,
     "end_time": "2024-06-22T23:14:02.691605",
     "exception": false,
     "start_time": "2024-06-22T23:14:02.627788",
     "status": "completed"
    },
    "tags": []
   },
   "outputs": [
    {
     "data": {
      "text/plain": [
       "horsepower\n",
       "300.0    2619\n",
       "335.0    1405\n",
       "355.0    1371\n",
       "240.0    1311\n",
       "420.0    1235\n",
       "         ... \n",
       "691.0       1\n",
       "341.0       1\n",
       "533.0       1\n",
       "111.0       1\n",
       "422.0       1\n",
       "Name: count, Length: 341, dtype: int64"
      ]
     },
     "execution_count": 70,
     "metadata": {},
     "output_type": "execute_result"
    }
   ],
   "source": [
    "train['horsepower'].value_counts()"
   ]
  },
  {
   "cell_type": "code",
   "execution_count": 71,
   "id": "7b2ec471",
   "metadata": {
    "execution": {
     "iopub.execute_input": "2024-06-22T23:14:02.785299Z",
     "iopub.status.busy": "2024-06-22T23:14:02.784870Z",
     "iopub.status.idle": "2024-06-22T23:14:02.794068Z",
     "shell.execute_reply": "2024-06-22T23:14:02.792629Z"
    },
    "papermill": {
     "duration": 0.059704,
     "end_time": "2024-06-22T23:14:02.796612",
     "exception": false,
     "start_time": "2024-06-22T23:14:02.736908",
     "status": "completed"
    },
    "tags": []
   },
   "outputs": [
    {
     "data": {
      "text/plain": [
       "4052"
      ]
     },
     "execution_count": 71,
     "metadata": {},
     "output_type": "execute_result"
    }
   ],
   "source": [
    "# Check missing values\n",
    "train['horsepower'].isnull().sum()"
   ]
  },
  {
   "cell_type": "code",
   "execution_count": 72,
   "id": "6ae7bcfa",
   "metadata": {
    "execution": {
     "iopub.execute_input": "2024-06-22T23:14:02.889340Z",
     "iopub.status.busy": "2024-06-22T23:14:02.888965Z",
     "iopub.status.idle": "2024-06-22T23:14:02.897458Z",
     "shell.execute_reply": "2024-06-22T23:14:02.896131Z"
    },
    "papermill": {
     "duration": 0.058125,
     "end_time": "2024-06-22T23:14:02.900316",
     "exception": false,
     "start_time": "2024-06-22T23:14:02.842191",
     "status": "completed"
    },
    "tags": []
   },
   "outputs": [
    {
     "data": {
      "text/plain": [
       "2605"
      ]
     },
     "execution_count": 72,
     "metadata": {},
     "output_type": "execute_result"
    }
   ],
   "source": [
    "test['horsepower'].isnull().sum()"
   ]
  },
  {
   "cell_type": "markdown",
   "id": "d1df9324",
   "metadata": {
    "papermill": {
     "duration": 0.047492,
     "end_time": "2024-06-22T23:14:02.996524",
     "exception": false,
     "start_time": "2024-06-22T23:14:02.949032",
     "status": "completed"
    },
    "tags": []
   },
   "source": [
    "There is 4052 missing values in horsepower in the training data set. I will replace missing data with the mean of horsepower by model. I will also replace the missing values in the test dataset"
   ]
  },
  {
   "cell_type": "code",
   "execution_count": 73,
   "id": "766ead9a",
   "metadata": {
    "execution": {
     "iopub.execute_input": "2024-06-22T23:14:03.095968Z",
     "iopub.status.busy": "2024-06-22T23:14:03.094585Z",
     "iopub.status.idle": "2024-06-22T23:14:03.849017Z",
     "shell.execute_reply": "2024-06-22T23:14:03.847754Z"
    },
    "papermill": {
     "duration": 0.806914,
     "end_time": "2024-06-22T23:14:03.851651",
     "exception": false,
     "start_time": "2024-06-22T23:14:03.044737",
     "status": "completed"
    },
    "tags": []
   },
   "outputs": [],
   "source": [
    "train['horsepower'] = train.groupby('model')['horsepower'].transform(lambda x: x.fillna(x.mean()))\n",
    "test['horsepower'] = test.groupby('model')['horsepower'].transform(lambda x: x.fillna(x.mean()))"
   ]
  },
  {
   "cell_type": "code",
   "execution_count": 74,
   "id": "1e476171",
   "metadata": {
    "execution": {
     "iopub.execute_input": "2024-06-22T23:14:03.945754Z",
     "iopub.status.busy": "2024-06-22T23:14:03.945316Z",
     "iopub.status.idle": "2024-06-22T23:14:03.953549Z",
     "shell.execute_reply": "2024-06-22T23:14:03.952385Z"
    },
    "papermill": {
     "duration": 0.057734,
     "end_time": "2024-06-22T23:14:03.956143",
     "exception": false,
     "start_time": "2024-06-22T23:14:03.898409",
     "status": "completed"
    },
    "tags": []
   },
   "outputs": [
    {
     "data": {
      "text/plain": [
       "486"
      ]
     },
     "execution_count": 74,
     "metadata": {},
     "output_type": "execute_result"
    }
   ],
   "source": [
    "# Check missing values\n",
    "train['horsepower'].isnull().sum()"
   ]
  },
  {
   "cell_type": "code",
   "execution_count": 75,
   "id": "ee6da468",
   "metadata": {
    "execution": {
     "iopub.execute_input": "2024-06-22T23:14:04.049374Z",
     "iopub.status.busy": "2024-06-22T23:14:04.048948Z",
     "iopub.status.idle": "2024-06-22T23:14:04.056547Z",
     "shell.execute_reply": "2024-06-22T23:14:04.055415Z"
    },
    "papermill": {
     "duration": 0.056425,
     "end_time": "2024-06-22T23:14:04.058830",
     "exception": false,
     "start_time": "2024-06-22T23:14:04.002405",
     "status": "completed"
    },
    "tags": []
   },
   "outputs": [
    {
     "data": {
      "text/plain": [
       "450"
      ]
     },
     "execution_count": 75,
     "metadata": {},
     "output_type": "execute_result"
    }
   ],
   "source": [
    "test['horsepower'].isnull().sum()"
   ]
  },
  {
   "cell_type": "markdown",
   "id": "179fc396",
   "metadata": {
    "papermill": {
     "duration": 0.046385,
     "end_time": "2024-06-22T23:14:04.150817",
     "exception": false,
     "start_time": "2024-06-22T23:14:04.104432",
     "status": "completed"
    },
    "tags": []
   },
   "source": [
    "There is still missing values, I will fill the rest with the average mean of horsepower for convenience. For further accuracy, research on information specific to model, make, and year to determine horsepower could be done. "
   ]
  },
  {
   "cell_type": "code",
   "execution_count": 76,
   "id": "955e7401",
   "metadata": {
    "execution": {
     "iopub.execute_input": "2024-06-22T23:14:04.244627Z",
     "iopub.status.busy": "2024-06-22T23:14:04.243602Z",
     "iopub.status.idle": "2024-06-22T23:14:04.252518Z",
     "shell.execute_reply": "2024-06-22T23:14:04.250863Z"
    },
    "papermill": {
     "duration": 0.058332,
     "end_time": "2024-06-22T23:14:04.255096",
     "exception": false,
     "start_time": "2024-06-22T23:14:04.196764",
     "status": "completed"
    },
    "tags": []
   },
   "outputs": [],
   "source": [
    "mean_train_horsepower = train['horsepower'].mean()\n",
    "mean_test_horsepower = test['horsepower'].mean()\n",
    "\n",
    "train['horsepower'] = train['horsepower'].fillna(mean_train_horsepower)\n",
    "test['horsepower'] = test['horsepower'].fillna(mean_test_horsepower)"
   ]
  },
  {
   "cell_type": "code",
   "execution_count": 77,
   "id": "5f80c37b",
   "metadata": {
    "execution": {
     "iopub.execute_input": "2024-06-22T23:14:04.348747Z",
     "iopub.status.busy": "2024-06-22T23:14:04.348329Z",
     "iopub.status.idle": "2024-06-22T23:14:04.356070Z",
     "shell.execute_reply": "2024-06-22T23:14:04.355054Z"
    },
    "papermill": {
     "duration": 0.056724,
     "end_time": "2024-06-22T23:14:04.358208",
     "exception": false,
     "start_time": "2024-06-22T23:14:04.301484",
     "status": "completed"
    },
    "tags": []
   },
   "outputs": [
    {
     "data": {
      "text/plain": [
       "0"
      ]
     },
     "execution_count": 77,
     "metadata": {},
     "output_type": "execute_result"
    }
   ],
   "source": [
    "train['horsepower'].isnull().sum()"
   ]
  },
  {
   "cell_type": "code",
   "execution_count": 78,
   "id": "7b6d93c4",
   "metadata": {
    "execution": {
     "iopub.execute_input": "2024-06-22T23:14:04.454823Z",
     "iopub.status.busy": "2024-06-22T23:14:04.453682Z",
     "iopub.status.idle": "2024-06-22T23:14:04.461802Z",
     "shell.execute_reply": "2024-06-22T23:14:04.460619Z"
    },
    "papermill": {
     "duration": 0.059459,
     "end_time": "2024-06-22T23:14:04.464438",
     "exception": false,
     "start_time": "2024-06-22T23:14:04.404979",
     "status": "completed"
    },
    "tags": []
   },
   "outputs": [
    {
     "data": {
      "text/plain": [
       "0"
      ]
     },
     "execution_count": 78,
     "metadata": {},
     "output_type": "execute_result"
    }
   ],
   "source": [
    "test['horsepower'].isnull().sum()"
   ]
  },
  {
   "cell_type": "code",
   "execution_count": 79,
   "id": "80f6be6e",
   "metadata": {
    "execution": {
     "iopub.execute_input": "2024-06-22T23:14:04.560351Z",
     "iopub.status.busy": "2024-06-22T23:14:04.559538Z",
     "iopub.status.idle": "2024-06-22T23:14:04.567973Z",
     "shell.execute_reply": "2024-06-22T23:14:04.566716Z"
    },
    "papermill": {
     "duration": 0.059699,
     "end_time": "2024-06-22T23:14:04.570272",
     "exception": false,
     "start_time": "2024-06-22T23:14:04.510573",
     "status": "completed"
    },
    "tags": []
   },
   "outputs": [
    {
     "data": {
      "text/plain": [
       "601"
      ]
     },
     "execution_count": 79,
     "metadata": {},
     "output_type": "execute_result"
    }
   ],
   "source": [
    "# Check missing values\n",
    "train['engine_displacement'].isnull().sum()"
   ]
  },
  {
   "cell_type": "code",
   "execution_count": 80,
   "id": "75f39c8b",
   "metadata": {
    "execution": {
     "iopub.execute_input": "2024-06-22T23:14:04.664597Z",
     "iopub.status.busy": "2024-06-22T23:14:04.664195Z",
     "iopub.status.idle": "2024-06-22T23:14:04.671486Z",
     "shell.execute_reply": "2024-06-22T23:14:04.670519Z"
    },
    "papermill": {
     "duration": 0.056887,
     "end_time": "2024-06-22T23:14:04.673743",
     "exception": false,
     "start_time": "2024-06-22T23:14:04.616856",
     "status": "completed"
    },
    "tags": []
   },
   "outputs": [
    {
     "data": {
      "text/plain": [
       "404"
      ]
     },
     "execution_count": 80,
     "metadata": {},
     "output_type": "execute_result"
    }
   ],
   "source": [
    "test['engine_displacement'].isnull().sum()"
   ]
  },
  {
   "cell_type": "code",
   "execution_count": 81,
   "id": "fd5d12ca",
   "metadata": {
    "execution": {
     "iopub.execute_input": "2024-06-22T23:14:04.766605Z",
     "iopub.status.busy": "2024-06-22T23:14:04.766213Z",
     "iopub.status.idle": "2024-06-22T23:14:05.423668Z",
     "shell.execute_reply": "2024-06-22T23:14:05.422140Z"
    },
    "papermill": {
     "duration": 0.706688,
     "end_time": "2024-06-22T23:14:05.426249",
     "exception": false,
     "start_time": "2024-06-22T23:14:04.719561",
     "status": "completed"
    },
    "tags": []
   },
   "outputs": [],
   "source": [
    "train['engine_displacement'] = train.groupby('model')['engine_displacement'].transform(lambda x: x.fillna(x.mean()))\n",
    "\n",
    "test['engine_displacement'] = test.groupby('model')['engine_displacement'].transform(lambda x: x.fillna(x.mean()))"
   ]
  },
  {
   "cell_type": "code",
   "execution_count": 82,
   "id": "7a3b2c87",
   "metadata": {
    "execution": {
     "iopub.execute_input": "2024-06-22T23:14:05.521696Z",
     "iopub.status.busy": "2024-06-22T23:14:05.521274Z",
     "iopub.status.idle": "2024-06-22T23:14:05.529110Z",
     "shell.execute_reply": "2024-06-22T23:14:05.527820Z"
    },
    "papermill": {
     "duration": 0.058928,
     "end_time": "2024-06-22T23:14:05.531281",
     "exception": false,
     "start_time": "2024-06-22T23:14:05.472353",
     "status": "completed"
    },
    "tags": []
   },
   "outputs": [
    {
     "data": {
      "text/plain": [
       "257"
      ]
     },
     "execution_count": 82,
     "metadata": {},
     "output_type": "execute_result"
    }
   ],
   "source": [
    "# Check missing values\n",
    "train['engine_displacement'].isnull().sum()"
   ]
  },
  {
   "cell_type": "code",
   "execution_count": 83,
   "id": "d2e62e5b",
   "metadata": {
    "execution": {
     "iopub.execute_input": "2024-06-22T23:14:05.626792Z",
     "iopub.status.busy": "2024-06-22T23:14:05.626377Z",
     "iopub.status.idle": "2024-06-22T23:14:05.633864Z",
     "shell.execute_reply": "2024-06-22T23:14:05.632858Z"
    },
    "papermill": {
     "duration": 0.057816,
     "end_time": "2024-06-22T23:14:05.636170",
     "exception": false,
     "start_time": "2024-06-22T23:14:05.578354",
     "status": "completed"
    },
    "tags": []
   },
   "outputs": [
    {
     "data": {
      "text/plain": [
       "183"
      ]
     },
     "execution_count": 83,
     "metadata": {},
     "output_type": "execute_result"
    }
   ],
   "source": [
    "test['engine_displacement'].isnull().sum()"
   ]
  },
  {
   "cell_type": "code",
   "execution_count": 84,
   "id": "48844461",
   "metadata": {
    "execution": {
     "iopub.execute_input": "2024-06-22T23:14:05.731518Z",
     "iopub.status.busy": "2024-06-22T23:14:05.731118Z",
     "iopub.status.idle": "2024-06-22T23:14:05.739904Z",
     "shell.execute_reply": "2024-06-22T23:14:05.738716Z"
    },
    "papermill": {
     "duration": 0.059118,
     "end_time": "2024-06-22T23:14:05.742463",
     "exception": false,
     "start_time": "2024-06-22T23:14:05.683345",
     "status": "completed"
    },
    "tags": []
   },
   "outputs": [],
   "source": [
    "# Replace missing data with mean\n",
    "mean_train_displacement = train['engine_displacement'].mean()\n",
    "mean_test_displacement = test['engine_displacement'].mean()\n",
    "\n",
    "train['engine_displacement'] = train['engine_displacement'].fillna(mean_train_displacement)\n",
    "test['engine_displacement'] = test['engine_displacement'].fillna(mean_test_displacement)"
   ]
  },
  {
   "cell_type": "code",
   "execution_count": 85,
   "id": "e181437d",
   "metadata": {
    "execution": {
     "iopub.execute_input": "2024-06-22T23:14:05.836926Z",
     "iopub.status.busy": "2024-06-22T23:14:05.836097Z",
     "iopub.status.idle": "2024-06-22T23:14:05.843631Z",
     "shell.execute_reply": "2024-06-22T23:14:05.842532Z"
    },
    "papermill": {
     "duration": 0.057327,
     "end_time": "2024-06-22T23:14:05.845855",
     "exception": false,
     "start_time": "2024-06-22T23:14:05.788528",
     "status": "completed"
    },
    "tags": []
   },
   "outputs": [
    {
     "data": {
      "text/plain": [
       "0"
      ]
     },
     "execution_count": 85,
     "metadata": {},
     "output_type": "execute_result"
    }
   ],
   "source": [
    "# Check missing values\n",
    "train['engine_displacement'].isnull().sum()"
   ]
  },
  {
   "cell_type": "code",
   "execution_count": 86,
   "id": "9f303531",
   "metadata": {
    "execution": {
     "iopub.execute_input": "2024-06-22T23:14:05.945598Z",
     "iopub.status.busy": "2024-06-22T23:14:05.944560Z",
     "iopub.status.idle": "2024-06-22T23:14:05.952445Z",
     "shell.execute_reply": "2024-06-22T23:14:05.951437Z"
    },
    "papermill": {
     "duration": 0.060213,
     "end_time": "2024-06-22T23:14:05.954950",
     "exception": false,
     "start_time": "2024-06-22T23:14:05.894737",
     "status": "completed"
    },
    "tags": []
   },
   "outputs": [
    {
     "data": {
      "text/plain": [
       "0"
      ]
     },
     "execution_count": 86,
     "metadata": {},
     "output_type": "execute_result"
    }
   ],
   "source": [
    "test['engine_displacement'].isnull().sum()"
   ]
  },
  {
   "cell_type": "code",
   "execution_count": 87,
   "id": "9460b7dd",
   "metadata": {
    "execution": {
     "iopub.execute_input": "2024-06-22T23:14:06.050103Z",
     "iopub.status.busy": "2024-06-22T23:14:06.049151Z",
     "iopub.status.idle": "2024-06-22T23:14:06.056482Z",
     "shell.execute_reply": "2024-06-22T23:14:06.055541Z"
    },
    "papermill": {
     "duration": 0.056764,
     "end_time": "2024-06-22T23:14:06.058615",
     "exception": false,
     "start_time": "2024-06-22T23:14:06.001851",
     "status": "completed"
    },
    "tags": []
   },
   "outputs": [
    {
     "data": {
      "text/plain": [
       "20143"
      ]
     },
     "execution_count": 87,
     "metadata": {},
     "output_type": "execute_result"
    }
   ],
   "source": [
    "train['cylinder'].isnull().sum()"
   ]
  },
  {
   "cell_type": "code",
   "execution_count": 88,
   "id": "d506d05f",
   "metadata": {
    "execution": {
     "iopub.execute_input": "2024-06-22T23:14:06.153141Z",
     "iopub.status.busy": "2024-06-22T23:14:06.152711Z",
     "iopub.status.idle": "2024-06-22T23:14:06.160747Z",
     "shell.execute_reply": "2024-06-22T23:14:06.159694Z"
    },
    "papermill": {
     "duration": 0.058056,
     "end_time": "2024-06-22T23:14:06.162943",
     "exception": false,
     "start_time": "2024-06-22T23:14:06.104887",
     "status": "completed"
    },
    "tags": []
   },
   "outputs": [
    {
     "data": {
      "text/plain": [
       "13279"
      ]
     },
     "execution_count": 88,
     "metadata": {},
     "output_type": "execute_result"
    }
   ],
   "source": [
    "test['cylinder'].isnull().sum()"
   ]
  },
  {
   "cell_type": "markdown",
   "id": "0508a2d4",
   "metadata": {
    "papermill": {
     "duration": 0.04671,
     "end_time": "2024-06-22T23:14:06.256861",
     "exception": false,
     "start_time": "2024-06-22T23:14:06.210151",
     "status": "completed"
    },
    "tags": []
   },
   "source": [
    "There is a lot of missing data in cylinder. I will fill the null with average value within same model group. Because electric cars do not have cylinders, we will set engine cylinder to 0 if fuel_type is electric."
   ]
  },
  {
   "cell_type": "code",
   "execution_count": 89,
   "id": "5d8dc191",
   "metadata": {
    "execution": {
     "iopub.execute_input": "2024-06-22T23:14:06.354545Z",
     "iopub.status.busy": "2024-06-22T23:14:06.354146Z",
     "iopub.status.idle": "2024-06-22T23:14:07.174240Z",
     "shell.execute_reply": "2024-06-22T23:14:07.173152Z"
    },
    "papermill": {
     "duration": 0.871424,
     "end_time": "2024-06-22T23:14:07.176775",
     "exception": false,
     "start_time": "2024-06-22T23:14:06.305351",
     "status": "completed"
    },
    "tags": []
   },
   "outputs": [],
   "source": [
    "# fill the null with similiar value in model\n",
    "train['cylinder'] = train.groupby('model')['cylinder'].transform(lambda x: x.fillna(x.mean()))\n",
    "test['cylinder'] = test.groupby('model')['cylinder'].transform(lambda x: x.fillna(x.mean()))"
   ]
  },
  {
   "cell_type": "code",
   "execution_count": 90,
   "id": "2f5bb135",
   "metadata": {
    "execution": {
     "iopub.execute_input": "2024-06-22T23:14:07.284227Z",
     "iopub.status.busy": "2024-06-22T23:14:07.283824Z",
     "iopub.status.idle": "2024-06-22T23:14:07.292308Z",
     "shell.execute_reply": "2024-06-22T23:14:07.291072Z"
    },
    "papermill": {
     "duration": 0.069872,
     "end_time": "2024-06-22T23:14:07.294770",
     "exception": false,
     "start_time": "2024-06-22T23:14:07.224898",
     "status": "completed"
    },
    "tags": []
   },
   "outputs": [
    {
     "data": {
      "text/plain": [
       "7607"
      ]
     },
     "execution_count": 90,
     "metadata": {},
     "output_type": "execute_result"
    }
   ],
   "source": [
    "# Check missing values\n",
    "train['cylinder'].isnull().sum()"
   ]
  },
  {
   "cell_type": "code",
   "execution_count": 91,
   "id": "a33c4f73",
   "metadata": {
    "execution": {
     "iopub.execute_input": "2024-06-22T23:14:07.392816Z",
     "iopub.status.busy": "2024-06-22T23:14:07.391685Z",
     "iopub.status.idle": "2024-06-22T23:14:07.399791Z",
     "shell.execute_reply": "2024-06-22T23:14:07.398719Z"
    },
    "papermill": {
     "duration": 0.059241,
     "end_time": "2024-06-22T23:14:07.402309",
     "exception": false,
     "start_time": "2024-06-22T23:14:07.343068",
     "status": "completed"
    },
    "tags": []
   },
   "outputs": [
    {
     "data": {
      "text/plain": [
       "6327"
      ]
     },
     "execution_count": 91,
     "metadata": {},
     "output_type": "execute_result"
    }
   ],
   "source": [
    "test['cylinder'].isnull().sum()"
   ]
  },
  {
   "cell_type": "code",
   "execution_count": 92,
   "id": "d4c2495b",
   "metadata": {
    "execution": {
     "iopub.execute_input": "2024-06-22T23:14:07.502683Z",
     "iopub.status.busy": "2024-06-22T23:14:07.502239Z",
     "iopub.status.idle": "2024-06-22T23:14:07.514736Z",
     "shell.execute_reply": "2024-06-22T23:14:07.513628Z"
    },
    "papermill": {
     "duration": 0.064446,
     "end_time": "2024-06-22T23:14:07.517201",
     "exception": false,
     "start_time": "2024-06-22T23:14:07.452755",
     "status": "completed"
    },
    "tags": []
   },
   "outputs": [],
   "source": [
    "# If fuel_type is electric, set cylinder to 0.\n",
    "train.loc[(train['cylinder'].isna()) & (train['fuel_type'] == 'electric'), \n",
    "       'cylinder'] = 0"
   ]
  },
  {
   "cell_type": "code",
   "execution_count": 93,
   "id": "90bf719c",
   "metadata": {
    "execution": {
     "iopub.execute_input": "2024-06-22T23:14:07.616867Z",
     "iopub.status.busy": "2024-06-22T23:14:07.616456Z",
     "iopub.status.idle": "2024-06-22T23:14:07.647248Z",
     "shell.execute_reply": "2024-06-22T23:14:07.645470Z"
    },
    "papermill": {
     "duration": 0.084449,
     "end_time": "2024-06-22T23:14:07.650428",
     "exception": false,
     "start_time": "2024-06-22T23:14:07.565979",
     "status": "completed"
    },
    "tags": []
   },
   "outputs": [],
   "source": [
    "test.loc[(train['cylinder'].isna()) & (test['fuel_type'] == 'electric'), \n",
    "       'cylinder'] = 0"
   ]
  },
  {
   "cell_type": "code",
   "execution_count": 94,
   "id": "d5bdb45d",
   "metadata": {
    "execution": {
     "iopub.execute_input": "2024-06-22T23:14:07.748348Z",
     "iopub.status.busy": "2024-06-22T23:14:07.747895Z",
     "iopub.status.idle": "2024-06-22T23:14:07.755854Z",
     "shell.execute_reply": "2024-06-22T23:14:07.754747Z"
    },
    "papermill": {
     "duration": 0.059714,
     "end_time": "2024-06-22T23:14:07.758283",
     "exception": false,
     "start_time": "2024-06-22T23:14:07.698569",
     "status": "completed"
    },
    "tags": []
   },
   "outputs": [
    {
     "data": {
      "text/plain": [
       "7497"
      ]
     },
     "execution_count": 94,
     "metadata": {},
     "output_type": "execute_result"
    }
   ],
   "source": [
    "# Check missing values\n",
    "train['cylinder'].isnull().sum()"
   ]
  },
  {
   "cell_type": "code",
   "execution_count": 95,
   "id": "a720b2c5",
   "metadata": {
    "execution": {
     "iopub.execute_input": "2024-06-22T23:14:07.858548Z",
     "iopub.status.busy": "2024-06-22T23:14:07.858161Z",
     "iopub.status.idle": "2024-06-22T23:14:07.866176Z",
     "shell.execute_reply": "2024-06-22T23:14:07.864937Z"
    },
    "papermill": {
     "duration": 0.061476,
     "end_time": "2024-06-22T23:14:07.868627",
     "exception": false,
     "start_time": "2024-06-22T23:14:07.807151",
     "status": "completed"
    },
    "tags": []
   },
   "outputs": [
    {
     "data": {
      "text/plain": [
       "6315"
      ]
     },
     "execution_count": 95,
     "metadata": {},
     "output_type": "execute_result"
    }
   ],
   "source": [
    "test['cylinder'].isnull().sum()"
   ]
  },
  {
   "cell_type": "code",
   "execution_count": 96,
   "id": "3dd74442",
   "metadata": {
    "execution": {
     "iopub.execute_input": "2024-06-22T23:14:07.970522Z",
     "iopub.status.busy": "2024-06-22T23:14:07.970112Z",
     "iopub.status.idle": "2024-06-22T23:14:07.979100Z",
     "shell.execute_reply": "2024-06-22T23:14:07.977941Z"
    },
    "papermill": {
     "duration": 0.062235,
     "end_time": "2024-06-22T23:14:07.981582",
     "exception": false,
     "start_time": "2024-06-22T23:14:07.919347",
     "status": "completed"
    },
    "tags": []
   },
   "outputs": [],
   "source": [
    "# Replace missing data with mean\n",
    "mean_train_cyl = train['cylinder'].mean()\n",
    "mean_test_cyl = test['cylinder'].mean()\n",
    "\n",
    "train['cylinder'] = train['cylinder'].fillna(mean_train_cyl)\n",
    "test['cylinder'] = test['cylinder'].fillna(mean_test_cyl)"
   ]
  },
  {
   "cell_type": "code",
   "execution_count": 97,
   "id": "4ee9e390",
   "metadata": {
    "execution": {
     "iopub.execute_input": "2024-06-22T23:14:08.078769Z",
     "iopub.status.busy": "2024-06-22T23:14:08.078360Z",
     "iopub.status.idle": "2024-06-22T23:14:08.085966Z",
     "shell.execute_reply": "2024-06-22T23:14:08.084903Z"
    },
    "papermill": {
     "duration": 0.058542,
     "end_time": "2024-06-22T23:14:08.088159",
     "exception": false,
     "start_time": "2024-06-22T23:14:08.029617",
     "status": "completed"
    },
    "tags": []
   },
   "outputs": [
    {
     "data": {
      "text/plain": [
       "0"
      ]
     },
     "execution_count": 97,
     "metadata": {},
     "output_type": "execute_result"
    }
   ],
   "source": [
    "# Check missing values\n",
    "train['cylinder'].isnull().sum()"
   ]
  },
  {
   "cell_type": "code",
   "execution_count": 98,
   "id": "a5edffdb",
   "metadata": {
    "execution": {
     "iopub.execute_input": "2024-06-22T23:14:08.186662Z",
     "iopub.status.busy": "2024-06-22T23:14:08.186257Z",
     "iopub.status.idle": "2024-06-22T23:14:08.205183Z",
     "shell.execute_reply": "2024-06-22T23:14:08.204123Z"
    },
    "papermill": {
     "duration": 0.070925,
     "end_time": "2024-06-22T23:14:08.207447",
     "exception": false,
     "start_time": "2024-06-22T23:14:08.136522",
     "status": "completed"
    },
    "tags": []
   },
   "outputs": [
    {
     "data": {
      "text/plain": [
       "id                     0\n",
       "brand                  0\n",
       "model                  0\n",
       "model_year             0\n",
       "milage                 0\n",
       "fuel_type              0\n",
       "transmission           0\n",
       "accident               0\n",
       "price                  0\n",
       "horsepower             0\n",
       "engine_displacement    0\n",
       "cylinder               0\n",
       "dtype: int64"
      ]
     },
     "execution_count": 98,
     "metadata": {},
     "output_type": "execute_result"
    }
   ],
   "source": [
    "test['cylinder'].isnull().sum()\n",
    "\n",
    "# Check entire dataframe for missing values\n",
    "train.isnull().sum()"
   ]
  },
  {
   "cell_type": "code",
   "execution_count": 99,
   "id": "f929af28",
   "metadata": {
    "execution": {
     "iopub.execute_input": "2024-06-22T23:14:08.310880Z",
     "iopub.status.busy": "2024-06-22T23:14:08.310472Z",
     "iopub.status.idle": "2024-06-22T23:14:08.330830Z",
     "shell.execute_reply": "2024-06-22T23:14:08.329322Z"
    },
    "papermill": {
     "duration": 0.077004,
     "end_time": "2024-06-22T23:14:08.333393",
     "exception": false,
     "start_time": "2024-06-22T23:14:08.256389",
     "status": "completed"
    },
    "tags": []
   },
   "outputs": [
    {
     "data": {
      "text/plain": [
       "id                     0\n",
       "brand                  0\n",
       "model                  0\n",
       "model_year             0\n",
       "milage                 0\n",
       "fuel_type              0\n",
       "transmission           0\n",
       "accident               0\n",
       "horsepower             0\n",
       "engine_displacement    0\n",
       "cylinder               0\n",
       "dtype: int64"
      ]
     },
     "execution_count": 99,
     "metadata": {},
     "output_type": "execute_result"
    }
   ],
   "source": [
    "test.isnull().sum()"
   ]
  },
  {
   "cell_type": "markdown",
   "id": "3bcfc976",
   "metadata": {
    "papermill": {
     "duration": 0.04819,
     "end_time": "2024-06-22T23:14:08.430890",
     "exception": false,
     "start_time": "2024-06-22T23:14:08.382700",
     "status": "completed"
    },
    "tags": []
   },
   "source": [
    "Because we encoded on multiple data sets, we need to align the train and test data accordingly."
   ]
  },
  {
   "cell_type": "code",
   "execution_count": 100,
   "id": "df7aa4f0",
   "metadata": {
    "execution": {
     "iopub.execute_input": "2024-06-22T23:14:08.530565Z",
     "iopub.status.busy": "2024-06-22T23:14:08.529831Z",
     "iopub.status.idle": "2024-06-22T23:14:08.753239Z",
     "shell.execute_reply": "2024-06-22T23:14:08.752074Z"
    },
    "papermill": {
     "duration": 0.274364,
     "end_time": "2024-06-22T23:14:08.755940",
     "exception": false,
     "start_time": "2024-06-22T23:14:08.481576",
     "status": "completed"
    },
    "tags": []
   },
   "outputs": [],
   "source": [
    "# Align test data with each encoder's columns using hstack\n",
    "def align_sparse_matrices(test_encoded, train_encoded):\n",
    "    if test_encoded.shape[1] < train_encoded.shape[1]:\n",
    "        # Pad test_encoded with zeros\n",
    "        num_cols_to_add = train_encoded.shape[1] - test_encoded.shape[1]\n",
    "        padding = csr_matrix((test_encoded.shape[0], num_cols_to_add))\n",
    "        return hstack([test_encoded, padding])\n",
    "    else:\n",
    "        return test_encoded\n",
    "\n",
    "# Align each encoded test data with corresponding training data\n",
    "test_encoded_brand_aligned = align_sparse_matrices(test_encoded_brand, train_encoded_brand)\n",
    "test_encoded_model_aligned = align_sparse_matrices(test_encoded_model, train_encoded_model)\n",
    "test_encoded_fuel_type_aligned = align_sparse_matrices(test_encoded_fuel_type, train_encoded_fuel_type)\n",
    "test_encoded_transmission_aligned = align_sparse_matrices(test_encoded_transmission, train_encoded_transmission)\n",
    "test_encoded_accident_aligned = align_sparse_matrices(test_encoded_accident, train_encoded_accident)\n",
    "\n",
    "# Convert aligned matrices back to DataFrames if needed\n",
    "test_encoded_brand_df = pd.DataFrame.sparse.from_spmatrix(test_encoded_brand_aligned)\n",
    "test_encoded_model_df = pd.DataFrame.sparse.from_spmatrix(test_encoded_model_aligned)\n",
    "test_encoded_fuel_type_df = pd.DataFrame.sparse.from_spmatrix(test_encoded_fuel_type_aligned)\n",
    "test_encoded_transmission_df = pd.DataFrame.sparse.from_spmatrix(test_encoded_transmission_aligned)\n",
    "test_encoded_accident_df = pd.DataFrame.sparse.from_spmatrix(test_encoded_accident_aligned)\n",
    "\n",
    "# Concatenate encoded test data frames\n",
    "test_encoded_df = pd.concat([\n",
    "    test_encoded_brand_df,\n",
    "    test_encoded_model_df,\n",
    "    test_encoded_fuel_type_df,\n",
    "    test_encoded_transmission_df,\n",
    "    test_encoded_accident_df\n",
    "], axis=1)\n"
   ]
  },
  {
   "cell_type": "code",
   "execution_count": 101,
   "id": "b65e3cf4",
   "metadata": {
    "execution": {
     "iopub.execute_input": "2024-06-22T23:14:08.852299Z",
     "iopub.status.busy": "2024-06-22T23:14:08.851929Z",
     "iopub.status.idle": "2024-06-22T23:14:08.873975Z",
     "shell.execute_reply": "2024-06-22T23:14:08.872845Z"
    },
    "papermill": {
     "duration": 0.073152,
     "end_time": "2024-06-22T23:14:08.876444",
     "exception": false,
     "start_time": "2024-06-22T23:14:08.803292",
     "status": "completed"
    },
    "tags": []
   },
   "outputs": [],
   "source": [
    "# Drop all original categorical columns after encoding for train data\n",
    "\n",
    "# Drop Brand column after encoding\n",
    "train.drop(['brand'], axis = 1, inplace = True)\n",
    "\n",
    "# Drop Model column after encoding\n",
    "train.drop(['model'], axis = 1, inplace = True)\n",
    "\n",
    "# Drop Fuel Type column after encoding\n",
    "train.drop(['fuel_type'], axis = 1, inplace = True)\n",
    "\n",
    "# Drop Transmission column after encoding\n",
    "train.drop(['transmission'], axis = 1, inplace = True)\n",
    "\n",
    "# Drop Accident column after encoding\n",
    "train.drop(['accident'], axis = 1, inplace = True)"
   ]
  },
  {
   "cell_type": "code",
   "execution_count": 102,
   "id": "4dbd0d7a",
   "metadata": {
    "execution": {
     "iopub.execute_input": "2024-06-22T23:14:08.976874Z",
     "iopub.status.busy": "2024-06-22T23:14:08.976480Z",
     "iopub.status.idle": "2024-06-22T23:14:08.995032Z",
     "shell.execute_reply": "2024-06-22T23:14:08.993533Z"
    },
    "papermill": {
     "duration": 0.072926,
     "end_time": "2024-06-22T23:14:08.997946",
     "exception": false,
     "start_time": "2024-06-22T23:14:08.925020",
     "status": "completed"
    },
    "tags": []
   },
   "outputs": [],
   "source": [
    "# Drop Brand column after encoding for test data\n",
    "test.drop(['brand'], axis = 1, inplace = True)\n",
    "\n",
    "# Drop Model column after encoding\n",
    "test.drop(['model'], axis = 1, inplace = True)\n",
    "\n",
    "# Drop Fuel Type column after encoding\n",
    "test.drop(['fuel_type'], axis = 1, inplace = True)\n",
    "\n",
    "# Drop Transmission column after encoding\n",
    "test.drop(['transmission'], axis = 1, inplace = True)\n",
    "\n",
    "# Drop Accident column after encoding\n",
    "test.drop(['accident'], axis = 1, inplace = True)"
   ]
  },
  {
   "cell_type": "markdown",
   "id": "9abfebb2",
   "metadata": {
    "papermill": {
     "duration": 0.047387,
     "end_time": "2024-06-22T23:14:09.093052",
     "exception": false,
     "start_time": "2024-06-22T23:14:09.045665",
     "status": "completed"
    },
    "tags": []
   },
   "source": [
    "In the case that the dummy creation would be different in train and test data sets, I fill in all missing columns with 0s."
   ]
  },
  {
   "cell_type": "code",
   "execution_count": 103,
   "id": "573b375e",
   "metadata": {
    "execution": {
     "iopub.execute_input": "2024-06-22T23:14:09.193507Z",
     "iopub.status.busy": "2024-06-22T23:14:09.193101Z",
     "iopub.status.idle": "2024-06-22T23:14:09.201343Z",
     "shell.execute_reply": "2024-06-22T23:14:09.200185Z"
    },
    "papermill": {
     "duration": 0.061999,
     "end_time": "2024-06-22T23:14:09.203928",
     "exception": false,
     "start_time": "2024-06-22T23:14:09.141929",
     "status": "completed"
    },
    "tags": []
   },
   "outputs": [],
   "source": [
    "missing_cols = set(train.columns) - set(test.columns)\n",
    "for col in missing_cols:\n",
    "    test[col] = 0\n",
    "test = test[train.columns]"
   ]
  },
  {
   "cell_type": "markdown",
   "id": "466863d4",
   "metadata": {
    "papermill": {
     "duration": 0.051522,
     "end_time": "2024-06-22T23:14:09.304279",
     "exception": false,
     "start_time": "2024-06-22T23:14:09.252757",
     "status": "completed"
    },
    "tags": []
   },
   "source": [
    "## Prepare Model\n",
    "First I split the data into features and target variable from the train and test dataset."
   ]
  },
  {
   "cell_type": "code",
   "execution_count": 104,
   "id": "93bfa635",
   "metadata": {
    "execution": {
     "iopub.execute_input": "2024-06-22T23:14:09.403041Z",
     "iopub.status.busy": "2024-06-22T23:14:09.402653Z",
     "iopub.status.idle": "2024-06-22T23:14:09.411453Z",
     "shell.execute_reply": "2024-06-22T23:14:09.410381Z"
    },
    "papermill": {
     "duration": 0.060719,
     "end_time": "2024-06-22T23:14:09.413854",
     "exception": false,
     "start_time": "2024-06-22T23:14:09.353135",
     "status": "completed"
    },
    "tags": []
   },
   "outputs": [],
   "source": [
    "# Split data into features and target\n",
    "X_train = train.drop('price', axis=1)  # features from train data\n",
    "y_train = train['price']               # target from train data\n",
    "\n",
    "X_test = test.drop('price', axis=1)    # features from test data\n",
    "y_test = test['price']                 # target from test data"
   ]
  },
  {
   "cell_type": "code",
   "execution_count": 105,
   "id": "154cc9df",
   "metadata": {
    "execution": {
     "iopub.execute_input": "2024-06-22T23:14:09.512820Z",
     "iopub.status.busy": "2024-06-22T23:14:09.512400Z",
     "iopub.status.idle": "2024-06-22T23:14:09.517488Z",
     "shell.execute_reply": "2024-06-22T23:14:09.516218Z"
    },
    "papermill": {
     "duration": 0.057727,
     "end_time": "2024-06-22T23:14:09.520082",
     "exception": false,
     "start_time": "2024-06-22T23:14:09.462355",
     "status": "completed"
    },
    "tags": []
   },
   "outputs": [],
   "source": [
    "# Set seed\n",
    "np.random.seed(123)"
   ]
  },
  {
   "cell_type": "markdown",
   "id": "40c15a29",
   "metadata": {
    "papermill": {
     "duration": 0.048072,
     "end_time": "2024-06-22T23:14:09.616479",
     "exception": false,
     "start_time": "2024-06-22T23:14:09.568407",
     "status": "completed"
    },
    "tags": []
   },
   "source": [
    "## Fit and transform model\n",
    "Next I scale the data to fit and transform the model to normalize data, which ensures all features contribute equally by converting them to a common scale."
   ]
  },
  {
   "cell_type": "code",
   "execution_count": 106,
   "id": "e85c1b9b",
   "metadata": {
    "execution": {
     "iopub.execute_input": "2024-06-22T23:14:09.713512Z",
     "iopub.status.busy": "2024-06-22T23:14:09.713110Z",
     "iopub.status.idle": "2024-06-22T23:14:09.728907Z",
     "shell.execute_reply": "2024-06-22T23:14:09.727840Z"
    },
    "papermill": {
     "duration": 0.066924,
     "end_time": "2024-06-22T23:14:09.731493",
     "exception": false,
     "start_time": "2024-06-22T23:14:09.664569",
     "status": "completed"
    },
    "tags": []
   },
   "outputs": [],
   "source": [
    "scaler = StandardScaler()\n",
    "X_train_scaled = scaler.fit_transform(X_train)\n",
    "X_test_scaled = scaler.transform(X_test)"
   ]
  },
  {
   "cell_type": "markdown",
   "id": "2a28d267",
   "metadata": {
    "papermill": {
     "duration": 0.046717,
     "end_time": "2024-06-22T23:14:09.825901",
     "exception": false,
     "start_time": "2024-06-22T23:14:09.779184",
     "status": "completed"
    },
    "tags": []
   },
   "source": [
    "## Predictions"
   ]
  },
  {
   "cell_type": "code",
   "execution_count": 107,
   "id": "6c717851",
   "metadata": {
    "execution": {
     "iopub.execute_input": "2024-06-22T23:14:09.923742Z",
     "iopub.status.busy": "2024-06-22T23:14:09.923273Z",
     "iopub.status.idle": "2024-06-22T23:14:10.302099Z",
     "shell.execute_reply": "2024-06-22T23:14:10.300358Z"
    },
    "papermill": {
     "duration": 0.429913,
     "end_time": "2024-06-22T23:14:10.304439",
     "exception": true,
     "start_time": "2024-06-22T23:14:09.874526",
     "status": "failed"
    },
    "tags": []
   },
   "outputs": [
    {
     "ename": "NameError",
     "evalue": "name 'lm_model' is not defined",
     "output_type": "error",
     "traceback": [
      "\u001b[0;31m---------------------------------------------------------------------------\u001b[0m",
      "\u001b[0;31mNameError\u001b[0m                                 Traceback (most recent call last)",
      "Cell \u001b[0;32mIn[107], line 1\u001b[0m\n\u001b[0;32m----> 1\u001b[0m y_train_pred \u001b[38;5;241m=\u001b[39m \u001b[43mlm_model\u001b[49m\u001b[38;5;241m.\u001b[39mpredict(X_train_scaled)\n\u001b[1;32m      2\u001b[0m y_test_pred \u001b[38;5;241m=\u001b[39m lm_model\u001b[38;5;241m.\u001b[39mpredict(X_test_scaled)\n",
      "\u001b[0;31mNameError\u001b[0m: name 'lm_model' is not defined"
     ]
    }
   ],
   "source": [
    "y_train_pred = lm_model.predict(X_train_scaled)\n",
    "y_test_pred = lm_model.predict(X_test_scaled)"
   ]
  },
  {
   "cell_type": "markdown",
   "id": "9ff529a7",
   "metadata": {
    "papermill": {
     "duration": null,
     "end_time": null,
     "exception": null,
     "start_time": null,
     "status": "pending"
    },
    "tags": []
   },
   "source": [
    "# Train Model\n",
    "I train the data on several different models and compare results"
   ]
  },
  {
   "cell_type": "markdown",
   "id": "1b338f26",
   "metadata": {
    "papermill": {
     "duration": null,
     "end_time": null,
     "exception": null,
     "start_time": null,
     "status": "pending"
    },
    "tags": []
   },
   "source": [
    "## Linear Regression"
   ]
  },
  {
   "cell_type": "code",
   "execution_count": null,
   "id": "d46c56c8",
   "metadata": {
    "execution": {
     "iopub.execute_input": "2024-06-22T22:54:09.997339Z",
     "iopub.status.busy": "2024-06-22T22:54:09.996429Z",
     "iopub.status.idle": "2024-06-22T22:54:10.023027Z",
     "shell.execute_reply": "2024-06-22T22:54:10.021769Z",
     "shell.execute_reply.started": "2024-06-22T22:54:09.997301Z"
    },
    "papermill": {
     "duration": null,
     "end_time": null,
     "exception": null,
     "start_time": null,
     "status": "pending"
    },
    "tags": []
   },
   "outputs": [],
   "source": [
    "# Linear Regression model\n",
    "lm_model = LinearRegression()\n",
    "lm_model.fit(X_train_scaled, y_train)\n",
    "\n",
    "# Predict\n",
    "y_train_pred = lm_model.predict(X_train_scaled)\n",
    "y_test_pred = lm_model.predict(X_test_scaled)\n",
    "\n",
    "# Evaluate \n",
    "rmse_train = np.sqrt(mean_squared_error(y_train, y_train_pred))\n",
    "rmse_test = np.sqrt(mean_squared_error(y_test, y_test_pred))\n",
    "\n",
    "print(f'RMSE - Training Set: {rmse_train}')\n",
    "print(f'RMSE - Test Set: {rmse_test}')"
   ]
  },
  {
   "cell_type": "markdown",
   "id": "f540b6bc",
   "metadata": {
    "papermill": {
     "duration": null,
     "end_time": null,
     "exception": null,
     "start_time": null,
     "status": "pending"
    },
    "tags": []
   },
   "source": [
    "## Decision Tree"
   ]
  },
  {
   "cell_type": "code",
   "execution_count": null,
   "id": "f293acd9",
   "metadata": {
    "execution": {
     "iopub.execute_input": "2024-06-22T22:59:53.991762Z",
     "iopub.status.busy": "2024-06-22T22:59:53.991264Z",
     "iopub.status.idle": "2024-06-22T22:59:54.217708Z",
     "shell.execute_reply": "2024-06-22T22:59:54.216425Z",
     "shell.execute_reply.started": "2024-06-22T22:59:53.991722Z"
    },
    "papermill": {
     "duration": null,
     "end_time": null,
     "exception": null,
     "start_time": null,
     "status": "pending"
    },
    "tags": []
   },
   "outputs": [],
   "source": [
    "dt = DecisionTreeRegressor(max_depth=10,random_state=42)\n",
    "dt.fit(X_train_scaled, y_train)\n",
    "\n",
    "# Predict\n",
    "y_train_pred = dt.predict(X_train_scaled)\n",
    "y_test_pred = dt.predict(X_test_scaled)\n",
    "\n",
    "# Evaluate\n",
    "rmse_train = np.sqrt(mean_squared_error(y_train, y_train_pred))\n",
    "rmse_test = np.sqrt(mean_squared_error(y_test, y_test_pred))\n",
    "\n",
    "print(f'RMSE - Training Set: {rmse_train}')\n",
    "print(f'RMSE - Test Set: {rmse_test}')"
   ]
  },
  {
   "cell_type": "markdown",
   "id": "c8b9c229",
   "metadata": {
    "papermill": {
     "duration": null,
     "end_time": null,
     "exception": null,
     "start_time": null,
     "status": "pending"
    },
    "tags": []
   },
   "source": [
    "## Random Forest "
   ]
  },
  {
   "cell_type": "code",
   "execution_count": null,
   "id": "763ef709",
   "metadata": {
    "execution": {
     "iopub.execute_input": "2024-06-22T23:01:27.043959Z",
     "iopub.status.busy": "2024-06-22T23:01:27.043495Z",
     "iopub.status.idle": "2024-06-22T23:02:01.369739Z",
     "shell.execute_reply": "2024-06-22T23:02:01.368545Z",
     "shell.execute_reply.started": "2024-06-22T23:01:27.043928Z"
    },
    "papermill": {
     "duration": null,
     "end_time": null,
     "exception": null,
     "start_time": null,
     "status": "pending"
    },
    "tags": []
   },
   "outputs": [],
   "source": [
    "rf = RandomForestRegressor(n_estimators=100, random_state=42)\n",
    "rf.fit(X_train_scaled, y_train)\n",
    "\n",
    "# Predict\n",
    "y_train_pred = rf.predict(X_train_scaled)\n",
    "y_test_pred = rf.predict(X_test_scaled)\n",
    "\n",
    "# Evaluate\n",
    "rmse_train = np.sqrt(mean_squared_error(y_train, y_train_pred))\n",
    "rmse_test = np.sqrt(mean_squared_error(y_test, y_test_pred))\n",
    "\n",
    "print(f'RMSE - Training Set: {rmse_train}')\n",
    "print(f'RMSE - Test Set: {rmse_test}')"
   ]
  },
  {
   "cell_type": "markdown",
   "id": "1fd77db1",
   "metadata": {
    "papermill": {
     "duration": null,
     "end_time": null,
     "exception": null,
     "start_time": null,
     "status": "pending"
    },
    "tags": []
   },
   "source": [
    "## Gradient Boosting"
   ]
  },
  {
   "cell_type": "code",
   "execution_count": null,
   "id": "5b77e6af",
   "metadata": {
    "execution": {
     "iopub.execute_input": "2024-06-22T23:04:26.870657Z",
     "iopub.status.busy": "2024-06-22T23:04:26.870247Z",
     "iopub.status.idle": "2024-06-22T23:04:34.127695Z",
     "shell.execute_reply": "2024-06-22T23:04:34.126524Z",
     "shell.execute_reply.started": "2024-06-22T23:04:26.870624Z"
    },
    "papermill": {
     "duration": null,
     "end_time": null,
     "exception": null,
     "start_time": null,
     "status": "pending"
    },
    "tags": []
   },
   "outputs": [],
   "source": [
    "gb = GradientBoostingRegressor(n_estimators=100, learning_rate=0.1, random_state=42)\n",
    "gb.fit(X_train_scaled, y_train)\n",
    "\n",
    "# Predict\n",
    "y_train_pred = gb.predict(X_train_scaled)\n",
    "y_test_pred = gb.predict(X_test_scaled)\n",
    "\n",
    "# Evaluate\n",
    "rmse_train = np.sqrt(mean_squared_error(y_train, y_train_pred))\n",
    "rmse_test = np.sqrt(mean_squared_error(y_test, y_test_pred))\n",
    "\n",
    "print(f'RMSE - Training Set: {rmse_train}')\n",
    "print(f'RMSE - Test Set: {rmse_test}')"
   ]
  },
  {
   "cell_type": "markdown",
   "id": "9d47bac4",
   "metadata": {
    "papermill": {
     "duration": null,
     "end_time": null,
     "exception": null,
     "start_time": null,
     "status": "pending"
    },
    "tags": []
   },
   "source": [
    "## Neural Network"
   ]
  },
  {
   "cell_type": "code",
   "execution_count": null,
   "id": "49c9e30a",
   "metadata": {
    "papermill": {
     "duration": null,
     "end_time": null,
     "exception": null,
     "start_time": null,
     "status": "pending"
    },
    "tags": []
   },
   "outputs": [],
   "source": [
    "mlp = MLPRegressor(hidden_layer_sizes=(100, 50), max_iter=500, random_state=42)\n",
    "mlp.fit(X_train_scaled, y_train)\n",
    "\n",
    "# Predict\n",
    "y_train_pred = mlp.predict(X_train_scaled)\n",
    "y_test_pred = mlp.predict(X_test_scaled)\n",
    "\n",
    "# Evaluate\n",
    "rmse_train = np.sqrt(mean_squared_error(y_train, y_train_pred))\n",
    "rmse_test = np.sqrt(mean_squared_error(y_test, y_test_pred))\n",
    "\n",
    "print(f'RMSE - Training Set: {rmse_train}')\n",
    "print(f'RMSE - Test Set: {rmse_test}')"
   ]
  },
  {
   "cell_type": "markdown",
   "id": "76b5ce94",
   "metadata": {
    "papermill": {
     "duration": null,
     "end_time": null,
     "exception": null,
     "start_time": null,
     "status": "pending"
    },
    "tags": []
   },
   "source": [
    "## Catboost"
   ]
  },
  {
   "cell_type": "code",
   "execution_count": null,
   "id": "9bbaca0e",
   "metadata": {
    "papermill": {
     "duration": null,
     "end_time": null,
     "exception": null,
     "start_time": null,
     "status": "pending"
    },
    "tags": []
   },
   "outputs": [],
   "source": [
    "params = {\n",
    "    'iterations': 100,\n",
    "    'learning_rate': 0.1,\n",
    "    'depth': 6,\n",
    "    'loss_function': 'RMSE',\n",
    "    'eval_metric': 'RMSE'\n",
    "}\n",
    "\n",
    "catboost = CatBoostRegressor(**params)\n",
    "catboost.fit(X_train, y_train, eval_set=(X_test, y_test), verbose=False)\n"
   ]
  },
  {
   "cell_type": "markdown",
   "id": "e3a689a8",
   "metadata": {
    "papermill": {
     "duration": null,
     "end_time": null,
     "exception": null,
     "start_time": null,
     "status": "pending"
    },
    "tags": []
   },
   "source": [
    "# Evaluate Model"
   ]
  },
  {
   "cell_type": "markdown",
   "id": "e0c7dd6f",
   "metadata": {
    "papermill": {
     "duration": null,
     "end_time": null,
     "exception": null,
     "start_time": null,
     "status": "pending"
    },
    "tags": []
   },
   "source": [
    "# Hyperparameter Tuning and Optimization"
   ]
  },
  {
   "cell_type": "markdown",
   "id": "b5cfdbf6",
   "metadata": {
    "papermill": {
     "duration": null,
     "end_time": null,
     "exception": null,
     "start_time": null,
     "status": "pending"
    },
    "tags": []
   },
   "source": [
    "# Predictions "
   ]
  }
 ],
 "metadata": {
  "kaggle": {
   "accelerator": "none",
   "dataSources": [
    {
     "databundleVersionId": 7461897,
     "sourceId": 67167,
     "sourceType": "competition"
    },
    {
     "datasetId": 5236658,
     "sourceId": 8725844,
     "sourceType": "datasetVersion"
    }
   ],
   "dockerImageVersionId": 30732,
   "isGpuEnabled": false,
   "isInternetEnabled": true,
   "language": "python",
   "sourceType": "notebook"
  },
  "kernelspec": {
   "display_name": "Python 3",
   "language": "python",
   "name": "python3"
  },
  "language_info": {
   "codemirror_mode": {
    "name": "ipython",
    "version": 3
   },
   "file_extension": ".py",
   "mimetype": "text/x-python",
   "name": "python",
   "nbconvert_exporter": "python",
   "pygments_lexer": "ipython3",
   "version": "3.10.13"
  },
  "papermill": {
   "default_parameters": {},
   "duration": 93.302041,
   "end_time": "2024-06-22T23:14:11.179205",
   "environment_variables": {},
   "exception": true,
   "input_path": "__notebook__.ipynb",
   "output_path": "__notebook__.ipynb",
   "parameters": {},
   "start_time": "2024-06-22T23:12:37.877164",
   "version": "2.5.0"
  }
 },
 "nbformat": 4,
 "nbformat_minor": 5
}
